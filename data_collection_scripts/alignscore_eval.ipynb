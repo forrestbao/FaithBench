{
 "cells": [
  {
   "cell_type": "code",
   "execution_count": 1,
   "metadata": {},
   "outputs": [
    {
     "name": "stderr",
     "output_type": "stream",
     "text": [
      "/home/miaoran/.alignscore/lib/python3.11/site-packages/tqdm/auto.py:21: TqdmWarning: IProgress not found. Please update jupyter and ipywidgets. See https://ipywidgets.readthedocs.io/en/stable/user_install.html\n",
      "  from .autonotebook import tqdm as notebook_tqdm\n"
     ]
    }
   ],
   "source": [
    "from typing import Any, Generator, Protocol, List, Tuple\n",
    "import pandas as pd\n",
    "from alignscore import AlignScore\n",
    "import os\n",
    "os.environ[\"CUDA_VISIBLE_DEVICES\"] = \"0\""
   ]
  },
  {
   "cell_type": "code",
   "execution_count": 2,
   "metadata": {},
   "outputs": [],
   "source": [
    "def AlignScoreEval(filename, model_size, col_name = None, update=True, batch_size=20, outputfile=None):\n",
    "    df = pd.read_csv(filename, encoding='utf-8').fillna('')\n",
    "    if not col_name:\n",
    "        col_name = f'alignscore-{model_size}'\n",
    "    if (not update) and (col_name in df): # store HHEM scores\n",
    "        return\n",
    "    if model_size == 'base':\n",
    "        model = AlignScore(model='roberta-base', batch_size=batch_size, device='cuda:0', ckpt_path='/home/miaoran/AlignScore/AlignScore-base.ckpt', evaluation_mode='bin_sp')\n",
    "    elif model_size == 'large':\n",
    "        model = AlignScore(model='roberta-large', batch_size=batch_size, device='cuda:0', ckpt_path='/home/miaoran/AlignScore/AlignScore-large.ckpt', evaluation_mode='bin_sp')\n",
    "    \n",
    "    # scores = []\n",
    "    # n = len(df['source'].tolist())\n",
    "    # for i in range(0,n,batch_size):\n",
    "    #     pred_label, raw_prob, _, _ = model.score(docs=df['source'].tolist()[i:i+batch_size], claims=df['summary'].tolist()[i:i+\n",
    "    #                                                                                                                        batch_size])\n",
    "    #     scores.extend(pred_label)\n",
    "    scores = model.score(contexts=df['source'].tolist(), claims=df['summary'].tolist())\n",
    "\n",
    "    if col_name in df:\n",
    "        df[col_name] = scores\n",
    "    else:\n",
    "        df.insert(len(df.columns), col_name, scores)\n",
    "    if not outputfile:\n",
    "        outputfile = filename\n",
    "    df.to_csv(outputfile, mode='w', index=False, header=True)\n",
    "    print(f'AlignScore {model_size} Scores have been saved')\n"
   ]
  },
  {
   "cell_type": "code",
   "execution_count": 3,
   "metadata": {},
   "outputs": [
    {
     "name": "stdout",
     "output_type": "stream",
     "text": [
      "Run model 0: base ......\n"
     ]
    },
    {
     "name": "stderr",
     "output_type": "stream",
     "text": [
      "Some weights of RobertaModel were not initialized from the model checkpoint at roberta-base and are newly initialized: ['roberta.pooler.dense.bias', 'roberta.pooler.dense.weight']\n",
      "You should probably TRAIN this model on a down-stream task to be able to use it for predictions and inference.\n",
      "/home/miaoran/.alignscore/lib/python3.11/site-packages/lightning_fabric/utilities/cloud_io.py:51: FutureWarning: You are using `torch.load` with `weights_only=False` (the current default value), which uses the default pickle module implicitly. It is possible to construct malicious pickle data which will execute arbitrary code during unpickling (See https://github.com/pytorch/pytorch/blob/main/SECURITY.md#untrusted-models for more details). In a future release, the default value for `weights_only` will be flipped to `True`. This limits the functions that could be executed during unpickling. Arbitrary objects will no longer be allowed to be loaded via this mode unless they are explicitly allowlisted by the user via `torch.serialization.add_safe_globals`. We recommend you start setting `weights_only=True` for any use case where you don't have full control of the loaded file. Please open an issue on GitHub for any issues related to this experimental feature.\n",
      "  return torch.load(f, map_location=map_location)  # type: ignore[arg-type]\n",
      "Lightning automatically upgraded your loaded checkpoint from v1.7.7 to v1.9.5. To apply the upgrade to your files permanently, run `python -m pytorch_lightning.utilities.upgrade_checkpoint --file ../../AlignScore/AlignScore-base.ckpt`\n",
      "Some weights of RobertaModel were not initialized from the model checkpoint at roberta-base and are newly initialized: ['roberta.pooler.dense.bias', 'roberta.pooler.dense.weight']\n",
      "You should probably TRAIN this model on a down-stream task to be able to use it for predictions and inference.\n",
      "/home/miaoran/.alignscore/lib/python3.11/site-packages/pytorch_lightning/core/saving.py:255: UserWarning: Found keys that are not in the model state dict but in the checkpoint: ['base_model.embeddings.position_ids']\n",
      "  rank_zero_warn(\n",
      "Evaluating: 100%|██████████| 1150/1150 [01:52<00:00, 10.25it/s]\n"
     ]
    },
    {
     "name": "stdout",
     "output_type": "stream",
     "text": [
      "AlignScore base Scores have been saved\n",
      "Run model 1: large ......\n"
     ]
    },
    {
     "name": "stderr",
     "output_type": "stream",
     "text": [
      "Some weights of RobertaModel were not initialized from the model checkpoint at roberta-large and are newly initialized: ['roberta.pooler.dense.bias', 'roberta.pooler.dense.weight']\n",
      "You should probably TRAIN this model on a down-stream task to be able to use it for predictions and inference.\n",
      "/home/miaoran/.alignscore/lib/python3.11/site-packages/lightning_fabric/utilities/cloud_io.py:51: FutureWarning: You are using `torch.load` with `weights_only=False` (the current default value), which uses the default pickle module implicitly. It is possible to construct malicious pickle data which will execute arbitrary code during unpickling (See https://github.com/pytorch/pytorch/blob/main/SECURITY.md#untrusted-models for more details). In a future release, the default value for `weights_only` will be flipped to `True`. This limits the functions that could be executed during unpickling. Arbitrary objects will no longer be allowed to be loaded via this mode unless they are explicitly allowlisted by the user via `torch.serialization.add_safe_globals`. We recommend you start setting `weights_only=True` for any use case where you don't have full control of the loaded file. Please open an issue on GitHub for any issues related to this experimental feature.\n",
      "  return torch.load(f, map_location=map_location)  # type: ignore[arg-type]\n",
      "Lightning automatically upgraded your loaded checkpoint from v1.8.0.post1 to v1.9.5. To apply the upgrade to your files permanently, run `python -m pytorch_lightning.utilities.upgrade_checkpoint --file ../../AlignScore/AlignScore-large.ckpt`\n",
      "Some weights of RobertaModel were not initialized from the model checkpoint at roberta-large and are newly initialized: ['roberta.pooler.dense.bias', 'roberta.pooler.dense.weight']\n",
      "You should probably TRAIN this model on a down-stream task to be able to use it for predictions and inference.\n",
      "/home/miaoran/.alignscore/lib/python3.11/site-packages/pytorch_lightning/core/saving.py:255: UserWarning: Found keys that are not in the model state dict but in the checkpoint: ['base_model.embeddings.position_ids']\n",
      "  rank_zero_warn(\n",
      "Evaluating: 100%|██████████| 1150/1150 [04:58<00:00,  3.85it/s]\n"
     ]
    },
    {
     "name": "stdout",
     "output_type": "stream",
     "text": [
      "AlignScore large Scores have been saved\n"
     ]
    }
   ],
   "source": [
    "model_sizes = ['base', 'large']\n",
    "\n",
    "for idx, model_size in enumerate(model_sizes):\n",
    "    print(f\"Run model {str(idx)}: {model_size} ......\")\n",
    "    filename = f\"../assign/examples_to_annotate.csv\"\n",
    "    AlignScoreEval(filename, model_size=model_size, update=False)\n"
   ]
  }
 ],
 "metadata": {
  "kernelspec": {
   "display_name": ".alignscore",
   "language": "python",
   "name": "python3"
  },
  "language_info": {
   "codemirror_mode": {
    "name": "ipython",
    "version": 3
   },
   "file_extension": ".py",
   "mimetype": "text/x-python",
   "name": "python",
   "nbconvert_exporter": "python",
   "pygments_lexer": "ipython3",
   "version": "3.11.2"
  }
 },
 "nbformat": 4,
 "nbformat_minor": 2
}
