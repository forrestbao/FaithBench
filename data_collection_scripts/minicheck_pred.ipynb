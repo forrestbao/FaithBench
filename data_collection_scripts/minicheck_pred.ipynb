{
 "cells": [
  {
   "cell_type": "code",
   "execution_count": null,
   "metadata": {},
   "outputs": [
    {
     "name": "stderr",
     "output_type": "stream",
     "text": [
      "/home/miaoran/.env/lib/python3.11/site-packages/tqdm/auto.py:21: TqdmWarning: IProgress not found. Please update jupyter and ipywidgets. See https://ipywidgets.readthedocs.io/en/stable/user_install.html\n",
      "  from .autonotebook import tqdm as notebook_tqdm\n"
     ]
    }
   ],
   "source": [
    "from typing import Any, Generator, Protocol, List, Tuple\n",
    "import pandas as pd\n",
    "# import nltk\n",
    "# nltk.download('punkt_tab')\n",
    "from sklearn.metrics import balanced_accuracy_score, f1_score, precision_score, recall_score\n",
    "from minicheck.minicheck import MiniCheck\n",
    "import json\n",
    "import os\n",
    "import sys\n",
    "# caution: path[0] is reserved for script path (or '' in REPL)\n",
    "sys.path.insert(1, '../eval')\n",
    "from utils import *\n",
    "\n",
    "os.environ[\"CUDA_VISIBLE_DEVICES\"] = \"0\""
   ]
  },
  {
   "cell_type": "code",
   "execution_count": null,
   "metadata": {},
   "outputs": [],
   "source": [
    "minicheck_models = ['roberta-large', 'deberta-v3-large', 'flan-t5-large']#, 'Bespoke-MiniCheck-7B']"
   ]
  },
  {
   "cell_type": "code",
   "execution_count": null,
   "metadata": {},
   "outputs": [],
   "source": [
    "def MinicheckEval(model_name, sources, summaries):\n",
    "    model = MiniCheck(model_name=model_name, cache_dir='./ckpts')\n",
    "    pred_label, raw_prob, _, _ = model.score(docs=sources, claims=summaries)\n",
    "    print(pred_label)\n",
    "    return pred_label\n"
   ]
  },
  {
   "cell_type": "markdown",
   "metadata": {},
   "source": [
    "## Sample-level Prediction"
   ]
  },
  {
   "cell_type": "code",
   "execution_count": null,
   "metadata": {},
   "outputs": [],
   "source": [
    "filename = f\"../assign/examples_to_annotate.csv\"\n",
    "batch_size = 15\n",
    "for idx, minichecker in enumerate(minicheck_models):\n",
    "    print(f\"Run model {str(idx)}: {minichecker} ......\")\n",
    "    df = pd.read_csv(filename, encoding='utf-8').fillna('')\n",
    "    col_name = f'minicheck-{minichecker}'\n",
    "    scores = []\n",
    "    n = len(df['source'].tolist())\n",
    "    for i in range(0,n,batch_size):\n",
    "        pred_label = MinicheckEval(minichecker, df['source'].tolist()[i:i+batch_size], df['summary'].tolist()[i:i+batch_size])                                                                                                        batch_size])\n",
    "        scores.extend(pred_label)\n",
    "\n",
    "    if col_name in df:\n",
    "        df[col_name] = scores\n",
    "    else:\n",
    "        df.insert(len(df.columns), col_name, scores)\n",
    "    outputfile = filename\n",
    "    df.to_csv(outputfile, mode='w', index=False, header=True)\n"
   ]
  },
  {
   "cell_type": "markdown",
   "metadata": {},
   "source": [
    "## Sent-level Prediction"
   ]
  },
  {
   "cell_type": "code",
   "execution_count": null,
   "metadata": {},
   "outputs": [],
   "source": [
    "sent_level_labels = {}\n",
    "result_files, skip_sample_ids, selected_annotators, num_annotators = process_result_files()\n",
    "for file_path in result_files:\n",
    "    _, _, _, batch_sent_level_labels = read_annotation(file_path, skip_sample_ids=skip_sample_ids)\n",
    "    # print(batch_sent_level_labels)\n",
    "    sent_level_labels.update(batch_sent_level_labels)"
   ]
  },
  {
   "cell_type": "code",
   "execution_count": null,
   "metadata": {},
   "outputs": [
    {
     "name": "stdout",
     "output_type": "stream",
     "text": [
      "Run model 0 - roberta-large\n",
      "{\"Here's a concise summary of the passage, covering the core pieces of information:\\n\\n\": {'labels': ['Consistent'], 'alignscore-base': 0.0026, 'alignscore-large': 0.04955, 'HHEMv1': 0.36422, 'HHEM-2.1': 0.70906, 'HHEM-2.1-English': 0.74753, 'HHEM-2.1-Open': 0.79617}, 'The passage contains two unrelated pieces of information:\\n\\n': {'labels': ['Consistent'], 'alignscore-base': 0.05622, 'alignscore-large': 0.86291, 'HHEMv1': 0.08295, 'HHEM-2.1': 0.71762, 'HHEM-2.1-English': 0.65195, 'HHEM-2.1-Open': 0.71545}, '1. Anne Rice: \\n- Born in New Orleans\\n- Spent much of her early life in New Orleans\\n- Later moved to Texas and then to San Francisco\\n\\n': {'labels': ['Consistent'], 'alignscore-base': 0.46265, 'alignscore-large': 0.50817, 'HHEMv1': 0.96417, 'HHEM-2.1': 0.98892, 'HHEM-2.1-English': 0.99657, 'HHEM-2.1-Open': 0.97752}, '2. Route 495:\\n- A 3.45-mile freeway in Hudson County, New Jersey, USA\\n- Connects the New Jersey Turnpike (I-95) at exits 16E and 17 in Secaucus\\n- Extends to New York State Route 495 inside the Lincoln Tunnel in Weehawken\\n- Provides access to Midtown Manhattan': {'labels': ['Consistent'], 'alignscore-base': 0.49243, 'alignscore-large': 0.51646, 'HHEMv1': 0.95661, 'HHEM-2.1': 0.98928, 'HHEM-2.1-English': 0.99691, 'HHEM-2.1-Open': 0.98486}}\n"
     ]
    },
    {
     "name": "stderr",
     "output_type": "stream",
     "text": [
      "Evaluating: 100%|██████████| 1/1 [00:00<00:00,  3.60it/s]\n"
     ]
    },
    {
     "name": "stdout",
     "output_type": "stream",
     "text": [
      "[0]\n"
     ]
    },
    {
     "name": "stderr",
     "output_type": "stream",
     "text": [
      "Evaluating: 100%|██████████| 1/1 [00:00<00:00, 46.32it/s]\n"
     ]
    },
    {
     "name": "stdout",
     "output_type": "stream",
     "text": [
      "[0]\n"
     ]
    },
    {
     "name": "stderr",
     "output_type": "stream",
     "text": [
      "Evaluating: 100%|██████████| 1/1 [00:00<00:00, 45.93it/s]\n"
     ]
    },
    {
     "name": "stdout",
     "output_type": "stream",
     "text": [
      "[1]\n"
     ]
    },
    {
     "name": "stderr",
     "output_type": "stream",
     "text": [
      "Evaluating: 100%|██████████| 1/1 [00:00<00:00, 42.17it/s]\n"
     ]
    },
    {
     "name": "stdout",
     "output_type": "stream",
     "text": [
      "[1]\n",
      "{\"Here's a concise summary of the passage, covering the core pieces of information:\\n\\n\": {'labels': ['Consistent'], 'alignscore-base': 0.0026, 'alignscore-large': 0.04955, 'HHEMv1': 0.36422, 'HHEM-2.1': 0.70906, 'HHEM-2.1-English': 0.74753, 'HHEM-2.1-Open': 0.79617, 'minicheck-roberta-large': 0}, 'The passage contains two unrelated pieces of information:\\n\\n': {'labels': ['Consistent'], 'alignscore-base': 0.05622, 'alignscore-large': 0.86291, 'HHEMv1': 0.08295, 'HHEM-2.1': 0.71762, 'HHEM-2.1-English': 0.65195, 'HHEM-2.1-Open': 0.71545, 'minicheck-roberta-large': 0}, '1. Anne Rice: \\n- Born in New Orleans\\n- Spent much of her early life in New Orleans\\n- Later moved to Texas and then to San Francisco\\n\\n': {'labels': ['Consistent'], 'alignscore-base': 0.46265, 'alignscore-large': 0.50817, 'HHEMv1': 0.96417, 'HHEM-2.1': 0.98892, 'HHEM-2.1-English': 0.99657, 'HHEM-2.1-Open': 0.97752, 'minicheck-roberta-large': 1}, '2. Route 495:\\n- A 3.45-mile freeway in Hudson County, New Jersey, USA\\n- Connects the New Jersey Turnpike (I-95) at exits 16E and 17 in Secaucus\\n- Extends to New York State Route 495 inside the Lincoln Tunnel in Weehawken\\n- Provides access to Midtown Manhattan': {'labels': ['Consistent'], 'alignscore-base': 0.49243, 'alignscore-large': 0.51646, 'HHEMv1': 0.95661, 'HHEM-2.1': 0.98928, 'HHEM-2.1-English': 0.99691, 'HHEM-2.1-Open': 0.98486, 'minicheck-roberta-large': 1}}\n",
      "{\"Here's a concise summary of the passage, covering the core pieces of information:\\n\\n\": {'labels': ['Consistent'], 'alignscore-base': 0.00158, 'alignscore-large': 0.18221, 'HHEMv1': 0.12795, 'HHEM-2.1': 0.35209, 'HHEM-2.1-English': 0.44426, 'HHEM-2.1-Open': 0.85748}, 'The passage describes two different films titled \"Home for the Holidays\":\\n\\n': {'labels': ['Consistent'], 'alignscore-base': 0.53573, 'alignscore-large': 0.81642, 'HHEMv1': 0.72958, 'HHEM-2.1': 0.87018, 'HHEM-2.1-English': 0.91655, 'HHEM-2.1-Open': 0.91585}, '1. A 1972 American made-for-television horror film:\\n- Directed by John Llewellyn Moxey\\n- Produced by Aaron Spelling\\n- Starred Sally Field, Eleanor Parker, Julie Harris, Jessica Walter, and Walter Brennan\\n- Premiered on ABC on November 28, 1972\\n\\n': {'labels': ['Consistent'], 'alignscore-base': 0.40259, 'alignscore-large': 0.56035, 'HHEMv1': 0.89509, 'HHEM-2.1': 0.98496, 'HHEM-2.1-English': 0.99182, 'HHEM-2.1-Open': 0.97745}, '2. A 1995 film:\\n- Starred Holly Hunter, Robert Downey Jr., Anne Bancroft, Charles Durning, Dylan McDermott, Geraldine Chaplin, Steve Guttenberg, Cynthia Stevenson, Claire Danes, Austin Pendleton, and David Strathairn\\n\\n': {'labels': ['Consistent'], 'alignscore-base': 0.50913, 'alignscore-large': 0.59188, 'HHEMv1': 0.55223, 'HHEM-2.1': 0.98119, 'HHEM-2.1-English': 0.99579, 'HHEM-2.1-Open': 0.99379}, 'The passage provides basic information about these two separate films that share the same title but are from different years and genres.': {'labels': ['Unwanted.Extrinsic', 'Unwanted', 'Questionable', 'Unwanted.Instrinsic'], 'alignscore-base': 0.49891, 'alignscore-large': 0.76283, 'HHEMv1': 0.80271, 'HHEM-2.1': 0.83574, 'HHEM-2.1-English': 0.94758, 'HHEM-2.1-Open': 0.9201}}\n"
     ]
    },
    {
     "name": "stderr",
     "output_type": "stream",
     "text": [
      "Evaluating: 100%|██████████| 1/1 [00:00<00:00, 48.50it/s]\n"
     ]
    },
    {
     "name": "stdout",
     "output_type": "stream",
     "text": [
      "[0]\n"
     ]
    },
    {
     "name": "stderr",
     "output_type": "stream",
     "text": [
      "Evaluating: 100%|██████████| 1/1 [00:00<00:00, 47.15it/s]\n"
     ]
    },
    {
     "name": "stdout",
     "output_type": "stream",
     "text": [
      "[0]\n"
     ]
    },
    {
     "name": "stderr",
     "output_type": "stream",
     "text": [
      "Evaluating: 100%|██████████| 1/1 [00:00<00:00, 45.58it/s]\n"
     ]
    },
    {
     "name": "stdout",
     "output_type": "stream",
     "text": [
      "[1]\n"
     ]
    },
    {
     "name": "stderr",
     "output_type": "stream",
     "text": [
      "Evaluating: 100%|██████████| 1/1 [00:00<00:00, 44.38it/s]\n"
     ]
    },
    {
     "name": "stdout",
     "output_type": "stream",
     "text": [
      "[1]\n"
     ]
    },
    {
     "name": "stderr",
     "output_type": "stream",
     "text": [
      "Evaluating: 100%|██████████| 1/1 [00:00<00:00, 45.03it/s]\n"
     ]
    },
    {
     "name": "stdout",
     "output_type": "stream",
     "text": [
      "[0]\n",
      "{\"Here's a concise summary of the passage, covering the core pieces of information:\\n\\n\": {'labels': ['Consistent'], 'alignscore-base': 0.00158, 'alignscore-large': 0.18221, 'HHEMv1': 0.12795, 'HHEM-2.1': 0.35209, 'HHEM-2.1-English': 0.44426, 'HHEM-2.1-Open': 0.85748, 'minicheck-roberta-large': 0}, 'The passage describes two different films titled \"Home for the Holidays\":\\n\\n': {'labels': ['Consistent'], 'alignscore-base': 0.53573, 'alignscore-large': 0.81642, 'HHEMv1': 0.72958, 'HHEM-2.1': 0.87018, 'HHEM-2.1-English': 0.91655, 'HHEM-2.1-Open': 0.91585, 'minicheck-roberta-large': 0}, '1. A 1972 American made-for-television horror film:\\n- Directed by John Llewellyn Moxey\\n- Produced by Aaron Spelling\\n- Starred Sally Field, Eleanor Parker, Julie Harris, Jessica Walter, and Walter Brennan\\n- Premiered on ABC on November 28, 1972\\n\\n': {'labels': ['Consistent'], 'alignscore-base': 0.40259, 'alignscore-large': 0.56035, 'HHEMv1': 0.89509, 'HHEM-2.1': 0.98496, 'HHEM-2.1-English': 0.99182, 'HHEM-2.1-Open': 0.97745, 'minicheck-roberta-large': 1}, '2. A 1995 film:\\n- Starred Holly Hunter, Robert Downey Jr., Anne Bancroft, Charles Durning, Dylan McDermott, Geraldine Chaplin, Steve Guttenberg, Cynthia Stevenson, Claire Danes, Austin Pendleton, and David Strathairn\\n\\n': {'labels': ['Consistent'], 'alignscore-base': 0.50913, 'alignscore-large': 0.59188, 'HHEMv1': 0.55223, 'HHEM-2.1': 0.98119, 'HHEM-2.1-English': 0.99579, 'HHEM-2.1-Open': 0.99379, 'minicheck-roberta-large': 1}, 'The passage provides basic information about these two separate films that share the same title but are from different years and genres.': {'labels': ['Unwanted.Extrinsic', 'Unwanted', 'Questionable', 'Unwanted.Instrinsic'], 'alignscore-base': 0.49891, 'alignscore-large': 0.76283, 'HHEMv1': 0.80271, 'HHEM-2.1': 0.83574, 'HHEM-2.1-English': 0.94758, 'HHEM-2.1-Open': 0.9201, 'minicheck-roberta-large': 0}}\n",
      "{\"Here's a concise summary of the passage, covering the core pieces of information:\\n\\n\": {'labels': ['Consistent'], 'alignscore-base': 0.00345, 'alignscore-large': 0.4123, 'HHEMv1': 0.27317, 'HHEM-2.1': 0.72848, 'HHEM-2.1-English': 0.89747, 'HHEM-2.1-Open': 0.86405}, 'The passage describes two different individuals named James Jones:\\n\\n': {'labels': ['Consistent'], 'alignscore-base': 0.24057, 'alignscore-large': 0.96029, 'HHEMv1': 0.46568, 'HHEM-2.1': 0.94847, 'HHEM-2.1-English': 0.993, 'HHEM-2.1-Open': 0.94694}, '1. James Jones (author):\\n- Won the 1952 National Book Award for his first novel, \"From Here to Eternity\"\\n- His novel was adapted into both a film and a television series\\n\\n': {'labels': ['Consistent'], 'alignscore-base': 0.0268, 'alignscore-large': 0.51552, 'HHEMv1': 0.98209, 'HHEM-2.1': 0.98079, 'HHEM-2.1-English': 0.99707, 'HHEM-2.1-Open': 0.94662}, '2. James Jones (basketball player):\\n- Excelled in high school, averaging 25 points per game as a senior\\n- Earned Class 6A Player of the Year and First Team All-State honors\\n- Won three NBA championships (two with the Heat, one with the Cavaliers)\\n- Reached seven consecutive NBA Finals with teammate LeBron James\\n- Finished third in NBA three-point percentage in 2007-08 season\\n- Won the Three-Point Contest in 2011\\n': {'labels': ['Consistent'], 'alignscore-base': 0.26491, 'alignscore-large': 0.50855, 'HHEMv1': 0.9778, 'HHEM-2.1': 0.98252, 'HHEM-2.1-English': 0.98153, 'HHEM-2.1-Open': 0.68934}}\n"
     ]
    },
    {
     "name": "stderr",
     "output_type": "stream",
     "text": [
      "Evaluating: 100%|██████████| 1/1 [00:00<00:00, 43.93it/s]\n"
     ]
    },
    {
     "name": "stdout",
     "output_type": "stream",
     "text": [
      "[0]\n"
     ]
    },
    {
     "name": "stderr",
     "output_type": "stream",
     "text": [
      "Evaluating: 100%|██████████| 1/1 [00:00<00:00, 44.04it/s]\n"
     ]
    },
    {
     "name": "stdout",
     "output_type": "stream",
     "text": [
      "[1]\n"
     ]
    },
    {
     "name": "stderr",
     "output_type": "stream",
     "text": [
      "Evaluating: 100%|██████████| 1/1 [00:00<00:00, 45.38it/s]\n"
     ]
    },
    {
     "name": "stdout",
     "output_type": "stream",
     "text": [
      "[0]\n"
     ]
    },
    {
     "name": "stderr",
     "output_type": "stream",
     "text": [
      "Evaluating: 100%|██████████| 1/1 [00:00<00:00, 45.09it/s]\n"
     ]
    },
    {
     "name": "stdout",
     "output_type": "stream",
     "text": [
      "[0]\n",
      "{\"Here's a concise summary of the passage, covering the core pieces of information:\\n\\n\": {'labels': ['Consistent'], 'alignscore-base': 0.00345, 'alignscore-large': 0.4123, 'HHEMv1': 0.27317, 'HHEM-2.1': 0.72848, 'HHEM-2.1-English': 0.89747, 'HHEM-2.1-Open': 0.86405, 'minicheck-roberta-large': 0}, 'The passage describes two different individuals named James Jones:\\n\\n': {'labels': ['Consistent'], 'alignscore-base': 0.24057, 'alignscore-large': 0.96029, 'HHEMv1': 0.46568, 'HHEM-2.1': 0.94847, 'HHEM-2.1-English': 0.993, 'HHEM-2.1-Open': 0.94694, 'minicheck-roberta-large': 1}, '1. James Jones (author):\\n- Won the 1952 National Book Award for his first novel, \"From Here to Eternity\"\\n- His novel was adapted into both a film and a television series\\n\\n': {'labels': ['Consistent'], 'alignscore-base': 0.0268, 'alignscore-large': 0.51552, 'HHEMv1': 0.98209, 'HHEM-2.1': 0.98079, 'HHEM-2.1-English': 0.99707, 'HHEM-2.1-Open': 0.94662, 'minicheck-roberta-large': 0}, '2. James Jones (basketball player):\\n- Excelled in high school, averaging 25 points per game as a senior\\n- Earned Class 6A Player of the Year and First Team All-State honors\\n- Won three NBA championships (two with the Heat, one with the Cavaliers)\\n- Reached seven consecutive NBA Finals with teammate LeBron James\\n- Finished third in NBA three-point percentage in 2007-08 season\\n- Won the Three-Point Contest in 2011\\n': {'labels': ['Consistent'], 'alignscore-base': 0.26491, 'alignscore-large': 0.50855, 'HHEMv1': 0.9778, 'HHEM-2.1': 0.98252, 'HHEM-2.1-English': 0.98153, 'HHEM-2.1-Open': 0.68934, 'minicheck-roberta-large': 0}}\n",
      "{\" An Omura's whale, previously feared extinct, washed up on a remote Eighty-Eight Beach in Western Australia. \": {'labels': ['Unwanted', 'Unwanted.Extrinsic'], 'alignscore-base': 0.00209, 'alignscore-large': 0.00156, 'HHEMv1': 0.71385, 'HHEM-2.1': 0.05577, 'HHEM-2.1-English': 0.0401, 'HHEM-2.1-Open': 0.14578}, 'This is the first sighting in the region and only the second in Australia. ': {'labels': ['Consistent'], 'alignscore-base': 0.04005, 'alignscore-large': 0.52427, 'HHEMv1': 0.9508, 'HHEM-2.1': 0.98639, 'HHEM-2.1-English': 0.99357, 'HHEM-2.1-Open': 0.9671}, 'The discovery, made after Tropical Cyclone Olwyn, provided scientists with an opportunity to learn more about the species, which was only described in scientific journals in 2003. ': {'labels': ['Unwanted.Instrinsic', 'Unwanted'], 'alignscore-base': 0.03691, 'alignscore-large': 0.69336, 'HHEMv1': 0.99756, 'HHEM-2.1': 0.98022, 'HHEM-2.1-English': 0.99821, 'HHEM-2.1-Open': 0.96368}, 'The whale, a juvenile female, has unique features such as 53 vertebrae and four digits on each pectoral fin. ': {'labels': ['Benign'], 'alignscore-base': 0.11551, 'alignscore-large': 0.5747, 'HHEMv1': 0.84795, 'HHEM-2.1': 0.48432, 'HHEM-2.1-English': 0.5289, 'HHEM-2.1-Open': 0.98053}, 'The carcass has been buried, and the skeleton will be recovered for further scientific investigation and potential public display. ': {'labels': ['Consistent'], 'alignscore-base': 0.41586, 'alignscore-large': 0.67578, 'HHEMv1': 0.98196, 'HHEM-2.1': 0.89815, 'HHEM-2.1-English': 0.99201, 'HHEM-2.1-Open': 0.97564}, 'The species is usually found in Indonesian waters, the Philippines, and the Sea of Japan.\\n\\n': {'labels': ['Consistent'], 'alignscore-base': 0.00959, 'alignscore-large': 0.60502, 'HHEMv1': 0.96256, 'HHEM-2.1': 0.97545, 'HHEM-2.1-English': 0.99811, 'HHEM-2.1-Open': 0.95141}, 'Note: The passage mentions 60 vertebrae, but the correct number is 53. ': {'labels': ['Questionable', 'Benign'], 'alignscore-base': 0.00951, 'alignscore-large': 0.09905, 'HHEMv1': 0.70978, 'HHEM-2.1': 0.58913, 'HHEM-2.1-English': 0.23011, 'HHEM-2.1-Open': 0.87126}, 'This has been corrected in the summary.\\n\\n': {'labels': ['Questionable'], 'alignscore-base': 0.00443, 'alignscore-large': 0.26272, 'HHEMv1': 0.24831, 'HHEM-2.1': 0.36499, 'HHEM-2.1-English': 0.14589, 'HHEM-2.1-Open': 0.17001}, \"Summary:\\nA previously feared extinct Omura's whale washed up on a remote beach in Western Australia, providing scientists with a chance to learn more about the species. \": {'labels': ['Questionable', 'Unwanted', 'Unwanted.Extrinsic', 'Benign'], 'alignscore-base': 0.01881, 'alignscore-large': 0.48097, 'HHEMv1': 0.99927, 'HHEM-2.1': 0.94228, 'HHEM-2.1-English': 0.99517, 'HHEM-2.1-Open': 0.98003}, 'This is the first sighting in the region and only the second in Australia.': {'labels': ['Consistent'], 'alignscore-base': 0.04005, 'alignscore-large': 0.52427, 'HHEMv1': 0.9508, 'HHEM-2.1': 0.98639, 'HHEM-2.1-English': 0.99357, 'HHEM-2.1-Open': 0.96652}}\n"
     ]
    },
    {
     "name": "stderr",
     "output_type": "stream",
     "text": [
      "Evaluating: 100%|██████████| 1/1 [00:00<00:00, 26.86it/s]\n"
     ]
    },
    {
     "name": "stdout",
     "output_type": "stream",
     "text": [
      "[0]\n"
     ]
    },
    {
     "name": "stderr",
     "output_type": "stream",
     "text": [
      "Evaluating: 100%|██████████| 1/1 [00:00<00:00, 34.75it/s]\n"
     ]
    },
    {
     "name": "stdout",
     "output_type": "stream",
     "text": [
      "[0]\n"
     ]
    },
    {
     "name": "stderr",
     "output_type": "stream",
     "text": [
      "Evaluating: 100%|██████████| 1/1 [00:00<00:00, 27.23it/s]\n"
     ]
    },
    {
     "name": "stdout",
     "output_type": "stream",
     "text": [
      "[1]\n"
     ]
    },
    {
     "name": "stderr",
     "output_type": "stream",
     "text": [
      "Evaluating: 100%|██████████| 1/1 [00:00<00:00, 29.21it/s]\n"
     ]
    },
    {
     "name": "stdout",
     "output_type": "stream",
     "text": [
      "[1]\n"
     ]
    },
    {
     "name": "stderr",
     "output_type": "stream",
     "text": [
      "Evaluating: 100%|██████████| 1/1 [00:00<00:00, 33.52it/s]\n"
     ]
    },
    {
     "name": "stdout",
     "output_type": "stream",
     "text": [
      "[0]\n"
     ]
    },
    {
     "name": "stderr",
     "output_type": "stream",
     "text": [
      "Evaluating: 100%|██████████| 1/1 [00:00<00:00, 28.89it/s]\n"
     ]
    },
    {
     "name": "stdout",
     "output_type": "stream",
     "text": [
      "[0]\n"
     ]
    },
    {
     "name": "stderr",
     "output_type": "stream",
     "text": [
      "Evaluating: 100%|██████████| 1/1 [00:00<00:00, 29.19it/s]\n"
     ]
    },
    {
     "name": "stdout",
     "output_type": "stream",
     "text": [
      "[0]\n"
     ]
    },
    {
     "name": "stderr",
     "output_type": "stream",
     "text": [
      "Evaluating: 100%|██████████| 1/1 [00:00<00:00, 32.85it/s]\n"
     ]
    },
    {
     "name": "stdout",
     "output_type": "stream",
     "text": [
      "[0]\n"
     ]
    },
    {
     "name": "stderr",
     "output_type": "stream",
     "text": [
      "Evaluating: 100%|██████████| 1/1 [00:00<00:00, 27.25it/s]\n"
     ]
    },
    {
     "name": "stdout",
     "output_type": "stream",
     "text": [
      "[1]\n"
     ]
    },
    {
     "name": "stderr",
     "output_type": "stream",
     "text": [
      "Evaluating: 100%|██████████| 1/1 [00:00<00:00, 30.86it/s]\n"
     ]
    },
    {
     "name": "stdout",
     "output_type": "stream",
     "text": [
      "[0]\n",
      "{\" An Omura's whale, previously feared extinct, washed up on a remote Eighty-Eight Beach in Western Australia. \": {'labels': ['Unwanted', 'Unwanted.Extrinsic'], 'alignscore-base': 0.00209, 'alignscore-large': 0.00156, 'HHEMv1': 0.71385, 'HHEM-2.1': 0.05577, 'HHEM-2.1-English': 0.0401, 'HHEM-2.1-Open': 0.14578, 'minicheck-roberta-large': 0}, 'This is the first sighting in the region and only the second in Australia. ': {'labels': ['Consistent'], 'alignscore-base': 0.04005, 'alignscore-large': 0.52427, 'HHEMv1': 0.9508, 'HHEM-2.1': 0.98639, 'HHEM-2.1-English': 0.99357, 'HHEM-2.1-Open': 0.9671, 'minicheck-roberta-large': 0}, 'The discovery, made after Tropical Cyclone Olwyn, provided scientists with an opportunity to learn more about the species, which was only described in scientific journals in 2003. ': {'labels': ['Unwanted.Instrinsic', 'Unwanted'], 'alignscore-base': 0.03691, 'alignscore-large': 0.69336, 'HHEMv1': 0.99756, 'HHEM-2.1': 0.98022, 'HHEM-2.1-English': 0.99821, 'HHEM-2.1-Open': 0.96368, 'minicheck-roberta-large': 1}, 'The whale, a juvenile female, has unique features such as 53 vertebrae and four digits on each pectoral fin. ': {'labels': ['Benign'], 'alignscore-base': 0.11551, 'alignscore-large': 0.5747, 'HHEMv1': 0.84795, 'HHEM-2.1': 0.48432, 'HHEM-2.1-English': 0.5289, 'HHEM-2.1-Open': 0.98053, 'minicheck-roberta-large': 1}, 'The carcass has been buried, and the skeleton will be recovered for further scientific investigation and potential public display. ': {'labels': ['Consistent'], 'alignscore-base': 0.41586, 'alignscore-large': 0.67578, 'HHEMv1': 0.98196, 'HHEM-2.1': 0.89815, 'HHEM-2.1-English': 0.99201, 'HHEM-2.1-Open': 0.97564, 'minicheck-roberta-large': 0}, 'The species is usually found in Indonesian waters, the Philippines, and the Sea of Japan.\\n\\n': {'labels': ['Consistent'], 'alignscore-base': 0.00959, 'alignscore-large': 0.60502, 'HHEMv1': 0.96256, 'HHEM-2.1': 0.97545, 'HHEM-2.1-English': 0.99811, 'HHEM-2.1-Open': 0.95141, 'minicheck-roberta-large': 0}, 'Note: The passage mentions 60 vertebrae, but the correct number is 53. ': {'labels': ['Questionable', 'Benign'], 'alignscore-base': 0.00951, 'alignscore-large': 0.09905, 'HHEMv1': 0.70978, 'HHEM-2.1': 0.58913, 'HHEM-2.1-English': 0.23011, 'HHEM-2.1-Open': 0.87126, 'minicheck-roberta-large': 0}, 'This has been corrected in the summary.\\n\\n': {'labels': ['Questionable'], 'alignscore-base': 0.00443, 'alignscore-large': 0.26272, 'HHEMv1': 0.24831, 'HHEM-2.1': 0.36499, 'HHEM-2.1-English': 0.14589, 'HHEM-2.1-Open': 0.17001, 'minicheck-roberta-large': 0}, \"Summary:\\nA previously feared extinct Omura's whale washed up on a remote beach in Western Australia, providing scientists with a chance to learn more about the species. \": {'labels': ['Questionable', 'Unwanted', 'Unwanted.Extrinsic', 'Benign'], 'alignscore-base': 0.01881, 'alignscore-large': 0.48097, 'HHEMv1': 0.99927, 'HHEM-2.1': 0.94228, 'HHEM-2.1-English': 0.99517, 'HHEM-2.1-Open': 0.98003, 'minicheck-roberta-large': 1}, 'This is the first sighting in the region and only the second in Australia.': {'labels': ['Consistent'], 'alignscore-base': 0.04005, 'alignscore-large': 0.52427, 'HHEMv1': 0.9508, 'HHEM-2.1': 0.98639, 'HHEM-2.1-English': 0.99357, 'HHEM-2.1-Open': 0.96652, 'minicheck-roberta-large': 0}}\n",
      "{' Conor McGregor is preparing for a featherweight title challenge against Jose Aldo on July 11 in Las Vegas. ': {'labels': ['Consistent'], 'alignscore-base': 0.71694, 'alignscore-large': 0.22063, 'HHEMv1': 0.01522, 'HHEM-2.1': 0.98987, 'HHEM-2.1-English': 0.99912, 'HHEM-2.1-Open': 0.98039}, 'Prior to this, McGregor has revealed a new tattoo of a tiger\\'s face on his stomach, which he described as a warning that \"if you see the tiger, it\\'s too late. You\\'re food.\" ': {'labels': ['Consistent'], 'alignscore-base': 0.00362, 'alignscore-large': 0.05697, 'HHEMv1': 0.97229, 'HHEM-2.1': 0.98277, 'HHEM-2.1-English': 0.99449, 'HHEM-2.1-Open': 0.93399}, 'McGregor claims Aldo lacks the same motivation as him for the title fight. ': {'labels': ['Consistent'], 'alignscore-base': 0.30266, 'alignscore-large': 0.63303, 'HHEMv1': 0.72994, 'HHEM-2.1': 0.94405, 'HHEM-2.1-English': 0.99662, 'HHEM-2.1-Open': 0.95421}, \"During a promotional tour in Dublin, McGregor grabbed Aldo's belt and raised it in front of 5,000 home supporters, escalating their already fractious relationship. \": {'labels': ['Benign'], 'alignscore-base': 0.02814, 'alignscore-large': 0.03252, 'HHEMv1': 0.87556, 'HHEM-2.1': 0.94728, 'HHEM-2.1-English': 0.98276, 'HHEM-2.1-Open': 0.97297}, \"The title fight will mark the eighth defense of Aldo's belt, but McGregor believes he has greater motivation to win the title.\": {'labels': ['Consistent'], 'alignscore-base': 0.07437, 'alignscore-large': 0.04893, 'HHEMv1': 0.50443, 'HHEM-2.1': 0.87246, 'HHEM-2.1-English': 0.98966, 'HHEM-2.1-Open': 0.946}}\n"
     ]
    },
    {
     "name": "stderr",
     "output_type": "stream",
     "text": [
      "Evaluating: 100%|██████████| 1/1 [00:00<00:00, 26.87it/s]\n"
     ]
    },
    {
     "name": "stdout",
     "output_type": "stream",
     "text": [
      "[1]\n"
     ]
    },
    {
     "name": "stderr",
     "output_type": "stream",
     "text": [
      "Evaluating: 100%|██████████| 1/1 [00:00<00:00, 27.64it/s]\n"
     ]
    },
    {
     "name": "stdout",
     "output_type": "stream",
     "text": [
      "[0]\n"
     ]
    },
    {
     "name": "stderr",
     "output_type": "stream",
     "text": [
      "Evaluating: 100%|██████████| 1/1 [00:00<00:00, 29.63it/s]\n"
     ]
    },
    {
     "name": "stdout",
     "output_type": "stream",
     "text": [
      "[1]\n"
     ]
    },
    {
     "name": "stderr",
     "output_type": "stream",
     "text": [
      "Evaluating: 100%|██████████| 1/1 [00:00<00:00, 28.87it/s]\n"
     ]
    },
    {
     "name": "stdout",
     "output_type": "stream",
     "text": [
      "[1]\n"
     ]
    },
    {
     "name": "stderr",
     "output_type": "stream",
     "text": [
      "Evaluating: 100%|██████████| 1/1 [00:00<00:00, 28.16it/s]\n"
     ]
    },
    {
     "name": "stdout",
     "output_type": "stream",
     "text": [
      "[1]\n",
      "{' Conor McGregor is preparing for a featherweight title challenge against Jose Aldo on July 11 in Las Vegas. ': {'labels': ['Consistent'], 'alignscore-base': 0.71694, 'alignscore-large': 0.22063, 'HHEMv1': 0.01522, 'HHEM-2.1': 0.98987, 'HHEM-2.1-English': 0.99912, 'HHEM-2.1-Open': 0.98039, 'minicheck-roberta-large': 1}, 'Prior to this, McGregor has revealed a new tattoo of a tiger\\'s face on his stomach, which he described as a warning that \"if you see the tiger, it\\'s too late. You\\'re food.\" ': {'labels': ['Consistent'], 'alignscore-base': 0.00362, 'alignscore-large': 0.05697, 'HHEMv1': 0.97229, 'HHEM-2.1': 0.98277, 'HHEM-2.1-English': 0.99449, 'HHEM-2.1-Open': 0.93399, 'minicheck-roberta-large': 0}, 'McGregor claims Aldo lacks the same motivation as him for the title fight. ': {'labels': ['Consistent'], 'alignscore-base': 0.30266, 'alignscore-large': 0.63303, 'HHEMv1': 0.72994, 'HHEM-2.1': 0.94405, 'HHEM-2.1-English': 0.99662, 'HHEM-2.1-Open': 0.95421, 'minicheck-roberta-large': 1}, \"During a promotional tour in Dublin, McGregor grabbed Aldo's belt and raised it in front of 5,000 home supporters, escalating their already fractious relationship. \": {'labels': ['Benign'], 'alignscore-base': 0.02814, 'alignscore-large': 0.03252, 'HHEMv1': 0.87556, 'HHEM-2.1': 0.94728, 'HHEM-2.1-English': 0.98276, 'HHEM-2.1-Open': 0.97297, 'minicheck-roberta-large': 1}, \"The title fight will mark the eighth defense of Aldo's belt, but McGregor believes he has greater motivation to win the title.\": {'labels': ['Consistent'], 'alignscore-base': 0.07437, 'alignscore-large': 0.04893, 'HHEMv1': 0.50443, 'HHEM-2.1': 0.87246, 'HHEM-2.1-English': 0.98966, 'HHEM-2.1-Open': 0.946, 'minicheck-roberta-large': 1}}\n",
      "{' The passage highlights the alarming issue of foetal alcohol syndrome (FAS) in England, with 272 children hospitalized due to brain damage from in-utero alcohol exposure in the past year. ': {'labels': ['Questionable', 'Benign', 'Unwanted.Instrinsic', 'Unwanted'], 'alignscore-base': 0.10847, 'alignscore-large': 0.22761, 'HHEMv1': 0.99698, 'HHEM-2.1': 0.76066, 'HHEM-2.1-English': 0.95593, 'HHEM-2.1-Open': 0.93733}, 'Experts warn that the actual number affected could be much higher. ': {'labels': ['Consistent'], 'alignscore-base': 0.68116, 'alignscore-large': 0.83956, 'HHEMv1': 0.99785, 'HHEM-2.1': 0.99337, 'HHEM-2.1-English': 0.99788, 'HHEM-2.1-Open': 0.98345}, 'Research suggests that at least one in 100 UK babies could suffer learning, behavioural, and physical problems due to prenatal alcohol exposure, equating to approximately 7,500 cases annually. ': {'labels': ['Consistent'], 'alignscore-base': 0.19971, 'alignscore-large': 0.6448, 'HHEMv1': 0.99765, 'HHEM-2.1': 0.98988, 'HHEM-2.1-English': 0.99834, 'HHEM-2.1-Open': 0.9872}, 'FAS is a severe, lifelong condition that is often under-diagnosed. ': {'labels': ['Questionable'], 'alignscore-base': 0.09815, 'alignscore-large': 0.00688, 'HHEMv1': 0.83823, 'HHEM-2.1': 0.41299, 'HHEM-2.1-English': 0.74032, 'HHEM-2.1-Open': 0.54126}, 'The passage also mentions other health issues linked to alcohol consumption during pregnancy and the current government advice on alcohol consumption for pregnant women.\\n\\n': {'labels': ['Consistent'], 'alignscore-base': 0.22639, 'alignscore-large': 0.87481, 'HHEMv1': 0.92681, 'HHEM-2.1': 0.97911, 'HHEM-2.1-English': 0.99866, 'HHEM-2.1-Open': 0.99198}, 'Summary:\\nThe passage discusses the concerning prevalence of foetal alcohol syndrome (FAS) in England, with 272 children hospitalized in the past year due to brain damage from in-utero alcohol exposure. ': {'labels': ['Unwanted.Instrinsic', 'Unwanted'], 'alignscore-base': 0.31217, 'alignscore-large': 0.64187, 'HHEMv1': 0.99073, 'HHEM-2.1': 0.47483, 'HHEM-2.1-English': 0.93464, 'HHEM-2.1-Open': 0.93822}, 'Experts warn that the actual number affected could be much higher, with research suggesting that at least one in 100 UK babies could suffer learning, behavioural, ': {'labels': ['Unwanted.Instrinsic', 'Unwanted'], 'alignscore-base': 0.14847, 'alignscore-large': 0.65515, 'HHEMv1': 0.99897, 'HHEM-2.1': 0.99136, 'HHEM-2.1-English': 0.99866, 'HHEM-2.1-Open': 0.98131}}\n"
     ]
    },
    {
     "name": "stderr",
     "output_type": "stream",
     "text": [
      "Evaluating: 100%|██████████| 1/1 [00:00<00:00, 17.71it/s]\n"
     ]
    },
    {
     "name": "stdout",
     "output_type": "stream",
     "text": [
      "[1]\n"
     ]
    },
    {
     "name": "stderr",
     "output_type": "stream",
     "text": [
      "Evaluating: 100%|██████████| 1/1 [00:00<00:00, 17.50it/s]\n"
     ]
    },
    {
     "name": "stdout",
     "output_type": "stream",
     "text": [
      "[1]\n"
     ]
    },
    {
     "name": "stderr",
     "output_type": "stream",
     "text": [
      "Evaluating: 100%|██████████| 1/1 [00:00<00:00, 15.60it/s]\n"
     ]
    },
    {
     "name": "stdout",
     "output_type": "stream",
     "text": [
      "[1]\n"
     ]
    },
    {
     "name": "stderr",
     "output_type": "stream",
     "text": [
      "Evaluating: 100%|██████████| 1/1 [00:00<00:00, 17.82it/s]\n"
     ]
    },
    {
     "name": "stdout",
     "output_type": "stream",
     "text": [
      "[1]\n"
     ]
    },
    {
     "name": "stderr",
     "output_type": "stream",
     "text": [
      "Evaluating: 100%|██████████| 1/1 [00:00<00:00, 18.11it/s]\n"
     ]
    },
    {
     "name": "stdout",
     "output_type": "stream",
     "text": [
      "[1]\n"
     ]
    },
    {
     "name": "stderr",
     "output_type": "stream",
     "text": [
      "Evaluating: 100%|██████████| 1/1 [00:00<00:00, 15.47it/s]\n"
     ]
    },
    {
     "name": "stdout",
     "output_type": "stream",
     "text": [
      "[1]\n"
     ]
    },
    {
     "name": "stderr",
     "output_type": "stream",
     "text": [
      "Evaluating: 100%|██████████| 1/1 [00:00<00:00, 18.29it/s]\n"
     ]
    },
    {
     "name": "stdout",
     "output_type": "stream",
     "text": [
      "[1]\n",
      "{' The passage highlights the alarming issue of foetal alcohol syndrome (FAS) in England, with 272 children hospitalized due to brain damage from in-utero alcohol exposure in the past year. ': {'labels': ['Questionable', 'Benign', 'Unwanted.Instrinsic', 'Unwanted'], 'alignscore-base': 0.10847, 'alignscore-large': 0.22761, 'HHEMv1': 0.99698, 'HHEM-2.1': 0.76066, 'HHEM-2.1-English': 0.95593, 'HHEM-2.1-Open': 0.93733, 'minicheck-roberta-large': 1}, 'Experts warn that the actual number affected could be much higher. ': {'labels': ['Consistent'], 'alignscore-base': 0.68116, 'alignscore-large': 0.83956, 'HHEMv1': 0.99785, 'HHEM-2.1': 0.99337, 'HHEM-2.1-English': 0.99788, 'HHEM-2.1-Open': 0.98345, 'minicheck-roberta-large': 1}, 'Research suggests that at least one in 100 UK babies could suffer learning, behavioural, and physical problems due to prenatal alcohol exposure, equating to approximately 7,500 cases annually. ': {'labels': ['Consistent'], 'alignscore-base': 0.19971, 'alignscore-large': 0.6448, 'HHEMv1': 0.99765, 'HHEM-2.1': 0.98988, 'HHEM-2.1-English': 0.99834, 'HHEM-2.1-Open': 0.9872, 'minicheck-roberta-large': 1}, 'FAS is a severe, lifelong condition that is often under-diagnosed. ': {'labels': ['Questionable'], 'alignscore-base': 0.09815, 'alignscore-large': 0.00688, 'HHEMv1': 0.83823, 'HHEM-2.1': 0.41299, 'HHEM-2.1-English': 0.74032, 'HHEM-2.1-Open': 0.54126, 'minicheck-roberta-large': 1}, 'The passage also mentions other health issues linked to alcohol consumption during pregnancy and the current government advice on alcohol consumption for pregnant women.\\n\\n': {'labels': ['Consistent'], 'alignscore-base': 0.22639, 'alignscore-large': 0.87481, 'HHEMv1': 0.92681, 'HHEM-2.1': 0.97911, 'HHEM-2.1-English': 0.99866, 'HHEM-2.1-Open': 0.99198, 'minicheck-roberta-large': 1}, 'Summary:\\nThe passage discusses the concerning prevalence of foetal alcohol syndrome (FAS) in England, with 272 children hospitalized in the past year due to brain damage from in-utero alcohol exposure. ': {'labels': ['Unwanted.Instrinsic', 'Unwanted'], 'alignscore-base': 0.31217, 'alignscore-large': 0.64187, 'HHEMv1': 0.99073, 'HHEM-2.1': 0.47483, 'HHEM-2.1-English': 0.93464, 'HHEM-2.1-Open': 0.93822, 'minicheck-roberta-large': 1}, 'Experts warn that the actual number affected could be much higher, with research suggesting that at least one in 100 UK babies could suffer learning, behavioural, ': {'labels': ['Unwanted.Instrinsic', 'Unwanted'], 'alignscore-base': 0.14847, 'alignscore-large': 0.65515, 'HHEMv1': 0.99897, 'HHEM-2.1': 0.99136, 'HHEM-2.1-English': 0.99866, 'HHEM-2.1-Open': 0.98131, 'minicheck-roberta-large': 1}}\n",
      "{\"Here's a concise summary of the passage:\\n\\n\": {'labels': ['Consistent'], 'alignscore-base': 0.36934, 'alignscore-large': 0.71803, 'HHEMv1': 0.13172, 'HHEM-2.1': 0.68756, 'HHEM-2.1-English': 0.72496, 'HHEM-2.1-Open': 0.61544}, 'The passage discusses the 2014 Man Booker Prize shortlist and its contenders. ': {'labels': ['Benign'], 'alignscore-base': 0.98786, 'alignscore-large': 0.98174, 'HHEMv1': 0.68948, 'HHEM-2.1': 0.94518, 'HHEM-2.1-English': 0.97359, 'HHEM-2.1-Open': 0.51824}, 'Key points include:\\n\\n1. Neel Mukherjee\\'s \"The Lives of Others\" is the bookmakers\\' favorite to win.\\n\\n': {'labels': ['Benign'], 'alignscore-base': 0.60721, 'alignscore-large': 0.95905, 'HHEMv1': 0.22935, 'HHEM-2.1': 0.11796, 'HHEM-2.1-English': 0.19606, 'HHEM-2.1-Open': 0.2178}, '2. This is the first year the prize is open to all English-language authors, regardless of nationality.\\n\\n': {'labels': ['Consistent'], 'alignscore-base': 0.68428, 'alignscore-large': 0.59048, 'HHEMv1': 0.30563, 'HHEM-2.1': 0.99092, 'HHEM-2.1-English': 0.99276, 'HHEM-2.1-Open': 0.97857}, '3. The shortlist includes six authors: three British, two American, and one Australian.\\n\\n': {'labels': ['Consistent'], 'alignscore-base': 0.66579, 'alignscore-large': 0.46536, 'HHEMv1': 0.15952, 'HHEM-2.1': 0.97198, 'HHEM-2.1-English': 0.98667, 'HHEM-2.1-Open': 0.7985}, '4. Brief descriptions of each shortlisted novel are provided.\\n\\n': {'labels': ['Consistent'], 'alignscore-base': 0.47006, 'alignscore-large': 0.58812, 'HHEMv1': 0.56251, 'HHEM-2.1': 0.44573, 'HHEM-2.1-English': 0.14089, 'HHEM-2.1-Open': 0.26221}, '5. Karen Joy Fowler\\'s \"We Are All Completely Beside Ourselves\" is the best-selling shortlisted book.\\n\\n': {'labels': ['Consistent'], 'alignscore-base': 0.75999, 'alignscore-large': 0.67597, 'HHEMv1': 0.74124, 'HHEM-2.1': 0.94042, 'HHEM-2.1-English': 0.80965, 'HHEM-2.1-Open': 0.85407}, '6. The announcement of the shortlist caused a sales spike for all nominated books.\\n\\n': {'labels': ['Consistent'], 'alignscore-base': 0.85061, 'alignscore-large': 0.78541, 'HHEMv1': 0.93373, 'HHEM-2.1': 0.96901, 'HHEM-2.1-English': 0.87304, 'HHEM-2.1-Open': 0.90366}, '7. Some controversy surrounds the selection, with a literature professor calling it a \"weak list.\"\\n\\n': {'labels': ['Consistent'], 'alignscore-base': 0.63499, 'alignscore-large': 0.63236, 'HHEMv1': 0.94092, 'HHEM-2.1': 0.89619, 'HHEM-2.1-English': 0.87752, 'HHEM-2.1-Open': 0.25312}, \"8. The winner will be announced at London's Guildhall, with the ceremony covered by BBC.\\n\\n\": {'labels': ['Consistent'], 'alignscore-base': 0.33873, 'alignscore-large': 0.38602, 'HHEMv1': 0.81094, 'HHEM-2.1': 0.8629, 'HHEM-2.1-English': 0.61813, 'HHEM-2.1-Open': 0.7479}, '9. This is the 46th year of the Booker Prize, with each shortlisted author receiving £2,500 and a special edition of their book.\\n\\n': {'labels': ['Consistent'], 'alignscore-base': 0.71471, 'alignscore-large': 0.64354, 'HHEMv1': 0.87443, 'HHEM-2.1': 0.93258, 'HHEM-2.1-English': 0.91607, 'HHEM-2.1-Open': 0.8071}}\n"
     ]
    },
    {
     "name": "stderr",
     "output_type": "stream",
     "text": [
      "Evaluating: 100%|██████████| 1/1 [00:00<00:00, 13.09it/s]\n"
     ]
    },
    {
     "name": "stdout",
     "output_type": "stream",
     "text": [
      "[1]\n"
     ]
    },
    {
     "name": "stderr",
     "output_type": "stream",
     "text": [
      "Evaluating: 100%|██████████| 1/1 [00:00<00:00, 12.69it/s]\n"
     ]
    },
    {
     "name": "stdout",
     "output_type": "stream",
     "text": [
      "[1]\n"
     ]
    },
    {
     "name": "stderr",
     "output_type": "stream",
     "text": [
      "Evaluating: 100%|██████████| 1/1 [00:00<00:00, 11.22it/s]\n"
     ]
    },
    {
     "name": "stdout",
     "output_type": "stream",
     "text": [
      "[1]\n"
     ]
    },
    {
     "name": "stderr",
     "output_type": "stream",
     "text": [
      "Evaluating: 100%|██████████| 1/1 [00:00<00:00, 12.88it/s]\n"
     ]
    },
    {
     "name": "stdout",
     "output_type": "stream",
     "text": [
      "[1]\n"
     ]
    },
    {
     "name": "stderr",
     "output_type": "stream",
     "text": [
      "Evaluating: 100%|██████████| 1/1 [00:00<00:00, 12.87it/s]\n"
     ]
    },
    {
     "name": "stdout",
     "output_type": "stream",
     "text": [
      "[1]\n"
     ]
    },
    {
     "name": "stderr",
     "output_type": "stream",
     "text": [
      "Evaluating: 100%|██████████| 1/1 [00:00<00:00, 14.93it/s]\n"
     ]
    },
    {
     "name": "stdout",
     "output_type": "stream",
     "text": [
      "[1]\n"
     ]
    },
    {
     "name": "stderr",
     "output_type": "stream",
     "text": [
      "Evaluating: 100%|██████████| 1/1 [00:00<00:00, 13.86it/s]\n"
     ]
    },
    {
     "name": "stdout",
     "output_type": "stream",
     "text": [
      "[1]\n"
     ]
    },
    {
     "name": "stderr",
     "output_type": "stream",
     "text": [
      "Evaluating: 100%|██████████| 1/1 [00:00<00:00, 12.33it/s]\n"
     ]
    },
    {
     "name": "stdout",
     "output_type": "stream",
     "text": [
      "[1]\n"
     ]
    },
    {
     "name": "stderr",
     "output_type": "stream",
     "text": [
      "Evaluating: 100%|██████████| 1/1 [00:00<00:00, 12.88it/s]\n"
     ]
    },
    {
     "name": "stdout",
     "output_type": "stream",
     "text": [
      "[1]\n"
     ]
    },
    {
     "name": "stderr",
     "output_type": "stream",
     "text": [
      "Evaluating: 100%|██████████| 1/1 [00:00<00:00, 12.99it/s]\n"
     ]
    },
    {
     "name": "stdout",
     "output_type": "stream",
     "text": [
      "[0]\n"
     ]
    },
    {
     "name": "stderr",
     "output_type": "stream",
     "text": [
      "Evaluating: 100%|██████████| 1/1 [00:00<00:00, 11.73it/s]\n"
     ]
    },
    {
     "name": "stdout",
     "output_type": "stream",
     "text": [
      "[0]\n",
      "{\"Here's a concise summary of the passage:\\n\\n\": {'labels': ['Consistent'], 'alignscore-base': 0.36934, 'alignscore-large': 0.71803, 'HHEMv1': 0.13172, 'HHEM-2.1': 0.68756, 'HHEM-2.1-English': 0.72496, 'HHEM-2.1-Open': 0.61544, 'minicheck-roberta-large': 1}, 'The passage discusses the 2014 Man Booker Prize shortlist and its contenders. ': {'labels': ['Benign'], 'alignscore-base': 0.98786, 'alignscore-large': 0.98174, 'HHEMv1': 0.68948, 'HHEM-2.1': 0.94518, 'HHEM-2.1-English': 0.97359, 'HHEM-2.1-Open': 0.51824, 'minicheck-roberta-large': 1}, 'Key points include:\\n\\n1. Neel Mukherjee\\'s \"The Lives of Others\" is the bookmakers\\' favorite to win.\\n\\n': {'labels': ['Benign'], 'alignscore-base': 0.60721, 'alignscore-large': 0.95905, 'HHEMv1': 0.22935, 'HHEM-2.1': 0.11796, 'HHEM-2.1-English': 0.19606, 'HHEM-2.1-Open': 0.2178, 'minicheck-roberta-large': 1}, '2. This is the first year the prize is open to all English-language authors, regardless of nationality.\\n\\n': {'labels': ['Consistent'], 'alignscore-base': 0.68428, 'alignscore-large': 0.59048, 'HHEMv1': 0.30563, 'HHEM-2.1': 0.99092, 'HHEM-2.1-English': 0.99276, 'HHEM-2.1-Open': 0.97857, 'minicheck-roberta-large': 1}, '3. The shortlist includes six authors: three British, two American, and one Australian.\\n\\n': {'labels': ['Consistent'], 'alignscore-base': 0.66579, 'alignscore-large': 0.46536, 'HHEMv1': 0.15952, 'HHEM-2.1': 0.97198, 'HHEM-2.1-English': 0.98667, 'HHEM-2.1-Open': 0.7985, 'minicheck-roberta-large': 1}, '4. Brief descriptions of each shortlisted novel are provided.\\n\\n': {'labels': ['Consistent'], 'alignscore-base': 0.47006, 'alignscore-large': 0.58812, 'HHEMv1': 0.56251, 'HHEM-2.1': 0.44573, 'HHEM-2.1-English': 0.14089, 'HHEM-2.1-Open': 0.26221, 'minicheck-roberta-large': 1}, '5. Karen Joy Fowler\\'s \"We Are All Completely Beside Ourselves\" is the best-selling shortlisted book.\\n\\n': {'labels': ['Consistent'], 'alignscore-base': 0.75999, 'alignscore-large': 0.67597, 'HHEMv1': 0.74124, 'HHEM-2.1': 0.94042, 'HHEM-2.1-English': 0.80965, 'HHEM-2.1-Open': 0.85407, 'minicheck-roberta-large': 1}, '6. The announcement of the shortlist caused a sales spike for all nominated books.\\n\\n': {'labels': ['Consistent'], 'alignscore-base': 0.85061, 'alignscore-large': 0.78541, 'HHEMv1': 0.93373, 'HHEM-2.1': 0.96901, 'HHEM-2.1-English': 0.87304, 'HHEM-2.1-Open': 0.90366, 'minicheck-roberta-large': 1}, '7. Some controversy surrounds the selection, with a literature professor calling it a \"weak list.\"\\n\\n': {'labels': ['Consistent'], 'alignscore-base': 0.63499, 'alignscore-large': 0.63236, 'HHEMv1': 0.94092, 'HHEM-2.1': 0.89619, 'HHEM-2.1-English': 0.87752, 'HHEM-2.1-Open': 0.25312, 'minicheck-roberta-large': 1}, \"8. The winner will be announced at London's Guildhall, with the ceremony covered by BBC.\\n\\n\": {'labels': ['Consistent'], 'alignscore-base': 0.33873, 'alignscore-large': 0.38602, 'HHEMv1': 0.81094, 'HHEM-2.1': 0.8629, 'HHEM-2.1-English': 0.61813, 'HHEM-2.1-Open': 0.7479, 'minicheck-roberta-large': 0}, '9. This is the 46th year of the Booker Prize, with each shortlisted author receiving £2,500 and a special edition of their book.\\n\\n': {'labels': ['Consistent'], 'alignscore-base': 0.71471, 'alignscore-large': 0.64354, 'HHEMv1': 0.87443, 'HHEM-2.1': 0.93258, 'HHEM-2.1-English': 0.91607, 'HHEM-2.1-Open': 0.8071, 'minicheck-roberta-large': 0}}\n",
      "{' Veteran actor Robert Hardy, known for his roles in \"All Creatures Great and Small\" and portraying Winston Churchill, is selling his collection of antiques, including a 3D diorama of the Battle of Agincourt, for £100,000 in a £100,000 auction. ': {'labels': ['Unwanted', 'Unwanted.Instrinsic'], 'alignscore-base': 0.25322, 'alignscore-large': 0.117, 'HHEMv1': 0.16885, 'HHEM-2.1': 0.37813, 'HHEM-2.1-English': 0.69007, 'HHEM-2.1-Open': 0.85958}, 'The collection, which includes furniture, swords, flintlock rifles, silverware, and crystal chandeliers, is being sold by Dominic Winter Auctioneers in Gloucestershire. ': {'labels': ['Consistent'], 'alignscore-base': 0.6258, 'alignscore-large': 0.87134, 'HHEMv1': 0.66257, 'HHEM-2.1': 0.99282, 'HHEM-2.1-English': 0.99848, 'HHEM-2.1-Open': 0.97027}, 'Hardy, 89, is downsizing his home and has expressed sadness at parting with his treasured library. ': {'labels': ['Consistent'], 'alignscore-base': 0.73024, 'alignscore-large': 0.47439, 'HHEMv1': 0.82303, 'HHEM-2.1': 0.98818, 'HHEM-2.1-English': 0.99547, 'HHEM-2.1-Open': 0.97359}, 'The auction, featuring over 200 items, will take place on Saturday and includes a painting of Hardy with a longbow, a diorama commissioned by Hardy in the 1960s, and a historical painting of Alfred the Great. ': {'labels': ['Consistent'], 'alignscore-base': 0.34685, 'alignscore-large': 0.62064, 'HHEMv1': 0.41959, 'HHEM-2.1': 0.61725, 'HHEM-2.1-English': 0.97766, 'HHEM-2.1-Open': 0.95185}, \"Hardy's interest in classic literature and military history has contributed to his collection, and he has also appeared in the Harry Potter films as Minister for Magic Cornelius Fudge. \": {'labels': ['Benign'], 'alignscore-base': 0.53574, 'alignscore-large': 0.36807, 'HHEMv1': 0.95007, 'HHEM-2.1': 0.98806, 'HHEM-2.1-English': 0.99886, 'HHEM-2.1-Open': 0.93449}}\n"
     ]
    },
    {
     "name": "stderr",
     "output_type": "stream",
     "text": [
      "Evaluating: 100%|██████████| 1/1 [00:00<00:00, 10.94it/s]\n"
     ]
    },
    {
     "name": "stdout",
     "output_type": "stream",
     "text": [
      "[1]\n"
     ]
    },
    {
     "name": "stderr",
     "output_type": "stream",
     "text": [
      "Evaluating: 100%|██████████| 1/1 [00:00<00:00, 12.80it/s]\n"
     ]
    },
    {
     "name": "stdout",
     "output_type": "stream",
     "text": [
      "[0]\n"
     ]
    },
    {
     "name": "stderr",
     "output_type": "stream",
     "text": [
      "Evaluating: 100%|██████████| 1/1 [00:00<00:00, 12.39it/s]\n"
     ]
    },
    {
     "name": "stdout",
     "output_type": "stream",
     "text": [
      "[0]\n"
     ]
    },
    {
     "name": "stderr",
     "output_type": "stream",
     "text": [
      "Evaluating: 100%|██████████| 1/1 [00:00<00:00, 11.53it/s]\n"
     ]
    },
    {
     "name": "stdout",
     "output_type": "stream",
     "text": [
      "[0]\n"
     ]
    },
    {
     "name": "stderr",
     "output_type": "stream",
     "text": [
      "Evaluating: 100%|██████████| 1/1 [00:00<00:00, 12.85it/s]\n"
     ]
    },
    {
     "name": "stdout",
     "output_type": "stream",
     "text": [
      "[0]\n",
      "{' Veteran actor Robert Hardy, known for his roles in \"All Creatures Great and Small\" and portraying Winston Churchill, is selling his collection of antiques, including a 3D diorama of the Battle of Agincourt, for £100,000 in a £100,000 auction. ': {'labels': ['Unwanted', 'Unwanted.Instrinsic'], 'alignscore-base': 0.25322, 'alignscore-large': 0.117, 'HHEMv1': 0.16885, 'HHEM-2.1': 0.37813, 'HHEM-2.1-English': 0.69007, 'HHEM-2.1-Open': 0.85958, 'minicheck-roberta-large': 1}, 'The collection, which includes furniture, swords, flintlock rifles, silverware, and crystal chandeliers, is being sold by Dominic Winter Auctioneers in Gloucestershire. ': {'labels': ['Consistent'], 'alignscore-base': 0.6258, 'alignscore-large': 0.87134, 'HHEMv1': 0.66257, 'HHEM-2.1': 0.99282, 'HHEM-2.1-English': 0.99848, 'HHEM-2.1-Open': 0.97027, 'minicheck-roberta-large': 0}, 'Hardy, 89, is downsizing his home and has expressed sadness at parting with his treasured library. ': {'labels': ['Consistent'], 'alignscore-base': 0.73024, 'alignscore-large': 0.47439, 'HHEMv1': 0.82303, 'HHEM-2.1': 0.98818, 'HHEM-2.1-English': 0.99547, 'HHEM-2.1-Open': 0.97359, 'minicheck-roberta-large': 0}, 'The auction, featuring over 200 items, will take place on Saturday and includes a painting of Hardy with a longbow, a diorama commissioned by Hardy in the 1960s, and a historical painting of Alfred the Great. ': {'labels': ['Consistent'], 'alignscore-base': 0.34685, 'alignscore-large': 0.62064, 'HHEMv1': 0.41959, 'HHEM-2.1': 0.61725, 'HHEM-2.1-English': 0.97766, 'HHEM-2.1-Open': 0.95185, 'minicheck-roberta-large': 0}, \"Hardy's interest in classic literature and military history has contributed to his collection, and he has also appeared in the Harry Potter films as Minister for Magic Cornelius Fudge. \": {'labels': ['Benign'], 'alignscore-base': 0.53574, 'alignscore-large': 0.36807, 'HHEMv1': 0.95007, 'HHEM-2.1': 0.98806, 'HHEM-2.1-English': 0.99886, 'HHEM-2.1-Open': 0.93449, 'minicheck-roberta-large': 0}}\n",
      "{' The passage discusses a study by the Institute for Health Metrics and Evaluation at the University of Washington, published in the American Journal of Public Health, which found an increase in heavy drinking and binge-drinking among Americans between 2005 and 2012. ': {'labels': ['Consistent'], 'alignscore-base': 0.76417, 'alignscore-large': 0.76526, 'HHEMv1': 0.30142, 'HHEM-2.1': 0.99316, 'HHEM-2.1-English': 0.99904, 'HHEM-2.1-Open': 0.98043}, 'Heavy drinking is defined as exceeding an average of one drink per day for women and two drinks per day for men, while binge drinking is defined as four or more drinks for women and five or more drinks for men on a single occasion. ': {'labels': ['Unwanted.Instrinsic', 'Unwanted'], 'alignscore-base': 0.3813, 'alignscore-large': 0.77914, 'HHEMv1': 0.30089, 'HHEM-2.1': 0.99585, 'HHEM-2.1-English': 0.99869, 'HHEM-2.1-Open': 0.97516}, \"The study found that the increase in heavy drinking is largely driven by women's drinking habits as social norms change. \": {'labels': ['Consistent'], 'alignscore-base': 0.93206, 'alignscore-large': 0.78476, 'HHEMv1': 0.92081, 'HHEM-2.1': 0.99434, 'HHEM-2.1-English': 0.99925, 'HHEM-2.1-Open': 0.99037}, 'The study is the first to track adult drinking patterns at the county level, and in 2012, 8% of Americans were considered heavy drinkers and 18% were binge drinkers. ': {'labels': ['Consistent'], 'alignscore-base': 0.47359, 'alignscore-large': 0.99417, 'HHEMv1': 0.80002, 'HHEM-2.1': 0.99361, 'HHEM-2.1-English': 0.99942, 'HHEM-2.1-Open': 0.94595}, 'Despite the increases in heavy drinking, the percentage of people who drink any alcohol has remained relatively unchanged over time. ': {'labels': ['Consistent'], 'alignscore-base': 0.80062, 'alignscore-large': 0.93241, 'HHEMv1': 0.95041, 'HHEM-2.1': 0.99496, 'HHEM-2.1-English': 0.99899, 'HHEM-2.1-Open': 0.98278}, 'The study also notes that 88,600 U.S. deaths were attributed to alcohol in 2010, and the cost of excessive drinking has been estimated at more than $220 billion per year. ': {'labels': ['Consistent'], 'alignscore-base': 0.23686, 'alignscore-large': 0.90925, 'HHEMv1': 0.97089, 'HHEM-2.1': 0.9935, 'HHEM-2.1-English': 0.99838, 'HHEM-2.1-Open': 0.98657}}\n"
     ]
    },
    {
     "name": "stderr",
     "output_type": "stream",
     "text": [
      "Evaluating: 100%|██████████| 1/1 [00:00<00:00, 12.83it/s]\n"
     ]
    },
    {
     "name": "stdout",
     "output_type": "stream",
     "text": [
      "[1]\n"
     ]
    },
    {
     "name": "stderr",
     "output_type": "stream",
     "text": [
      "Evaluating: 100%|██████████| 1/1 [00:00<00:00, 12.64it/s]\n"
     ]
    },
    {
     "name": "stdout",
     "output_type": "stream",
     "text": [
      "[1]\n"
     ]
    },
    {
     "name": "stderr",
     "output_type": "stream",
     "text": [
      "Evaluating: 100%|██████████| 1/1 [00:00<00:00, 14.40it/s]\n"
     ]
    },
    {
     "name": "stdout",
     "output_type": "stream",
     "text": [
      "[1]\n"
     ]
    },
    {
     "name": "stderr",
     "output_type": "stream",
     "text": [
      "Evaluating: 100%|██████████| 1/1 [00:00<00:00, 11.10it/s]\n"
     ]
    },
    {
     "name": "stdout",
     "output_type": "stream",
     "text": [
      "[1]\n"
     ]
    },
    {
     "name": "stderr",
     "output_type": "stream",
     "text": [
      "Evaluating: 100%|██████████| 1/1 [00:00<00:00, 12.73it/s]\n"
     ]
    },
    {
     "name": "stdout",
     "output_type": "stream",
     "text": [
      "[1]\n"
     ]
    },
    {
     "name": "stderr",
     "output_type": "stream",
     "text": [
      "Evaluating: 100%|██████████| 1/1 [00:00<00:00, 10.56it/s]\n"
     ]
    },
    {
     "name": "stdout",
     "output_type": "stream",
     "text": [
      "[1]\n",
      "{' The passage discusses a study by the Institute for Health Metrics and Evaluation at the University of Washington, published in the American Journal of Public Health, which found an increase in heavy drinking and binge-drinking among Americans between 2005 and 2012. ': {'labels': ['Consistent'], 'alignscore-base': 0.76417, 'alignscore-large': 0.76526, 'HHEMv1': 0.30142, 'HHEM-2.1': 0.99316, 'HHEM-2.1-English': 0.99904, 'HHEM-2.1-Open': 0.98043, 'minicheck-roberta-large': 1}, 'Heavy drinking is defined as exceeding an average of one drink per day for women and two drinks per day for men, while binge drinking is defined as four or more drinks for women and five or more drinks for men on a single occasion. ': {'labels': ['Unwanted.Instrinsic', 'Unwanted'], 'alignscore-base': 0.3813, 'alignscore-large': 0.77914, 'HHEMv1': 0.30089, 'HHEM-2.1': 0.99585, 'HHEM-2.1-English': 0.99869, 'HHEM-2.1-Open': 0.97516, 'minicheck-roberta-large': 1}, \"The study found that the increase in heavy drinking is largely driven by women's drinking habits as social norms change. \": {'labels': ['Consistent'], 'alignscore-base': 0.93206, 'alignscore-large': 0.78476, 'HHEMv1': 0.92081, 'HHEM-2.1': 0.99434, 'HHEM-2.1-English': 0.99925, 'HHEM-2.1-Open': 0.99037, 'minicheck-roberta-large': 1}, 'The study is the first to track adult drinking patterns at the county level, and in 2012, 8% of Americans were considered heavy drinkers and 18% were binge drinkers. ': {'labels': ['Consistent'], 'alignscore-base': 0.47359, 'alignscore-large': 0.99417, 'HHEMv1': 0.80002, 'HHEM-2.1': 0.99361, 'HHEM-2.1-English': 0.99942, 'HHEM-2.1-Open': 0.94595, 'minicheck-roberta-large': 1}, 'Despite the increases in heavy drinking, the percentage of people who drink any alcohol has remained relatively unchanged over time. ': {'labels': ['Consistent'], 'alignscore-base': 0.80062, 'alignscore-large': 0.93241, 'HHEMv1': 0.95041, 'HHEM-2.1': 0.99496, 'HHEM-2.1-English': 0.99899, 'HHEM-2.1-Open': 0.98278, 'minicheck-roberta-large': 1}, 'The study also notes that 88,600 U.S. deaths were attributed to alcohol in 2010, and the cost of excessive drinking has been estimated at more than $220 billion per year. ': {'labels': ['Consistent'], 'alignscore-base': 0.23686, 'alignscore-large': 0.90925, 'HHEMv1': 0.97089, 'HHEM-2.1': 0.9935, 'HHEM-2.1-English': 0.99838, 'HHEM-2.1-Open': 0.98657, 'minicheck-roberta-large': 1}}\n",
      "Run model 1 - deberta-v3-large\n",
      "{\"Here's a concise summary of the passage, covering the core pieces of information:\\n\\n\": {'labels': ['Consistent'], 'alignscore-base': 0.0026, 'alignscore-large': 0.04955, 'HHEMv1': 0.36422, 'HHEM-2.1': 0.70906, 'HHEM-2.1-English': 0.74753, 'HHEM-2.1-Open': 0.79617, 'minicheck-roberta-large': 0}, 'The passage contains two unrelated pieces of information:\\n\\n': {'labels': ['Consistent'], 'alignscore-base': 0.05622, 'alignscore-large': 0.86291, 'HHEMv1': 0.08295, 'HHEM-2.1': 0.71762, 'HHEM-2.1-English': 0.65195, 'HHEM-2.1-Open': 0.71545, 'minicheck-roberta-large': 0}, '1. Anne Rice: \\n- Born in New Orleans\\n- Spent much of her early life in New Orleans\\n- Later moved to Texas and then to San Francisco\\n\\n': {'labels': ['Consistent'], 'alignscore-base': 0.46265, 'alignscore-large': 0.50817, 'HHEMv1': 0.96417, 'HHEM-2.1': 0.98892, 'HHEM-2.1-English': 0.99657, 'HHEM-2.1-Open': 0.97752, 'minicheck-roberta-large': 1}, '2. Route 495:\\n- A 3.45-mile freeway in Hudson County, New Jersey, USA\\n- Connects the New Jersey Turnpike (I-95) at exits 16E and 17 in Secaucus\\n- Extends to New York State Route 495 inside the Lincoln Tunnel in Weehawken\\n- Provides access to Midtown Manhattan': {'labels': ['Consistent'], 'alignscore-base': 0.49243, 'alignscore-large': 0.51646, 'HHEMv1': 0.95661, 'HHEM-2.1': 0.98928, 'HHEM-2.1-English': 0.99691, 'HHEM-2.1-Open': 0.98486, 'minicheck-roberta-large': 1}}\n"
     ]
    },
    {
     "name": "stderr",
     "output_type": "stream",
     "text": [
      "Evaluating: 100%|██████████| 1/1 [00:00<00:00,  1.94it/s]\n"
     ]
    },
    {
     "name": "stdout",
     "output_type": "stream",
     "text": [
      "[1]\n"
     ]
    },
    {
     "name": "stderr",
     "output_type": "stream",
     "text": [
      "Evaluating: 100%|██████████| 1/1 [00:00<00:00,  2.02it/s]\n"
     ]
    },
    {
     "name": "stdout",
     "output_type": "stream",
     "text": [
      "[0]\n"
     ]
    },
    {
     "name": "stderr",
     "output_type": "stream",
     "text": [
      "Evaluating: 100%|██████████| 1/1 [00:00<00:00,  1.69it/s]\n"
     ]
    },
    {
     "name": "stdout",
     "output_type": "stream",
     "text": [
      "[0]\n"
     ]
    },
    {
     "name": "stderr",
     "output_type": "stream",
     "text": [
      "Evaluating: 100%|██████████| 1/1 [00:00<00:00,  1.49it/s]\n"
     ]
    },
    {
     "name": "stdout",
     "output_type": "stream",
     "text": [
      "[1]\n",
      "{\"Here's a concise summary of the passage, covering the core pieces of information:\\n\\n\": {'labels': ['Consistent'], 'alignscore-base': 0.0026, 'alignscore-large': 0.04955, 'HHEMv1': 0.36422, 'HHEM-2.1': 0.70906, 'HHEM-2.1-English': 0.74753, 'HHEM-2.1-Open': 0.79617, 'minicheck-roberta-large': 0, 'minicheck-deberta-v3-large': 1}, 'The passage contains two unrelated pieces of information:\\n\\n': {'labels': ['Consistent'], 'alignscore-base': 0.05622, 'alignscore-large': 0.86291, 'HHEMv1': 0.08295, 'HHEM-2.1': 0.71762, 'HHEM-2.1-English': 0.65195, 'HHEM-2.1-Open': 0.71545, 'minicheck-roberta-large': 0, 'minicheck-deberta-v3-large': 0}, '1. Anne Rice: \\n- Born in New Orleans\\n- Spent much of her early life in New Orleans\\n- Later moved to Texas and then to San Francisco\\n\\n': {'labels': ['Consistent'], 'alignscore-base': 0.46265, 'alignscore-large': 0.50817, 'HHEMv1': 0.96417, 'HHEM-2.1': 0.98892, 'HHEM-2.1-English': 0.99657, 'HHEM-2.1-Open': 0.97752, 'minicheck-roberta-large': 1, 'minicheck-deberta-v3-large': 0}, '2. Route 495:\\n- A 3.45-mile freeway in Hudson County, New Jersey, USA\\n- Connects the New Jersey Turnpike (I-95) at exits 16E and 17 in Secaucus\\n- Extends to New York State Route 495 inside the Lincoln Tunnel in Weehawken\\n- Provides access to Midtown Manhattan': {'labels': ['Consistent'], 'alignscore-base': 0.49243, 'alignscore-large': 0.51646, 'HHEMv1': 0.95661, 'HHEM-2.1': 0.98928, 'HHEM-2.1-English': 0.99691, 'HHEM-2.1-Open': 0.98486, 'minicheck-roberta-large': 1, 'minicheck-deberta-v3-large': 1}}\n",
      "{\"Here's a concise summary of the passage, covering the core pieces of information:\\n\\n\": {'labels': ['Consistent'], 'alignscore-base': 0.00158, 'alignscore-large': 0.18221, 'HHEMv1': 0.12795, 'HHEM-2.1': 0.35209, 'HHEM-2.1-English': 0.44426, 'HHEM-2.1-Open': 0.85748, 'minicheck-roberta-large': 0}, 'The passage describes two different films titled \"Home for the Holidays\":\\n\\n': {'labels': ['Consistent'], 'alignscore-base': 0.53573, 'alignscore-large': 0.81642, 'HHEMv1': 0.72958, 'HHEM-2.1': 0.87018, 'HHEM-2.1-English': 0.91655, 'HHEM-2.1-Open': 0.91585, 'minicheck-roberta-large': 0}, '1. A 1972 American made-for-television horror film:\\n- Directed by John Llewellyn Moxey\\n- Produced by Aaron Spelling\\n- Starred Sally Field, Eleanor Parker, Julie Harris, Jessica Walter, and Walter Brennan\\n- Premiered on ABC on November 28, 1972\\n\\n': {'labels': ['Consistent'], 'alignscore-base': 0.40259, 'alignscore-large': 0.56035, 'HHEMv1': 0.89509, 'HHEM-2.1': 0.98496, 'HHEM-2.1-English': 0.99182, 'HHEM-2.1-Open': 0.97745, 'minicheck-roberta-large': 1}, '2. A 1995 film:\\n- Starred Holly Hunter, Robert Downey Jr., Anne Bancroft, Charles Durning, Dylan McDermott, Geraldine Chaplin, Steve Guttenberg, Cynthia Stevenson, Claire Danes, Austin Pendleton, and David Strathairn\\n\\n': {'labels': ['Consistent'], 'alignscore-base': 0.50913, 'alignscore-large': 0.59188, 'HHEMv1': 0.55223, 'HHEM-2.1': 0.98119, 'HHEM-2.1-English': 0.99579, 'HHEM-2.1-Open': 0.99379, 'minicheck-roberta-large': 1}, 'The passage provides basic information about these two separate films that share the same title but are from different years and genres.': {'labels': ['Unwanted.Extrinsic', 'Unwanted', 'Questionable', 'Unwanted.Instrinsic'], 'alignscore-base': 0.49891, 'alignscore-large': 0.76283, 'HHEMv1': 0.80271, 'HHEM-2.1': 0.83574, 'HHEM-2.1-English': 0.94758, 'HHEM-2.1-Open': 0.9201, 'minicheck-roberta-large': 0}}\n"
     ]
    },
    {
     "name": "stderr",
     "output_type": "stream",
     "text": [
      "Evaluating: 100%|██████████| 1/1 [00:00<00:00,  2.10it/s]\n"
     ]
    },
    {
     "name": "stdout",
     "output_type": "stream",
     "text": [
      "[1]\n"
     ]
    },
    {
     "name": "stderr",
     "output_type": "stream",
     "text": [
      "Evaluating: 100%|██████████| 1/1 [00:00<00:00,  2.02it/s]\n"
     ]
    },
    {
     "name": "stdout",
     "output_type": "stream",
     "text": [
      "[0]\n"
     ]
    },
    {
     "name": "stderr",
     "output_type": "stream",
     "text": [
      "Evaluating: 100%|██████████| 1/1 [00:00<00:00,  1.61it/s]\n"
     ]
    },
    {
     "name": "stdout",
     "output_type": "stream",
     "text": [
      "[1]\n"
     ]
    },
    {
     "name": "stderr",
     "output_type": "stream",
     "text": [
      "Evaluating: 100%|██████████| 1/1 [00:00<00:00,  1.65it/s]\n"
     ]
    },
    {
     "name": "stdout",
     "output_type": "stream",
     "text": [
      "[0]\n"
     ]
    },
    {
     "name": "stderr",
     "output_type": "stream",
     "text": [
      "Evaluating: 100%|██████████| 1/1 [00:00<00:00,  1.71it/s]\n"
     ]
    },
    {
     "name": "stdout",
     "output_type": "stream",
     "text": [
      "[1]\n",
      "{\"Here's a concise summary of the passage, covering the core pieces of information:\\n\\n\": {'labels': ['Consistent'], 'alignscore-base': 0.00158, 'alignscore-large': 0.18221, 'HHEMv1': 0.12795, 'HHEM-2.1': 0.35209, 'HHEM-2.1-English': 0.44426, 'HHEM-2.1-Open': 0.85748, 'minicheck-roberta-large': 0, 'minicheck-deberta-v3-large': 1}, 'The passage describes two different films titled \"Home for the Holidays\":\\n\\n': {'labels': ['Consistent'], 'alignscore-base': 0.53573, 'alignscore-large': 0.81642, 'HHEMv1': 0.72958, 'HHEM-2.1': 0.87018, 'HHEM-2.1-English': 0.91655, 'HHEM-2.1-Open': 0.91585, 'minicheck-roberta-large': 0, 'minicheck-deberta-v3-large': 0}, '1. A 1972 American made-for-television horror film:\\n- Directed by John Llewellyn Moxey\\n- Produced by Aaron Spelling\\n- Starred Sally Field, Eleanor Parker, Julie Harris, Jessica Walter, and Walter Brennan\\n- Premiered on ABC on November 28, 1972\\n\\n': {'labels': ['Consistent'], 'alignscore-base': 0.40259, 'alignscore-large': 0.56035, 'HHEMv1': 0.89509, 'HHEM-2.1': 0.98496, 'HHEM-2.1-English': 0.99182, 'HHEM-2.1-Open': 0.97745, 'minicheck-roberta-large': 1, 'minicheck-deberta-v3-large': 1}, '2. A 1995 film:\\n- Starred Holly Hunter, Robert Downey Jr., Anne Bancroft, Charles Durning, Dylan McDermott, Geraldine Chaplin, Steve Guttenberg, Cynthia Stevenson, Claire Danes, Austin Pendleton, and David Strathairn\\n\\n': {'labels': ['Consistent'], 'alignscore-base': 0.50913, 'alignscore-large': 0.59188, 'HHEMv1': 0.55223, 'HHEM-2.1': 0.98119, 'HHEM-2.1-English': 0.99579, 'HHEM-2.1-Open': 0.99379, 'minicheck-roberta-large': 1, 'minicheck-deberta-v3-large': 0}, 'The passage provides basic information about these two separate films that share the same title but are from different years and genres.': {'labels': ['Unwanted.Extrinsic', 'Unwanted', 'Questionable', 'Unwanted.Instrinsic'], 'alignscore-base': 0.49891, 'alignscore-large': 0.76283, 'HHEMv1': 0.80271, 'HHEM-2.1': 0.83574, 'HHEM-2.1-English': 0.94758, 'HHEM-2.1-Open': 0.9201, 'minicheck-roberta-large': 0, 'minicheck-deberta-v3-large': 1}}\n",
      "{\"Here's a concise summary of the passage, covering the core pieces of information:\\n\\n\": {'labels': ['Consistent'], 'alignscore-base': 0.00345, 'alignscore-large': 0.4123, 'HHEMv1': 0.27317, 'HHEM-2.1': 0.72848, 'HHEM-2.1-English': 0.89747, 'HHEM-2.1-Open': 0.86405, 'minicheck-roberta-large': 0}, 'The passage describes two different individuals named James Jones:\\n\\n': {'labels': ['Consistent'], 'alignscore-base': 0.24057, 'alignscore-large': 0.96029, 'HHEMv1': 0.46568, 'HHEM-2.1': 0.94847, 'HHEM-2.1-English': 0.993, 'HHEM-2.1-Open': 0.94694, 'minicheck-roberta-large': 1}, '1. James Jones (author):\\n- Won the 1952 National Book Award for his first novel, \"From Here to Eternity\"\\n- His novel was adapted into both a film and a television series\\n\\n': {'labels': ['Consistent'], 'alignscore-base': 0.0268, 'alignscore-large': 0.51552, 'HHEMv1': 0.98209, 'HHEM-2.1': 0.98079, 'HHEM-2.1-English': 0.99707, 'HHEM-2.1-Open': 0.94662, 'minicheck-roberta-large': 0}, '2. James Jones (basketball player):\\n- Excelled in high school, averaging 25 points per game as a senior\\n- Earned Class 6A Player of the Year and First Team All-State honors\\n- Won three NBA championships (two with the Heat, one with the Cavaliers)\\n- Reached seven consecutive NBA Finals with teammate LeBron James\\n- Finished third in NBA three-point percentage in 2007-08 season\\n- Won the Three-Point Contest in 2011\\n': {'labels': ['Consistent'], 'alignscore-base': 0.26491, 'alignscore-large': 0.50855, 'HHEMv1': 0.9778, 'HHEM-2.1': 0.98252, 'HHEM-2.1-English': 0.98153, 'HHEM-2.1-Open': 0.68934, 'minicheck-roberta-large': 0}}\n"
     ]
    },
    {
     "name": "stderr",
     "output_type": "stream",
     "text": [
      "Evaluating: 100%|██████████| 1/1 [00:00<00:00,  1.55it/s]\n"
     ]
    },
    {
     "name": "stdout",
     "output_type": "stream",
     "text": [
      "[1]\n"
     ]
    },
    {
     "name": "stderr",
     "output_type": "stream",
     "text": [
      "Evaluating: 100%|██████████| 1/1 [00:00<00:00,  1.65it/s]\n"
     ]
    },
    {
     "name": "stdout",
     "output_type": "stream",
     "text": [
      "[1]\n"
     ]
    },
    {
     "name": "stderr",
     "output_type": "stream",
     "text": [
      "Evaluating: 100%|██████████| 1/1 [00:00<00:00,  1.47it/s]\n"
     ]
    },
    {
     "name": "stdout",
     "output_type": "stream",
     "text": [
      "[1]\n"
     ]
    },
    {
     "name": "stderr",
     "output_type": "stream",
     "text": [
      "Evaluating: 100%|██████████| 1/1 [00:00<00:00,  1.20it/s]\n"
     ]
    },
    {
     "name": "stdout",
     "output_type": "stream",
     "text": [
      "[0]\n",
      "{\"Here's a concise summary of the passage, covering the core pieces of information:\\n\\n\": {'labels': ['Consistent'], 'alignscore-base': 0.00345, 'alignscore-large': 0.4123, 'HHEMv1': 0.27317, 'HHEM-2.1': 0.72848, 'HHEM-2.1-English': 0.89747, 'HHEM-2.1-Open': 0.86405, 'minicheck-roberta-large': 0, 'minicheck-deberta-v3-large': 1}, 'The passage describes two different individuals named James Jones:\\n\\n': {'labels': ['Consistent'], 'alignscore-base': 0.24057, 'alignscore-large': 0.96029, 'HHEMv1': 0.46568, 'HHEM-2.1': 0.94847, 'HHEM-2.1-English': 0.993, 'HHEM-2.1-Open': 0.94694, 'minicheck-roberta-large': 1, 'minicheck-deberta-v3-large': 1}, '1. James Jones (author):\\n- Won the 1952 National Book Award for his first novel, \"From Here to Eternity\"\\n- His novel was adapted into both a film and a television series\\n\\n': {'labels': ['Consistent'], 'alignscore-base': 0.0268, 'alignscore-large': 0.51552, 'HHEMv1': 0.98209, 'HHEM-2.1': 0.98079, 'HHEM-2.1-English': 0.99707, 'HHEM-2.1-Open': 0.94662, 'minicheck-roberta-large': 0, 'minicheck-deberta-v3-large': 1}, '2. James Jones (basketball player):\\n- Excelled in high school, averaging 25 points per game as a senior\\n- Earned Class 6A Player of the Year and First Team All-State honors\\n- Won three NBA championships (two with the Heat, one with the Cavaliers)\\n- Reached seven consecutive NBA Finals with teammate LeBron James\\n- Finished third in NBA three-point percentage in 2007-08 season\\n- Won the Three-Point Contest in 2011\\n': {'labels': ['Consistent'], 'alignscore-base': 0.26491, 'alignscore-large': 0.50855, 'HHEMv1': 0.9778, 'HHEM-2.1': 0.98252, 'HHEM-2.1-English': 0.98153, 'HHEM-2.1-Open': 0.68934, 'minicheck-roberta-large': 0, 'minicheck-deberta-v3-large': 0}}\n",
      "{\" An Omura's whale, previously feared extinct, washed up on a remote Eighty-Eight Beach in Western Australia. \": {'labels': ['Unwanted', 'Unwanted.Extrinsic'], 'alignscore-base': 0.00209, 'alignscore-large': 0.00156, 'HHEMv1': 0.71385, 'HHEM-2.1': 0.05577, 'HHEM-2.1-English': 0.0401, 'HHEM-2.1-Open': 0.14578, 'minicheck-roberta-large': 0}, 'This is the first sighting in the region and only the second in Australia. ': {'labels': ['Consistent'], 'alignscore-base': 0.04005, 'alignscore-large': 0.52427, 'HHEMv1': 0.9508, 'HHEM-2.1': 0.98639, 'HHEM-2.1-English': 0.99357, 'HHEM-2.1-Open': 0.9671, 'minicheck-roberta-large': 0}, 'The discovery, made after Tropical Cyclone Olwyn, provided scientists with an opportunity to learn more about the species, which was only described in scientific journals in 2003. ': {'labels': ['Unwanted.Instrinsic', 'Unwanted'], 'alignscore-base': 0.03691, 'alignscore-large': 0.69336, 'HHEMv1': 0.99756, 'HHEM-2.1': 0.98022, 'HHEM-2.1-English': 0.99821, 'HHEM-2.1-Open': 0.96368, 'minicheck-roberta-large': 1}, 'The whale, a juvenile female, has unique features such as 53 vertebrae and four digits on each pectoral fin. ': {'labels': ['Benign'], 'alignscore-base': 0.11551, 'alignscore-large': 0.5747, 'HHEMv1': 0.84795, 'HHEM-2.1': 0.48432, 'HHEM-2.1-English': 0.5289, 'HHEM-2.1-Open': 0.98053, 'minicheck-roberta-large': 1}, 'The carcass has been buried, and the skeleton will be recovered for further scientific investigation and potential public display. ': {'labels': ['Consistent'], 'alignscore-base': 0.41586, 'alignscore-large': 0.67578, 'HHEMv1': 0.98196, 'HHEM-2.1': 0.89815, 'HHEM-2.1-English': 0.99201, 'HHEM-2.1-Open': 0.97564, 'minicheck-roberta-large': 0}, 'The species is usually found in Indonesian waters, the Philippines, and the Sea of Japan.\\n\\n': {'labels': ['Consistent'], 'alignscore-base': 0.00959, 'alignscore-large': 0.60502, 'HHEMv1': 0.96256, 'HHEM-2.1': 0.97545, 'HHEM-2.1-English': 0.99811, 'HHEM-2.1-Open': 0.95141, 'minicheck-roberta-large': 0}, 'Note: The passage mentions 60 vertebrae, but the correct number is 53. ': {'labels': ['Questionable', 'Benign'], 'alignscore-base': 0.00951, 'alignscore-large': 0.09905, 'HHEMv1': 0.70978, 'HHEM-2.1': 0.58913, 'HHEM-2.1-English': 0.23011, 'HHEM-2.1-Open': 0.87126, 'minicheck-roberta-large': 0}, 'This has been corrected in the summary.\\n\\n': {'labels': ['Questionable'], 'alignscore-base': 0.00443, 'alignscore-large': 0.26272, 'HHEMv1': 0.24831, 'HHEM-2.1': 0.36499, 'HHEM-2.1-English': 0.14589, 'HHEM-2.1-Open': 0.17001, 'minicheck-roberta-large': 0}, \"Summary:\\nA previously feared extinct Omura's whale washed up on a remote beach in Western Australia, providing scientists with a chance to learn more about the species. \": {'labels': ['Questionable', 'Unwanted', 'Unwanted.Extrinsic', 'Benign'], 'alignscore-base': 0.01881, 'alignscore-large': 0.48097, 'HHEMv1': 0.99927, 'HHEM-2.1': 0.94228, 'HHEM-2.1-English': 0.99517, 'HHEM-2.1-Open': 0.98003, 'minicheck-roberta-large': 1}, 'This is the first sighting in the region and only the second in Australia.': {'labels': ['Consistent'], 'alignscore-base': 0.04005, 'alignscore-large': 0.52427, 'HHEMv1': 0.9508, 'HHEM-2.1': 0.98639, 'HHEM-2.1-English': 0.99357, 'HHEM-2.1-Open': 0.96652, 'minicheck-roberta-large': 0}}\n"
     ]
    },
    {
     "name": "stderr",
     "output_type": "stream",
     "text": [
      "Evaluating: 100%|██████████| 1/1 [00:01<00:00,  1.23s/it]\n"
     ]
    },
    {
     "name": "stdout",
     "output_type": "stream",
     "text": [
      "[0]\n"
     ]
    },
    {
     "name": "stderr",
     "output_type": "stream",
     "text": [
      "Evaluating: 100%|██████████| 1/1 [00:01<00:00,  1.11s/it]\n"
     ]
    },
    {
     "name": "stdout",
     "output_type": "stream",
     "text": [
      "[1]\n"
     ]
    },
    {
     "name": "stderr",
     "output_type": "stream",
     "text": [
      "Evaluating: 100%|██████████| 1/1 [00:01<00:00,  1.17s/it]\n"
     ]
    },
    {
     "name": "stdout",
     "output_type": "stream",
     "text": [
      "[1]\n"
     ]
    },
    {
     "name": "stderr",
     "output_type": "stream",
     "text": [
      "Evaluating: 100%|██████████| 1/1 [00:01<00:00,  1.08s/it]\n"
     ]
    },
    {
     "name": "stdout",
     "output_type": "stream",
     "text": [
      "[1]\n"
     ]
    },
    {
     "name": "stderr",
     "output_type": "stream",
     "text": [
      "Evaluating: 100%|██████████| 1/1 [00:01<00:00,  1.14s/it]\n"
     ]
    },
    {
     "name": "stdout",
     "output_type": "stream",
     "text": [
      "[1]\n"
     ]
    },
    {
     "name": "stderr",
     "output_type": "stream",
     "text": [
      "Evaluating: 100%|██████████| 1/1 [00:01<00:00,  1.12s/it]\n"
     ]
    },
    {
     "name": "stdout",
     "output_type": "stream",
     "text": [
      "[1]\n"
     ]
    },
    {
     "name": "stderr",
     "output_type": "stream",
     "text": [
      "Evaluating: 100%|██████████| 1/1 [00:01<00:00,  1.09s/it]\n"
     ]
    },
    {
     "name": "stdout",
     "output_type": "stream",
     "text": [
      "[1]\n"
     ]
    },
    {
     "name": "stderr",
     "output_type": "stream",
     "text": [
      "Evaluating: 100%|██████████| 1/1 [00:01<00:00,  1.09s/it]\n"
     ]
    },
    {
     "name": "stdout",
     "output_type": "stream",
     "text": [
      "[0]\n"
     ]
    },
    {
     "name": "stderr",
     "output_type": "stream",
     "text": [
      "Evaluating: 100%|██████████| 1/1 [00:01<00:00,  1.15s/it]\n"
     ]
    },
    {
     "name": "stdout",
     "output_type": "stream",
     "text": [
      "[1]\n"
     ]
    },
    {
     "name": "stderr",
     "output_type": "stream",
     "text": [
      "Evaluating: 100%|██████████| 1/1 [00:01<00:00,  1.12s/it]\n"
     ]
    },
    {
     "name": "stdout",
     "output_type": "stream",
     "text": [
      "[1]\n",
      "{\" An Omura's whale, previously feared extinct, washed up on a remote Eighty-Eight Beach in Western Australia. \": {'labels': ['Unwanted', 'Unwanted.Extrinsic'], 'alignscore-base': 0.00209, 'alignscore-large': 0.00156, 'HHEMv1': 0.71385, 'HHEM-2.1': 0.05577, 'HHEM-2.1-English': 0.0401, 'HHEM-2.1-Open': 0.14578, 'minicheck-roberta-large': 0, 'minicheck-deberta-v3-large': 0}, 'This is the first sighting in the region and only the second in Australia. ': {'labels': ['Consistent'], 'alignscore-base': 0.04005, 'alignscore-large': 0.52427, 'HHEMv1': 0.9508, 'HHEM-2.1': 0.98639, 'HHEM-2.1-English': 0.99357, 'HHEM-2.1-Open': 0.9671, 'minicheck-roberta-large': 0, 'minicheck-deberta-v3-large': 1}, 'The discovery, made after Tropical Cyclone Olwyn, provided scientists with an opportunity to learn more about the species, which was only described in scientific journals in 2003. ': {'labels': ['Unwanted.Instrinsic', 'Unwanted'], 'alignscore-base': 0.03691, 'alignscore-large': 0.69336, 'HHEMv1': 0.99756, 'HHEM-2.1': 0.98022, 'HHEM-2.1-English': 0.99821, 'HHEM-2.1-Open': 0.96368, 'minicheck-roberta-large': 1, 'minicheck-deberta-v3-large': 1}, 'The whale, a juvenile female, has unique features such as 53 vertebrae and four digits on each pectoral fin. ': {'labels': ['Benign'], 'alignscore-base': 0.11551, 'alignscore-large': 0.5747, 'HHEMv1': 0.84795, 'HHEM-2.1': 0.48432, 'HHEM-2.1-English': 0.5289, 'HHEM-2.1-Open': 0.98053, 'minicheck-roberta-large': 1, 'minicheck-deberta-v3-large': 1}, 'The carcass has been buried, and the skeleton will be recovered for further scientific investigation and potential public display. ': {'labels': ['Consistent'], 'alignscore-base': 0.41586, 'alignscore-large': 0.67578, 'HHEMv1': 0.98196, 'HHEM-2.1': 0.89815, 'HHEM-2.1-English': 0.99201, 'HHEM-2.1-Open': 0.97564, 'minicheck-roberta-large': 0, 'minicheck-deberta-v3-large': 1}, 'The species is usually found in Indonesian waters, the Philippines, and the Sea of Japan.\\n\\n': {'labels': ['Consistent'], 'alignscore-base': 0.00959, 'alignscore-large': 0.60502, 'HHEMv1': 0.96256, 'HHEM-2.1': 0.97545, 'HHEM-2.1-English': 0.99811, 'HHEM-2.1-Open': 0.95141, 'minicheck-roberta-large': 0, 'minicheck-deberta-v3-large': 1}, 'Note: The passage mentions 60 vertebrae, but the correct number is 53. ': {'labels': ['Questionable', 'Benign'], 'alignscore-base': 0.00951, 'alignscore-large': 0.09905, 'HHEMv1': 0.70978, 'HHEM-2.1': 0.58913, 'HHEM-2.1-English': 0.23011, 'HHEM-2.1-Open': 0.87126, 'minicheck-roberta-large': 0, 'minicheck-deberta-v3-large': 1}, 'This has been corrected in the summary.\\n\\n': {'labels': ['Questionable'], 'alignscore-base': 0.00443, 'alignscore-large': 0.26272, 'HHEMv1': 0.24831, 'HHEM-2.1': 0.36499, 'HHEM-2.1-English': 0.14589, 'HHEM-2.1-Open': 0.17001, 'minicheck-roberta-large': 0, 'minicheck-deberta-v3-large': 0}, \"Summary:\\nA previously feared extinct Omura's whale washed up on a remote beach in Western Australia, providing scientists with a chance to learn more about the species. \": {'labels': ['Questionable', 'Unwanted', 'Unwanted.Extrinsic', 'Benign'], 'alignscore-base': 0.01881, 'alignscore-large': 0.48097, 'HHEMv1': 0.99927, 'HHEM-2.1': 0.94228, 'HHEM-2.1-English': 0.99517, 'HHEM-2.1-Open': 0.98003, 'minicheck-roberta-large': 1, 'minicheck-deberta-v3-large': 1}, 'This is the first sighting in the region and only the second in Australia.': {'labels': ['Consistent'], 'alignscore-base': 0.04005, 'alignscore-large': 0.52427, 'HHEMv1': 0.9508, 'HHEM-2.1': 0.98639, 'HHEM-2.1-English': 0.99357, 'HHEM-2.1-Open': 0.96652, 'minicheck-roberta-large': 0, 'minicheck-deberta-v3-large': 1}}\n",
      "{' Conor McGregor is preparing for a featherweight title challenge against Jose Aldo on July 11 in Las Vegas. ': {'labels': ['Consistent'], 'alignscore-base': 0.71694, 'alignscore-large': 0.22063, 'HHEMv1': 0.01522, 'HHEM-2.1': 0.98987, 'HHEM-2.1-English': 0.99912, 'HHEM-2.1-Open': 0.98039, 'minicheck-roberta-large': 1}, 'Prior to this, McGregor has revealed a new tattoo of a tiger\\'s face on his stomach, which he described as a warning that \"if you see the tiger, it\\'s too late. You\\'re food.\" ': {'labels': ['Consistent'], 'alignscore-base': 0.00362, 'alignscore-large': 0.05697, 'HHEMv1': 0.97229, 'HHEM-2.1': 0.98277, 'HHEM-2.1-English': 0.99449, 'HHEM-2.1-Open': 0.93399, 'minicheck-roberta-large': 0}, 'McGregor claims Aldo lacks the same motivation as him for the title fight. ': {'labels': ['Consistent'], 'alignscore-base': 0.30266, 'alignscore-large': 0.63303, 'HHEMv1': 0.72994, 'HHEM-2.1': 0.94405, 'HHEM-2.1-English': 0.99662, 'HHEM-2.1-Open': 0.95421, 'minicheck-roberta-large': 1}, \"During a promotional tour in Dublin, McGregor grabbed Aldo's belt and raised it in front of 5,000 home supporters, escalating their already fractious relationship. \": {'labels': ['Benign'], 'alignscore-base': 0.02814, 'alignscore-large': 0.03252, 'HHEMv1': 0.87556, 'HHEM-2.1': 0.94728, 'HHEM-2.1-English': 0.98276, 'HHEM-2.1-Open': 0.97297, 'minicheck-roberta-large': 1}, \"The title fight will mark the eighth defense of Aldo's belt, but McGregor believes he has greater motivation to win the title.\": {'labels': ['Consistent'], 'alignscore-base': 0.07437, 'alignscore-large': 0.04893, 'HHEMv1': 0.50443, 'HHEM-2.1': 0.87246, 'HHEM-2.1-English': 0.98966, 'HHEM-2.1-Open': 0.946, 'minicheck-roberta-large': 1}}\n"
     ]
    },
    {
     "name": "stderr",
     "output_type": "stream",
     "text": [
      "Evaluating: 100%|██████████| 1/1 [00:01<00:00,  1.21s/it]\n"
     ]
    },
    {
     "name": "stdout",
     "output_type": "stream",
     "text": [
      "[1]\n"
     ]
    },
    {
     "name": "stderr",
     "output_type": "stream",
     "text": [
      "Evaluating: 100%|██████████| 1/1 [00:01<00:00,  1.25s/it]\n"
     ]
    },
    {
     "name": "stdout",
     "output_type": "stream",
     "text": [
      "[0]\n"
     ]
    },
    {
     "name": "stderr",
     "output_type": "stream",
     "text": [
      "Evaluating: 100%|██████████| 1/1 [00:01<00:00,  1.18s/it]\n"
     ]
    },
    {
     "name": "stdout",
     "output_type": "stream",
     "text": [
      "[1]\n"
     ]
    },
    {
     "name": "stderr",
     "output_type": "stream",
     "text": [
      "Evaluating: 100%|██████████| 1/1 [00:01<00:00,  1.09s/it]\n"
     ]
    },
    {
     "name": "stdout",
     "output_type": "stream",
     "text": [
      "[0]\n"
     ]
    },
    {
     "name": "stderr",
     "output_type": "stream",
     "text": [
      "Evaluating: 100%|██████████| 1/1 [00:01<00:00,  1.20s/it]\n"
     ]
    },
    {
     "name": "stdout",
     "output_type": "stream",
     "text": [
      "[1]\n",
      "{' Conor McGregor is preparing for a featherweight title challenge against Jose Aldo on July 11 in Las Vegas. ': {'labels': ['Consistent'], 'alignscore-base': 0.71694, 'alignscore-large': 0.22063, 'HHEMv1': 0.01522, 'HHEM-2.1': 0.98987, 'HHEM-2.1-English': 0.99912, 'HHEM-2.1-Open': 0.98039, 'minicheck-roberta-large': 1, 'minicheck-deberta-v3-large': 1}, 'Prior to this, McGregor has revealed a new tattoo of a tiger\\'s face on his stomach, which he described as a warning that \"if you see the tiger, it\\'s too late. You\\'re food.\" ': {'labels': ['Consistent'], 'alignscore-base': 0.00362, 'alignscore-large': 0.05697, 'HHEMv1': 0.97229, 'HHEM-2.1': 0.98277, 'HHEM-2.1-English': 0.99449, 'HHEM-2.1-Open': 0.93399, 'minicheck-roberta-large': 0, 'minicheck-deberta-v3-large': 0}, 'McGregor claims Aldo lacks the same motivation as him for the title fight. ': {'labels': ['Consistent'], 'alignscore-base': 0.30266, 'alignscore-large': 0.63303, 'HHEMv1': 0.72994, 'HHEM-2.1': 0.94405, 'HHEM-2.1-English': 0.99662, 'HHEM-2.1-Open': 0.95421, 'minicheck-roberta-large': 1, 'minicheck-deberta-v3-large': 1}, \"During a promotional tour in Dublin, McGregor grabbed Aldo's belt and raised it in front of 5,000 home supporters, escalating their already fractious relationship. \": {'labels': ['Benign'], 'alignscore-base': 0.02814, 'alignscore-large': 0.03252, 'HHEMv1': 0.87556, 'HHEM-2.1': 0.94728, 'HHEM-2.1-English': 0.98276, 'HHEM-2.1-Open': 0.97297, 'minicheck-roberta-large': 1, 'minicheck-deberta-v3-large': 0}, \"The title fight will mark the eighth defense of Aldo's belt, but McGregor believes he has greater motivation to win the title.\": {'labels': ['Consistent'], 'alignscore-base': 0.07437, 'alignscore-large': 0.04893, 'HHEMv1': 0.50443, 'HHEM-2.1': 0.87246, 'HHEM-2.1-English': 0.98966, 'HHEM-2.1-Open': 0.946, 'minicheck-roberta-large': 1, 'minicheck-deberta-v3-large': 1}}\n",
      "{' The passage highlights the alarming issue of foetal alcohol syndrome (FAS) in England, with 272 children hospitalized due to brain damage from in-utero alcohol exposure in the past year. ': {'labels': ['Questionable', 'Benign', 'Unwanted.Instrinsic', 'Unwanted'], 'alignscore-base': 0.10847, 'alignscore-large': 0.22761, 'HHEMv1': 0.99698, 'HHEM-2.1': 0.76066, 'HHEM-2.1-English': 0.95593, 'HHEM-2.1-Open': 0.93733, 'minicheck-roberta-large': 1}, 'Experts warn that the actual number affected could be much higher. ': {'labels': ['Consistent'], 'alignscore-base': 0.68116, 'alignscore-large': 0.83956, 'HHEMv1': 0.99785, 'HHEM-2.1': 0.99337, 'HHEM-2.1-English': 0.99788, 'HHEM-2.1-Open': 0.98345, 'minicheck-roberta-large': 1}, 'Research suggests that at least one in 100 UK babies could suffer learning, behavioural, and physical problems due to prenatal alcohol exposure, equating to approximately 7,500 cases annually. ': {'labels': ['Consistent'], 'alignscore-base': 0.19971, 'alignscore-large': 0.6448, 'HHEMv1': 0.99765, 'HHEM-2.1': 0.98988, 'HHEM-2.1-English': 0.99834, 'HHEM-2.1-Open': 0.9872, 'minicheck-roberta-large': 1}, 'FAS is a severe, lifelong condition that is often under-diagnosed. ': {'labels': ['Questionable'], 'alignscore-base': 0.09815, 'alignscore-large': 0.00688, 'HHEMv1': 0.83823, 'HHEM-2.1': 0.41299, 'HHEM-2.1-English': 0.74032, 'HHEM-2.1-Open': 0.54126, 'minicheck-roberta-large': 1}, 'The passage also mentions other health issues linked to alcohol consumption during pregnancy and the current government advice on alcohol consumption for pregnant women.\\n\\n': {'labels': ['Consistent'], 'alignscore-base': 0.22639, 'alignscore-large': 0.87481, 'HHEMv1': 0.92681, 'HHEM-2.1': 0.97911, 'HHEM-2.1-English': 0.99866, 'HHEM-2.1-Open': 0.99198, 'minicheck-roberta-large': 1}, 'Summary:\\nThe passage discusses the concerning prevalence of foetal alcohol syndrome (FAS) in England, with 272 children hospitalized in the past year due to brain damage from in-utero alcohol exposure. ': {'labels': ['Unwanted.Instrinsic', 'Unwanted'], 'alignscore-base': 0.31217, 'alignscore-large': 0.64187, 'HHEMv1': 0.99073, 'HHEM-2.1': 0.47483, 'HHEM-2.1-English': 0.93464, 'HHEM-2.1-Open': 0.93822, 'minicheck-roberta-large': 1}, 'Experts warn that the actual number affected could be much higher, with research suggesting that at least one in 100 UK babies could suffer learning, behavioural, ': {'labels': ['Unwanted.Instrinsic', 'Unwanted'], 'alignscore-base': 0.14847, 'alignscore-large': 0.65515, 'HHEMv1': 0.99897, 'HHEM-2.1': 0.99136, 'HHEM-2.1-English': 0.99866, 'HHEM-2.1-Open': 0.98131, 'minicheck-roberta-large': 1}}\n"
     ]
    },
    {
     "name": "stderr",
     "output_type": "stream",
     "text": [
      "Evaluating: 100%|██████████| 1/1 [00:01<00:00,  1.99s/it]\n"
     ]
    },
    {
     "name": "stdout",
     "output_type": "stream",
     "text": [
      "[1]\n"
     ]
    },
    {
     "name": "stderr",
     "output_type": "stream",
     "text": [
      "Evaluating: 100%|██████████| 1/1 [00:01<00:00,  1.83s/it]\n"
     ]
    },
    {
     "name": "stdout",
     "output_type": "stream",
     "text": [
      "[1]\n"
     ]
    },
    {
     "name": "stderr",
     "output_type": "stream",
     "text": [
      "Evaluating: 100%|██████████| 1/1 [00:01<00:00,  1.99s/it]\n"
     ]
    },
    {
     "name": "stdout",
     "output_type": "stream",
     "text": [
      "[1]\n"
     ]
    },
    {
     "name": "stderr",
     "output_type": "stream",
     "text": [
      "Evaluating: 100%|██████████| 1/1 [00:01<00:00,  1.92s/it]\n"
     ]
    },
    {
     "name": "stdout",
     "output_type": "stream",
     "text": [
      "[0]\n"
     ]
    },
    {
     "name": "stderr",
     "output_type": "stream",
     "text": [
      "Evaluating: 100%|██████████| 1/1 [00:01<00:00,  1.90s/it]\n"
     ]
    },
    {
     "name": "stdout",
     "output_type": "stream",
     "text": [
      "[1]\n"
     ]
    },
    {
     "name": "stderr",
     "output_type": "stream",
     "text": [
      "Evaluating: 100%|██████████| 1/1 [00:01<00:00,  2.00s/it]\n"
     ]
    },
    {
     "name": "stdout",
     "output_type": "stream",
     "text": [
      "[1]\n"
     ]
    },
    {
     "name": "stderr",
     "output_type": "stream",
     "text": [
      "Evaluating: 100%|██████████| 1/1 [00:01<00:00,  1.90s/it]\n"
     ]
    },
    {
     "name": "stdout",
     "output_type": "stream",
     "text": [
      "[1]\n",
      "{' The passage highlights the alarming issue of foetal alcohol syndrome (FAS) in England, with 272 children hospitalized due to brain damage from in-utero alcohol exposure in the past year. ': {'labels': ['Questionable', 'Benign', 'Unwanted.Instrinsic', 'Unwanted'], 'alignscore-base': 0.10847, 'alignscore-large': 0.22761, 'HHEMv1': 0.99698, 'HHEM-2.1': 0.76066, 'HHEM-2.1-English': 0.95593, 'HHEM-2.1-Open': 0.93733, 'minicheck-roberta-large': 1, 'minicheck-deberta-v3-large': 1}, 'Experts warn that the actual number affected could be much higher. ': {'labels': ['Consistent'], 'alignscore-base': 0.68116, 'alignscore-large': 0.83956, 'HHEMv1': 0.99785, 'HHEM-2.1': 0.99337, 'HHEM-2.1-English': 0.99788, 'HHEM-2.1-Open': 0.98345, 'minicheck-roberta-large': 1, 'minicheck-deberta-v3-large': 1}, 'Research suggests that at least one in 100 UK babies could suffer learning, behavioural, and physical problems due to prenatal alcohol exposure, equating to approximately 7,500 cases annually. ': {'labels': ['Consistent'], 'alignscore-base': 0.19971, 'alignscore-large': 0.6448, 'HHEMv1': 0.99765, 'HHEM-2.1': 0.98988, 'HHEM-2.1-English': 0.99834, 'HHEM-2.1-Open': 0.9872, 'minicheck-roberta-large': 1, 'minicheck-deberta-v3-large': 1}, 'FAS is a severe, lifelong condition that is often under-diagnosed. ': {'labels': ['Questionable'], 'alignscore-base': 0.09815, 'alignscore-large': 0.00688, 'HHEMv1': 0.83823, 'HHEM-2.1': 0.41299, 'HHEM-2.1-English': 0.74032, 'HHEM-2.1-Open': 0.54126, 'minicheck-roberta-large': 1, 'minicheck-deberta-v3-large': 0}, 'The passage also mentions other health issues linked to alcohol consumption during pregnancy and the current government advice on alcohol consumption for pregnant women.\\n\\n': {'labels': ['Consistent'], 'alignscore-base': 0.22639, 'alignscore-large': 0.87481, 'HHEMv1': 0.92681, 'HHEM-2.1': 0.97911, 'HHEM-2.1-English': 0.99866, 'HHEM-2.1-Open': 0.99198, 'minicheck-roberta-large': 1, 'minicheck-deberta-v3-large': 1}, 'Summary:\\nThe passage discusses the concerning prevalence of foetal alcohol syndrome (FAS) in England, with 272 children hospitalized in the past year due to brain damage from in-utero alcohol exposure. ': {'labels': ['Unwanted.Instrinsic', 'Unwanted'], 'alignscore-base': 0.31217, 'alignscore-large': 0.64187, 'HHEMv1': 0.99073, 'HHEM-2.1': 0.47483, 'HHEM-2.1-English': 0.93464, 'HHEM-2.1-Open': 0.93822, 'minicheck-roberta-large': 1, 'minicheck-deberta-v3-large': 1}, 'Experts warn that the actual number affected could be much higher, with research suggesting that at least one in 100 UK babies could suffer learning, behavioural, ': {'labels': ['Unwanted.Instrinsic', 'Unwanted'], 'alignscore-base': 0.14847, 'alignscore-large': 0.65515, 'HHEMv1': 0.99897, 'HHEM-2.1': 0.99136, 'HHEM-2.1-English': 0.99866, 'HHEM-2.1-Open': 0.98131, 'minicheck-roberta-large': 1, 'minicheck-deberta-v3-large': 1}}\n",
      "{\"Here's a concise summary of the passage:\\n\\n\": {'labels': ['Consistent'], 'alignscore-base': 0.36934, 'alignscore-large': 0.71803, 'HHEMv1': 0.13172, 'HHEM-2.1': 0.68756, 'HHEM-2.1-English': 0.72496, 'HHEM-2.1-Open': 0.61544, 'minicheck-roberta-large': 1}, 'The passage discusses the 2014 Man Booker Prize shortlist and its contenders. ': {'labels': ['Benign'], 'alignscore-base': 0.98786, 'alignscore-large': 0.98174, 'HHEMv1': 0.68948, 'HHEM-2.1': 0.94518, 'HHEM-2.1-English': 0.97359, 'HHEM-2.1-Open': 0.51824, 'minicheck-roberta-large': 1}, 'Key points include:\\n\\n1. Neel Mukherjee\\'s \"The Lives of Others\" is the bookmakers\\' favorite to win.\\n\\n': {'labels': ['Benign'], 'alignscore-base': 0.60721, 'alignscore-large': 0.95905, 'HHEMv1': 0.22935, 'HHEM-2.1': 0.11796, 'HHEM-2.1-English': 0.19606, 'HHEM-2.1-Open': 0.2178, 'minicheck-roberta-large': 1}, '2. This is the first year the prize is open to all English-language authors, regardless of nationality.\\n\\n': {'labels': ['Consistent'], 'alignscore-base': 0.68428, 'alignscore-large': 0.59048, 'HHEMv1': 0.30563, 'HHEM-2.1': 0.99092, 'HHEM-2.1-English': 0.99276, 'HHEM-2.1-Open': 0.97857, 'minicheck-roberta-large': 1}, '3. The shortlist includes six authors: three British, two American, and one Australian.\\n\\n': {'labels': ['Consistent'], 'alignscore-base': 0.66579, 'alignscore-large': 0.46536, 'HHEMv1': 0.15952, 'HHEM-2.1': 0.97198, 'HHEM-2.1-English': 0.98667, 'HHEM-2.1-Open': 0.7985, 'minicheck-roberta-large': 1}, '4. Brief descriptions of each shortlisted novel are provided.\\n\\n': {'labels': ['Consistent'], 'alignscore-base': 0.47006, 'alignscore-large': 0.58812, 'HHEMv1': 0.56251, 'HHEM-2.1': 0.44573, 'HHEM-2.1-English': 0.14089, 'HHEM-2.1-Open': 0.26221, 'minicheck-roberta-large': 1}, '5. Karen Joy Fowler\\'s \"We Are All Completely Beside Ourselves\" is the best-selling shortlisted book.\\n\\n': {'labels': ['Consistent'], 'alignscore-base': 0.75999, 'alignscore-large': 0.67597, 'HHEMv1': 0.74124, 'HHEM-2.1': 0.94042, 'HHEM-2.1-English': 0.80965, 'HHEM-2.1-Open': 0.85407, 'minicheck-roberta-large': 1}, '6. The announcement of the shortlist caused a sales spike for all nominated books.\\n\\n': {'labels': ['Consistent'], 'alignscore-base': 0.85061, 'alignscore-large': 0.78541, 'HHEMv1': 0.93373, 'HHEM-2.1': 0.96901, 'HHEM-2.1-English': 0.87304, 'HHEM-2.1-Open': 0.90366, 'minicheck-roberta-large': 1}, '7. Some controversy surrounds the selection, with a literature professor calling it a \"weak list.\"\\n\\n': {'labels': ['Consistent'], 'alignscore-base': 0.63499, 'alignscore-large': 0.63236, 'HHEMv1': 0.94092, 'HHEM-2.1': 0.89619, 'HHEM-2.1-English': 0.87752, 'HHEM-2.1-Open': 0.25312, 'minicheck-roberta-large': 1}, \"8. The winner will be announced at London's Guildhall, with the ceremony covered by BBC.\\n\\n\": {'labels': ['Consistent'], 'alignscore-base': 0.33873, 'alignscore-large': 0.38602, 'HHEMv1': 0.81094, 'HHEM-2.1': 0.8629, 'HHEM-2.1-English': 0.61813, 'HHEM-2.1-Open': 0.7479, 'minicheck-roberta-large': 0}, '9. This is the 46th year of the Booker Prize, with each shortlisted author receiving £2,500 and a special edition of their book.\\n\\n': {'labels': ['Consistent'], 'alignscore-base': 0.71471, 'alignscore-large': 0.64354, 'HHEMv1': 0.87443, 'HHEM-2.1': 0.93258, 'HHEM-2.1-English': 0.91607, 'HHEM-2.1-Open': 0.8071, 'minicheck-roberta-large': 0}}\n"
     ]
    },
    {
     "name": "stderr",
     "output_type": "stream",
     "text": [
      "Evaluating: 100%|██████████| 1/1 [00:02<00:00,  2.86s/it]\n"
     ]
    },
    {
     "name": "stdout",
     "output_type": "stream",
     "text": [
      "[1]\n"
     ]
    },
    {
     "name": "stderr",
     "output_type": "stream",
     "text": [
      "Evaluating: 100%|██████████| 1/1 [00:02<00:00,  2.90s/it]\n"
     ]
    },
    {
     "name": "stdout",
     "output_type": "stream",
     "text": [
      "[0]\n"
     ]
    },
    {
     "name": "stderr",
     "output_type": "stream",
     "text": [
      "Evaluating: 100%|██████████| 1/1 [00:03<00:00,  3.04s/it]\n"
     ]
    },
    {
     "name": "stdout",
     "output_type": "stream",
     "text": [
      "[1]\n"
     ]
    },
    {
     "name": "stderr",
     "output_type": "stream",
     "text": [
      "Evaluating: 100%|██████████| 1/1 [00:02<00:00,  2.97s/it]\n"
     ]
    },
    {
     "name": "stdout",
     "output_type": "stream",
     "text": [
      "[1]\n"
     ]
    },
    {
     "name": "stderr",
     "output_type": "stream",
     "text": [
      "Evaluating: 100%|██████████| 1/1 [00:02<00:00,  2.93s/it]\n"
     ]
    },
    {
     "name": "stdout",
     "output_type": "stream",
     "text": [
      "[0]\n"
     ]
    },
    {
     "name": "stderr",
     "output_type": "stream",
     "text": [
      "Evaluating: 100%|██████████| 1/1 [00:02<00:00,  2.68s/it]\n"
     ]
    },
    {
     "name": "stdout",
     "output_type": "stream",
     "text": [
      "[0]\n"
     ]
    },
    {
     "name": "stderr",
     "output_type": "stream",
     "text": [
      "Evaluating: 100%|██████████| 1/1 [00:02<00:00,  2.94s/it]\n"
     ]
    },
    {
     "name": "stdout",
     "output_type": "stream",
     "text": [
      "[0]\n"
     ]
    },
    {
     "name": "stderr",
     "output_type": "stream",
     "text": [
      "Evaluating: 100%|██████████| 1/1 [00:02<00:00,  2.85s/it]\n"
     ]
    },
    {
     "name": "stdout",
     "output_type": "stream",
     "text": [
      "[1]\n"
     ]
    },
    {
     "name": "stderr",
     "output_type": "stream",
     "text": [
      "Evaluating: 100%|██████████| 1/1 [00:02<00:00,  2.92s/it]\n"
     ]
    },
    {
     "name": "stdout",
     "output_type": "stream",
     "text": [
      "[1]\n"
     ]
    },
    {
     "name": "stderr",
     "output_type": "stream",
     "text": [
      "Evaluating: 100%|██████████| 1/1 [00:03<00:00,  3.00s/it]\n"
     ]
    },
    {
     "name": "stdout",
     "output_type": "stream",
     "text": [
      "[0]\n"
     ]
    },
    {
     "name": "stderr",
     "output_type": "stream",
     "text": [
      "Evaluating: 100%|██████████| 1/1 [00:02<00:00,  2.99s/it]\n"
     ]
    },
    {
     "name": "stdout",
     "output_type": "stream",
     "text": [
      "[0]\n",
      "{\"Here's a concise summary of the passage:\\n\\n\": {'labels': ['Consistent'], 'alignscore-base': 0.36934, 'alignscore-large': 0.71803, 'HHEMv1': 0.13172, 'HHEM-2.1': 0.68756, 'HHEM-2.1-English': 0.72496, 'HHEM-2.1-Open': 0.61544, 'minicheck-roberta-large': 1, 'minicheck-deberta-v3-large': 1}, 'The passage discusses the 2014 Man Booker Prize shortlist and its contenders. ': {'labels': ['Benign'], 'alignscore-base': 0.98786, 'alignscore-large': 0.98174, 'HHEMv1': 0.68948, 'HHEM-2.1': 0.94518, 'HHEM-2.1-English': 0.97359, 'HHEM-2.1-Open': 0.51824, 'minicheck-roberta-large': 1, 'minicheck-deberta-v3-large': 0}, 'Key points include:\\n\\n1. Neel Mukherjee\\'s \"The Lives of Others\" is the bookmakers\\' favorite to win.\\n\\n': {'labels': ['Benign'], 'alignscore-base': 0.60721, 'alignscore-large': 0.95905, 'HHEMv1': 0.22935, 'HHEM-2.1': 0.11796, 'HHEM-2.1-English': 0.19606, 'HHEM-2.1-Open': 0.2178, 'minicheck-roberta-large': 1, 'minicheck-deberta-v3-large': 1}, '2. This is the first year the prize is open to all English-language authors, regardless of nationality.\\n\\n': {'labels': ['Consistent'], 'alignscore-base': 0.68428, 'alignscore-large': 0.59048, 'HHEMv1': 0.30563, 'HHEM-2.1': 0.99092, 'HHEM-2.1-English': 0.99276, 'HHEM-2.1-Open': 0.97857, 'minicheck-roberta-large': 1, 'minicheck-deberta-v3-large': 1}, '3. The shortlist includes six authors: three British, two American, and one Australian.\\n\\n': {'labels': ['Consistent'], 'alignscore-base': 0.66579, 'alignscore-large': 0.46536, 'HHEMv1': 0.15952, 'HHEM-2.1': 0.97198, 'HHEM-2.1-English': 0.98667, 'HHEM-2.1-Open': 0.7985, 'minicheck-roberta-large': 1, 'minicheck-deberta-v3-large': 0}, '4. Brief descriptions of each shortlisted novel are provided.\\n\\n': {'labels': ['Consistent'], 'alignscore-base': 0.47006, 'alignscore-large': 0.58812, 'HHEMv1': 0.56251, 'HHEM-2.1': 0.44573, 'HHEM-2.1-English': 0.14089, 'HHEM-2.1-Open': 0.26221, 'minicheck-roberta-large': 1, 'minicheck-deberta-v3-large': 0}, '5. Karen Joy Fowler\\'s \"We Are All Completely Beside Ourselves\" is the best-selling shortlisted book.\\n\\n': {'labels': ['Consistent'], 'alignscore-base': 0.75999, 'alignscore-large': 0.67597, 'HHEMv1': 0.74124, 'HHEM-2.1': 0.94042, 'HHEM-2.1-English': 0.80965, 'HHEM-2.1-Open': 0.85407, 'minicheck-roberta-large': 1, 'minicheck-deberta-v3-large': 0}, '6. The announcement of the shortlist caused a sales spike for all nominated books.\\n\\n': {'labels': ['Consistent'], 'alignscore-base': 0.85061, 'alignscore-large': 0.78541, 'HHEMv1': 0.93373, 'HHEM-2.1': 0.96901, 'HHEM-2.1-English': 0.87304, 'HHEM-2.1-Open': 0.90366, 'minicheck-roberta-large': 1, 'minicheck-deberta-v3-large': 1}, '7. Some controversy surrounds the selection, with a literature professor calling it a \"weak list.\"\\n\\n': {'labels': ['Consistent'], 'alignscore-base': 0.63499, 'alignscore-large': 0.63236, 'HHEMv1': 0.94092, 'HHEM-2.1': 0.89619, 'HHEM-2.1-English': 0.87752, 'HHEM-2.1-Open': 0.25312, 'minicheck-roberta-large': 1, 'minicheck-deberta-v3-large': 1}, \"8. The winner will be announced at London's Guildhall, with the ceremony covered by BBC.\\n\\n\": {'labels': ['Consistent'], 'alignscore-base': 0.33873, 'alignscore-large': 0.38602, 'HHEMv1': 0.81094, 'HHEM-2.1': 0.8629, 'HHEM-2.1-English': 0.61813, 'HHEM-2.1-Open': 0.7479, 'minicheck-roberta-large': 0, 'minicheck-deberta-v3-large': 0}, '9. This is the 46th year of the Booker Prize, with each shortlisted author receiving £2,500 and a special edition of their book.\\n\\n': {'labels': ['Consistent'], 'alignscore-base': 0.71471, 'alignscore-large': 0.64354, 'HHEMv1': 0.87443, 'HHEM-2.1': 0.93258, 'HHEM-2.1-English': 0.91607, 'HHEM-2.1-Open': 0.8071, 'minicheck-roberta-large': 0, 'minicheck-deberta-v3-large': 0}}\n",
      "{' Veteran actor Robert Hardy, known for his roles in \"All Creatures Great and Small\" and portraying Winston Churchill, is selling his collection of antiques, including a 3D diorama of the Battle of Agincourt, for £100,000 in a £100,000 auction. ': {'labels': ['Unwanted', 'Unwanted.Instrinsic'], 'alignscore-base': 0.25322, 'alignscore-large': 0.117, 'HHEMv1': 0.16885, 'HHEM-2.1': 0.37813, 'HHEM-2.1-English': 0.69007, 'HHEM-2.1-Open': 0.85958, 'minicheck-roberta-large': 1}, 'The collection, which includes furniture, swords, flintlock rifles, silverware, and crystal chandeliers, is being sold by Dominic Winter Auctioneers in Gloucestershire. ': {'labels': ['Consistent'], 'alignscore-base': 0.6258, 'alignscore-large': 0.87134, 'HHEMv1': 0.66257, 'HHEM-2.1': 0.99282, 'HHEM-2.1-English': 0.99848, 'HHEM-2.1-Open': 0.97027, 'minicheck-roberta-large': 0}, 'Hardy, 89, is downsizing his home and has expressed sadness at parting with his treasured library. ': {'labels': ['Consistent'], 'alignscore-base': 0.73024, 'alignscore-large': 0.47439, 'HHEMv1': 0.82303, 'HHEM-2.1': 0.98818, 'HHEM-2.1-English': 0.99547, 'HHEM-2.1-Open': 0.97359, 'minicheck-roberta-large': 0}, 'The auction, featuring over 200 items, will take place on Saturday and includes a painting of Hardy with a longbow, a diorama commissioned by Hardy in the 1960s, and a historical painting of Alfred the Great. ': {'labels': ['Consistent'], 'alignscore-base': 0.34685, 'alignscore-large': 0.62064, 'HHEMv1': 0.41959, 'HHEM-2.1': 0.61725, 'HHEM-2.1-English': 0.97766, 'HHEM-2.1-Open': 0.95185, 'minicheck-roberta-large': 0}, \"Hardy's interest in classic literature and military history has contributed to his collection, and he has also appeared in the Harry Potter films as Minister for Magic Cornelius Fudge. \": {'labels': ['Benign'], 'alignscore-base': 0.53574, 'alignscore-large': 0.36807, 'HHEMv1': 0.95007, 'HHEM-2.1': 0.98806, 'HHEM-2.1-English': 0.99886, 'HHEM-2.1-Open': 0.93449, 'minicheck-roberta-large': 0}}\n"
     ]
    },
    {
     "name": "stderr",
     "output_type": "stream",
     "text": [
      "Evaluating: 100%|██████████| 1/1 [00:03<00:00,  3.36s/it]\n"
     ]
    },
    {
     "name": "stdout",
     "output_type": "stream",
     "text": [
      "[0]\n"
     ]
    },
    {
     "name": "stderr",
     "output_type": "stream",
     "text": [
      "Evaluating: 100%|██████████| 1/1 [00:02<00:00,  2.86s/it]\n"
     ]
    },
    {
     "name": "stdout",
     "output_type": "stream",
     "text": [
      "[0]\n"
     ]
    },
    {
     "name": "stderr",
     "output_type": "stream",
     "text": [
      "Evaluating: 100%|██████████| 1/1 [00:03<00:00,  3.04s/it]\n"
     ]
    },
    {
     "name": "stdout",
     "output_type": "stream",
     "text": [
      "[0]\n"
     ]
    },
    {
     "name": "stderr",
     "output_type": "stream",
     "text": [
      "Evaluating: 100%|██████████| 1/1 [00:03<00:00,  3.23s/it]\n"
     ]
    },
    {
     "name": "stdout",
     "output_type": "stream",
     "text": [
      "[0]\n"
     ]
    },
    {
     "name": "stderr",
     "output_type": "stream",
     "text": [
      "Evaluating: 100%|██████████| 1/1 [00:03<00:00,  3.10s/it]\n"
     ]
    },
    {
     "name": "stdout",
     "output_type": "stream",
     "text": [
      "[0]\n",
      "{' Veteran actor Robert Hardy, known for his roles in \"All Creatures Great and Small\" and portraying Winston Churchill, is selling his collection of antiques, including a 3D diorama of the Battle of Agincourt, for £100,000 in a £100,000 auction. ': {'labels': ['Unwanted', 'Unwanted.Instrinsic'], 'alignscore-base': 0.25322, 'alignscore-large': 0.117, 'HHEMv1': 0.16885, 'HHEM-2.1': 0.37813, 'HHEM-2.1-English': 0.69007, 'HHEM-2.1-Open': 0.85958, 'minicheck-roberta-large': 1, 'minicheck-deberta-v3-large': 0}, 'The collection, which includes furniture, swords, flintlock rifles, silverware, and crystal chandeliers, is being sold by Dominic Winter Auctioneers in Gloucestershire. ': {'labels': ['Consistent'], 'alignscore-base': 0.6258, 'alignscore-large': 0.87134, 'HHEMv1': 0.66257, 'HHEM-2.1': 0.99282, 'HHEM-2.1-English': 0.99848, 'HHEM-2.1-Open': 0.97027, 'minicheck-roberta-large': 0, 'minicheck-deberta-v3-large': 0}, 'Hardy, 89, is downsizing his home and has expressed sadness at parting with his treasured library. ': {'labels': ['Consistent'], 'alignscore-base': 0.73024, 'alignscore-large': 0.47439, 'HHEMv1': 0.82303, 'HHEM-2.1': 0.98818, 'HHEM-2.1-English': 0.99547, 'HHEM-2.1-Open': 0.97359, 'minicheck-roberta-large': 0, 'minicheck-deberta-v3-large': 0}, 'The auction, featuring over 200 items, will take place on Saturday and includes a painting of Hardy with a longbow, a diorama commissioned by Hardy in the 1960s, and a historical painting of Alfred the Great. ': {'labels': ['Consistent'], 'alignscore-base': 0.34685, 'alignscore-large': 0.62064, 'HHEMv1': 0.41959, 'HHEM-2.1': 0.61725, 'HHEM-2.1-English': 0.97766, 'HHEM-2.1-Open': 0.95185, 'minicheck-roberta-large': 0, 'minicheck-deberta-v3-large': 0}, \"Hardy's interest in classic literature and military history has contributed to his collection, and he has also appeared in the Harry Potter films as Minister for Magic Cornelius Fudge. \": {'labels': ['Benign'], 'alignscore-base': 0.53574, 'alignscore-large': 0.36807, 'HHEMv1': 0.95007, 'HHEM-2.1': 0.98806, 'HHEM-2.1-English': 0.99886, 'HHEM-2.1-Open': 0.93449, 'minicheck-roberta-large': 0, 'minicheck-deberta-v3-large': 0}}\n",
      "{' The passage discusses a study by the Institute for Health Metrics and Evaluation at the University of Washington, published in the American Journal of Public Health, which found an increase in heavy drinking and binge-drinking among Americans between 2005 and 2012. ': {'labels': ['Consistent'], 'alignscore-base': 0.76417, 'alignscore-large': 0.76526, 'HHEMv1': 0.30142, 'HHEM-2.1': 0.99316, 'HHEM-2.1-English': 0.99904, 'HHEM-2.1-Open': 0.98043, 'minicheck-roberta-large': 1}, 'Heavy drinking is defined as exceeding an average of one drink per day for women and two drinks per day for men, while binge drinking is defined as four or more drinks for women and five or more drinks for men on a single occasion. ': {'labels': ['Unwanted.Instrinsic', 'Unwanted'], 'alignscore-base': 0.3813, 'alignscore-large': 0.77914, 'HHEMv1': 0.30089, 'HHEM-2.1': 0.99585, 'HHEM-2.1-English': 0.99869, 'HHEM-2.1-Open': 0.97516, 'minicheck-roberta-large': 1}, \"The study found that the increase in heavy drinking is largely driven by women's drinking habits as social norms change. \": {'labels': ['Consistent'], 'alignscore-base': 0.93206, 'alignscore-large': 0.78476, 'HHEMv1': 0.92081, 'HHEM-2.1': 0.99434, 'HHEM-2.1-English': 0.99925, 'HHEM-2.1-Open': 0.99037, 'minicheck-roberta-large': 1}, 'The study is the first to track adult drinking patterns at the county level, and in 2012, 8% of Americans were considered heavy drinkers and 18% were binge drinkers. ': {'labels': ['Consistent'], 'alignscore-base': 0.47359, 'alignscore-large': 0.99417, 'HHEMv1': 0.80002, 'HHEM-2.1': 0.99361, 'HHEM-2.1-English': 0.99942, 'HHEM-2.1-Open': 0.94595, 'minicheck-roberta-large': 1}, 'Despite the increases in heavy drinking, the percentage of people who drink any alcohol has remained relatively unchanged over time. ': {'labels': ['Consistent'], 'alignscore-base': 0.80062, 'alignscore-large': 0.93241, 'HHEMv1': 0.95041, 'HHEM-2.1': 0.99496, 'HHEM-2.1-English': 0.99899, 'HHEM-2.1-Open': 0.98278, 'minicheck-roberta-large': 1}, 'The study also notes that 88,600 U.S. deaths were attributed to alcohol in 2010, and the cost of excessive drinking has been estimated at more than $220 billion per year. ': {'labels': ['Consistent'], 'alignscore-base': 0.23686, 'alignscore-large': 0.90925, 'HHEMv1': 0.97089, 'HHEM-2.1': 0.9935, 'HHEM-2.1-English': 0.99838, 'HHEM-2.1-Open': 0.98657, 'minicheck-roberta-large': 1}}\n"
     ]
    },
    {
     "name": "stderr",
     "output_type": "stream",
     "text": [
      "Evaluating: 100%|██████████| 1/1 [00:03<00:00,  3.05s/it]\n"
     ]
    },
    {
     "name": "stdout",
     "output_type": "stream",
     "text": [
      "[1]\n"
     ]
    },
    {
     "name": "stderr",
     "output_type": "stream",
     "text": [
      "Evaluating: 100%|██████████| 1/1 [00:03<00:00,  3.40s/it]\n"
     ]
    },
    {
     "name": "stdout",
     "output_type": "stream",
     "text": [
      "[1]\n"
     ]
    },
    {
     "name": "stderr",
     "output_type": "stream",
     "text": [
      "Evaluating: 100%|██████████| 1/1 [00:02<00:00,  2.79s/it]\n"
     ]
    },
    {
     "name": "stdout",
     "output_type": "stream",
     "text": [
      "[1]\n"
     ]
    },
    {
     "name": "stderr",
     "output_type": "stream",
     "text": [
      "Evaluating: 100%|██████████| 1/1 [00:02<00:00,  2.83s/it]\n"
     ]
    },
    {
     "name": "stdout",
     "output_type": "stream",
     "text": [
      "[1]\n"
     ]
    },
    {
     "name": "stderr",
     "output_type": "stream",
     "text": [
      "Evaluating: 100%|██████████| 1/1 [00:02<00:00,  2.66s/it]\n"
     ]
    },
    {
     "name": "stdout",
     "output_type": "stream",
     "text": [
      "[1]\n"
     ]
    },
    {
     "name": "stderr",
     "output_type": "stream",
     "text": [
      "Evaluating: 100%|██████████| 1/1 [00:02<00:00,  2.89s/it]\n"
     ]
    },
    {
     "name": "stdout",
     "output_type": "stream",
     "text": [
      "[1]\n",
      "{' The passage discusses a study by the Institute for Health Metrics and Evaluation at the University of Washington, published in the American Journal of Public Health, which found an increase in heavy drinking and binge-drinking among Americans between 2005 and 2012. ': {'labels': ['Consistent'], 'alignscore-base': 0.76417, 'alignscore-large': 0.76526, 'HHEMv1': 0.30142, 'HHEM-2.1': 0.99316, 'HHEM-2.1-English': 0.99904, 'HHEM-2.1-Open': 0.98043, 'minicheck-roberta-large': 1, 'minicheck-deberta-v3-large': 1}, 'Heavy drinking is defined as exceeding an average of one drink per day for women and two drinks per day for men, while binge drinking is defined as four or more drinks for women and five or more drinks for men on a single occasion. ': {'labels': ['Unwanted.Instrinsic', 'Unwanted'], 'alignscore-base': 0.3813, 'alignscore-large': 0.77914, 'HHEMv1': 0.30089, 'HHEM-2.1': 0.99585, 'HHEM-2.1-English': 0.99869, 'HHEM-2.1-Open': 0.97516, 'minicheck-roberta-large': 1, 'minicheck-deberta-v3-large': 1}, \"The study found that the increase in heavy drinking is largely driven by women's drinking habits as social norms change. \": {'labels': ['Consistent'], 'alignscore-base': 0.93206, 'alignscore-large': 0.78476, 'HHEMv1': 0.92081, 'HHEM-2.1': 0.99434, 'HHEM-2.1-English': 0.99925, 'HHEM-2.1-Open': 0.99037, 'minicheck-roberta-large': 1, 'minicheck-deberta-v3-large': 1}, 'The study is the first to track adult drinking patterns at the county level, and in 2012, 8% of Americans were considered heavy drinkers and 18% were binge drinkers. ': {'labels': ['Consistent'], 'alignscore-base': 0.47359, 'alignscore-large': 0.99417, 'HHEMv1': 0.80002, 'HHEM-2.1': 0.99361, 'HHEM-2.1-English': 0.99942, 'HHEM-2.1-Open': 0.94595, 'minicheck-roberta-large': 1, 'minicheck-deberta-v3-large': 1}, 'Despite the increases in heavy drinking, the percentage of people who drink any alcohol has remained relatively unchanged over time. ': {'labels': ['Consistent'], 'alignscore-base': 0.80062, 'alignscore-large': 0.93241, 'HHEMv1': 0.95041, 'HHEM-2.1': 0.99496, 'HHEM-2.1-English': 0.99899, 'HHEM-2.1-Open': 0.98278, 'minicheck-roberta-large': 1, 'minicheck-deberta-v3-large': 1}, 'The study also notes that 88,600 U.S. deaths were attributed to alcohol in 2010, and the cost of excessive drinking has been estimated at more than $220 billion per year. ': {'labels': ['Consistent'], 'alignscore-base': 0.23686, 'alignscore-large': 0.90925, 'HHEMv1': 0.97089, 'HHEM-2.1': 0.9935, 'HHEM-2.1-English': 0.99838, 'HHEM-2.1-Open': 0.98657, 'minicheck-roberta-large': 1, 'minicheck-deberta-v3-large': 1}}\n",
      "Run model 2 - flan-t5-large\n",
      "{\"Here's a concise summary of the passage, covering the core pieces of information:\\n\\n\": {'labels': ['Consistent'], 'alignscore-base': 0.0026, 'alignscore-large': 0.04955, 'HHEMv1': 0.36422, 'HHEM-2.1': 0.70906, 'HHEM-2.1-English': 0.74753, 'HHEM-2.1-Open': 0.79617, 'minicheck-roberta-large': 0, 'minicheck-deberta-v3-large': 1}, 'The passage contains two unrelated pieces of information:\\n\\n': {'labels': ['Consistent'], 'alignscore-base': 0.05622, 'alignscore-large': 0.86291, 'HHEMv1': 0.08295, 'HHEM-2.1': 0.71762, 'HHEM-2.1-English': 0.65195, 'HHEM-2.1-Open': 0.71545, 'minicheck-roberta-large': 0, 'minicheck-deberta-v3-large': 0}, '1. Anne Rice: \\n- Born in New Orleans\\n- Spent much of her early life in New Orleans\\n- Later moved to Texas and then to San Francisco\\n\\n': {'labels': ['Consistent'], 'alignscore-base': 0.46265, 'alignscore-large': 0.50817, 'HHEMv1': 0.96417, 'HHEM-2.1': 0.98892, 'HHEM-2.1-English': 0.99657, 'HHEM-2.1-Open': 0.97752, 'minicheck-roberta-large': 1, 'minicheck-deberta-v3-large': 0}, '2. Route 495:\\n- A 3.45-mile freeway in Hudson County, New Jersey, USA\\n- Connects the New Jersey Turnpike (I-95) at exits 16E and 17 in Secaucus\\n- Extends to New York State Route 495 inside the Lincoln Tunnel in Weehawken\\n- Provides access to Midtown Manhattan': {'labels': ['Consistent'], 'alignscore-base': 0.49243, 'alignscore-large': 0.51646, 'HHEMv1': 0.95661, 'HHEM-2.1': 0.98928, 'HHEM-2.1-English': 0.99691, 'HHEM-2.1-Open': 0.98486, 'minicheck-roberta-large': 1, 'minicheck-deberta-v3-large': 1}}\n"
     ]
    },
    {
     "name": "stderr",
     "output_type": "stream",
     "text": [
      "Evaluating: 100%|██████████| 1/1 [00:00<00:00,  5.81it/s]\n"
     ]
    },
    {
     "name": "stdout",
     "output_type": "stream",
     "text": [
      "[0]\n"
     ]
    },
    {
     "name": "stderr",
     "output_type": "stream",
     "text": [
      "Evaluating: 100%|██████████| 1/1 [00:00<00:00, 10.76it/s]\n"
     ]
    },
    {
     "name": "stdout",
     "output_type": "stream",
     "text": [
      "[1]\n"
     ]
    },
    {
     "name": "stderr",
     "output_type": "stream",
     "text": [
      "Evaluating: 100%|██████████| 1/1 [00:00<00:00, 11.99it/s]\n"
     ]
    },
    {
     "name": "stdout",
     "output_type": "stream",
     "text": [
      "[1]\n"
     ]
    },
    {
     "name": "stderr",
     "output_type": "stream",
     "text": [
      "Evaluating: 100%|██████████| 1/1 [00:00<00:00, 10.50it/s]\n"
     ]
    },
    {
     "name": "stdout",
     "output_type": "stream",
     "text": [
      "[1]\n",
      "{\"Here's a concise summary of the passage, covering the core pieces of information:\\n\\n\": {'labels': ['Consistent'], 'alignscore-base': 0.0026, 'alignscore-large': 0.04955, 'HHEMv1': 0.36422, 'HHEM-2.1': 0.70906, 'HHEM-2.1-English': 0.74753, 'HHEM-2.1-Open': 0.79617, 'minicheck-roberta-large': 0, 'minicheck-deberta-v3-large': 1, 'minicheck-flan-t5-large': 0}, 'The passage contains two unrelated pieces of information:\\n\\n': {'labels': ['Consistent'], 'alignscore-base': 0.05622, 'alignscore-large': 0.86291, 'HHEMv1': 0.08295, 'HHEM-2.1': 0.71762, 'HHEM-2.1-English': 0.65195, 'HHEM-2.1-Open': 0.71545, 'minicheck-roberta-large': 0, 'minicheck-deberta-v3-large': 0, 'minicheck-flan-t5-large': 1}, '1. Anne Rice: \\n- Born in New Orleans\\n- Spent much of her early life in New Orleans\\n- Later moved to Texas and then to San Francisco\\n\\n': {'labels': ['Consistent'], 'alignscore-base': 0.46265, 'alignscore-large': 0.50817, 'HHEMv1': 0.96417, 'HHEM-2.1': 0.98892, 'HHEM-2.1-English': 0.99657, 'HHEM-2.1-Open': 0.97752, 'minicheck-roberta-large': 1, 'minicheck-deberta-v3-large': 0, 'minicheck-flan-t5-large': 1}, '2. Route 495:\\n- A 3.45-mile freeway in Hudson County, New Jersey, USA\\n- Connects the New Jersey Turnpike (I-95) at exits 16E and 17 in Secaucus\\n- Extends to New York State Route 495 inside the Lincoln Tunnel in Weehawken\\n- Provides access to Midtown Manhattan': {'labels': ['Consistent'], 'alignscore-base': 0.49243, 'alignscore-large': 0.51646, 'HHEMv1': 0.95661, 'HHEM-2.1': 0.98928, 'HHEM-2.1-English': 0.99691, 'HHEM-2.1-Open': 0.98486, 'minicheck-roberta-large': 1, 'minicheck-deberta-v3-large': 1, 'minicheck-flan-t5-large': 1}}\n",
      "{\"Here's a concise summary of the passage, covering the core pieces of information:\\n\\n\": {'labels': ['Consistent'], 'alignscore-base': 0.00158, 'alignscore-large': 0.18221, 'HHEMv1': 0.12795, 'HHEM-2.1': 0.35209, 'HHEM-2.1-English': 0.44426, 'HHEM-2.1-Open': 0.85748, 'minicheck-roberta-large': 0, 'minicheck-deberta-v3-large': 1}, 'The passage describes two different films titled \"Home for the Holidays\":\\n\\n': {'labels': ['Consistent'], 'alignscore-base': 0.53573, 'alignscore-large': 0.81642, 'HHEMv1': 0.72958, 'HHEM-2.1': 0.87018, 'HHEM-2.1-English': 0.91655, 'HHEM-2.1-Open': 0.91585, 'minicheck-roberta-large': 0, 'minicheck-deberta-v3-large': 0}, '1. A 1972 American made-for-television horror film:\\n- Directed by John Llewellyn Moxey\\n- Produced by Aaron Spelling\\n- Starred Sally Field, Eleanor Parker, Julie Harris, Jessica Walter, and Walter Brennan\\n- Premiered on ABC on November 28, 1972\\n\\n': {'labels': ['Consistent'], 'alignscore-base': 0.40259, 'alignscore-large': 0.56035, 'HHEMv1': 0.89509, 'HHEM-2.1': 0.98496, 'HHEM-2.1-English': 0.99182, 'HHEM-2.1-Open': 0.97745, 'minicheck-roberta-large': 1, 'minicheck-deberta-v3-large': 1}, '2. A 1995 film:\\n- Starred Holly Hunter, Robert Downey Jr., Anne Bancroft, Charles Durning, Dylan McDermott, Geraldine Chaplin, Steve Guttenberg, Cynthia Stevenson, Claire Danes, Austin Pendleton, and David Strathairn\\n\\n': {'labels': ['Consistent'], 'alignscore-base': 0.50913, 'alignscore-large': 0.59188, 'HHEMv1': 0.55223, 'HHEM-2.1': 0.98119, 'HHEM-2.1-English': 0.99579, 'HHEM-2.1-Open': 0.99379, 'minicheck-roberta-large': 1, 'minicheck-deberta-v3-large': 0}, 'The passage provides basic information about these two separate films that share the same title but are from different years and genres.': {'labels': ['Unwanted.Extrinsic', 'Unwanted', 'Questionable', 'Unwanted.Instrinsic'], 'alignscore-base': 0.49891, 'alignscore-large': 0.76283, 'HHEMv1': 0.80271, 'HHEM-2.1': 0.83574, 'HHEM-2.1-English': 0.94758, 'HHEM-2.1-Open': 0.9201, 'minicheck-roberta-large': 0, 'minicheck-deberta-v3-large': 1}}\n"
     ]
    },
    {
     "name": "stderr",
     "output_type": "stream",
     "text": [
      "Evaluating: 100%|██████████| 1/1 [00:00<00:00, 12.84it/s]\n"
     ]
    },
    {
     "name": "stdout",
     "output_type": "stream",
     "text": [
      "[0]\n"
     ]
    },
    {
     "name": "stderr",
     "output_type": "stream",
     "text": [
      "Evaluating: 100%|██████████| 1/1 [00:00<00:00, 12.58it/s]\n"
     ]
    },
    {
     "name": "stdout",
     "output_type": "stream",
     "text": [
      "[0]\n"
     ]
    },
    {
     "name": "stderr",
     "output_type": "stream",
     "text": [
      "Evaluating: 100%|██████████| 1/1 [00:00<00:00, 11.49it/s]\n"
     ]
    },
    {
     "name": "stdout",
     "output_type": "stream",
     "text": [
      "[0]\n"
     ]
    },
    {
     "name": "stderr",
     "output_type": "stream",
     "text": [
      "Evaluating: 100%|██████████| 1/1 [00:00<00:00, 11.73it/s]\n"
     ]
    },
    {
     "name": "stdout",
     "output_type": "stream",
     "text": [
      "[1]\n"
     ]
    },
    {
     "name": "stderr",
     "output_type": "stream",
     "text": [
      "Evaluating: 100%|██████████| 1/1 [00:00<00:00, 12.50it/s]\n"
     ]
    },
    {
     "name": "stdout",
     "output_type": "stream",
     "text": [
      "[1]\n",
      "{\"Here's a concise summary of the passage, covering the core pieces of information:\\n\\n\": {'labels': ['Consistent'], 'alignscore-base': 0.00158, 'alignscore-large': 0.18221, 'HHEMv1': 0.12795, 'HHEM-2.1': 0.35209, 'HHEM-2.1-English': 0.44426, 'HHEM-2.1-Open': 0.85748, 'minicheck-roberta-large': 0, 'minicheck-deberta-v3-large': 1, 'minicheck-flan-t5-large': 0}, 'The passage describes two different films titled \"Home for the Holidays\":\\n\\n': {'labels': ['Consistent'], 'alignscore-base': 0.53573, 'alignscore-large': 0.81642, 'HHEMv1': 0.72958, 'HHEM-2.1': 0.87018, 'HHEM-2.1-English': 0.91655, 'HHEM-2.1-Open': 0.91585, 'minicheck-roberta-large': 0, 'minicheck-deberta-v3-large': 0, 'minicheck-flan-t5-large': 0}, '1. A 1972 American made-for-television horror film:\\n- Directed by John Llewellyn Moxey\\n- Produced by Aaron Spelling\\n- Starred Sally Field, Eleanor Parker, Julie Harris, Jessica Walter, and Walter Brennan\\n- Premiered on ABC on November 28, 1972\\n\\n': {'labels': ['Consistent'], 'alignscore-base': 0.40259, 'alignscore-large': 0.56035, 'HHEMv1': 0.89509, 'HHEM-2.1': 0.98496, 'HHEM-2.1-English': 0.99182, 'HHEM-2.1-Open': 0.97745, 'minicheck-roberta-large': 1, 'minicheck-deberta-v3-large': 1, 'minicheck-flan-t5-large': 0}, '2. A 1995 film:\\n- Starred Holly Hunter, Robert Downey Jr., Anne Bancroft, Charles Durning, Dylan McDermott, Geraldine Chaplin, Steve Guttenberg, Cynthia Stevenson, Claire Danes, Austin Pendleton, and David Strathairn\\n\\n': {'labels': ['Consistent'], 'alignscore-base': 0.50913, 'alignscore-large': 0.59188, 'HHEMv1': 0.55223, 'HHEM-2.1': 0.98119, 'HHEM-2.1-English': 0.99579, 'HHEM-2.1-Open': 0.99379, 'minicheck-roberta-large': 1, 'minicheck-deberta-v3-large': 0, 'minicheck-flan-t5-large': 1}, 'The passage provides basic information about these two separate films that share the same title but are from different years and genres.': {'labels': ['Unwanted.Extrinsic', 'Unwanted', 'Questionable', 'Unwanted.Instrinsic'], 'alignscore-base': 0.49891, 'alignscore-large': 0.76283, 'HHEMv1': 0.80271, 'HHEM-2.1': 0.83574, 'HHEM-2.1-English': 0.94758, 'HHEM-2.1-Open': 0.9201, 'minicheck-roberta-large': 0, 'minicheck-deberta-v3-large': 1, 'minicheck-flan-t5-large': 1}}\n",
      "{\"Here's a concise summary of the passage, covering the core pieces of information:\\n\\n\": {'labels': ['Consistent'], 'alignscore-base': 0.00345, 'alignscore-large': 0.4123, 'HHEMv1': 0.27317, 'HHEM-2.1': 0.72848, 'HHEM-2.1-English': 0.89747, 'HHEM-2.1-Open': 0.86405, 'minicheck-roberta-large': 0, 'minicheck-deberta-v3-large': 1}, 'The passage describes two different individuals named James Jones:\\n\\n': {'labels': ['Consistent'], 'alignscore-base': 0.24057, 'alignscore-large': 0.96029, 'HHEMv1': 0.46568, 'HHEM-2.1': 0.94847, 'HHEM-2.1-English': 0.993, 'HHEM-2.1-Open': 0.94694, 'minicheck-roberta-large': 1, 'minicheck-deberta-v3-large': 1}, '1. James Jones (author):\\n- Won the 1952 National Book Award for his first novel, \"From Here to Eternity\"\\n- His novel was adapted into both a film and a television series\\n\\n': {'labels': ['Consistent'], 'alignscore-base': 0.0268, 'alignscore-large': 0.51552, 'HHEMv1': 0.98209, 'HHEM-2.1': 0.98079, 'HHEM-2.1-English': 0.99707, 'HHEM-2.1-Open': 0.94662, 'minicheck-roberta-large': 0, 'minicheck-deberta-v3-large': 1}, '2. James Jones (basketball player):\\n- Excelled in high school, averaging 25 points per game as a senior\\n- Earned Class 6A Player of the Year and First Team All-State honors\\n- Won three NBA championships (two with the Heat, one with the Cavaliers)\\n- Reached seven consecutive NBA Finals with teammate LeBron James\\n- Finished third in NBA three-point percentage in 2007-08 season\\n- Won the Three-Point Contest in 2011\\n': {'labels': ['Consistent'], 'alignscore-base': 0.26491, 'alignscore-large': 0.50855, 'HHEMv1': 0.9778, 'HHEM-2.1': 0.98252, 'HHEM-2.1-English': 0.98153, 'HHEM-2.1-Open': 0.68934, 'minicheck-roberta-large': 0, 'minicheck-deberta-v3-large': 0}}\n"
     ]
    },
    {
     "name": "stderr",
     "output_type": "stream",
     "text": [
      "Evaluating: 100%|██████████| 1/1 [00:00<00:00, 12.26it/s]\n"
     ]
    },
    {
     "name": "stdout",
     "output_type": "stream",
     "text": [
      "[1]\n"
     ]
    },
    {
     "name": "stderr",
     "output_type": "stream",
     "text": [
      "Evaluating: 100%|██████████| 1/1 [00:00<00:00, 13.30it/s]\n"
     ]
    },
    {
     "name": "stdout",
     "output_type": "stream",
     "text": [
      "[0]\n"
     ]
    },
    {
     "name": "stderr",
     "output_type": "stream",
     "text": [
      "Evaluating: 100%|██████████| 1/1 [00:00<00:00, 11.16it/s]\n"
     ]
    },
    {
     "name": "stdout",
     "output_type": "stream",
     "text": [
      "[1]\n"
     ]
    },
    {
     "name": "stderr",
     "output_type": "stream",
     "text": [
      "Evaluating: 100%|██████████| 1/1 [00:00<00:00, 12.91it/s]\n"
     ]
    },
    {
     "name": "stdout",
     "output_type": "stream",
     "text": [
      "[0]\n",
      "{\"Here's a concise summary of the passage, covering the core pieces of information:\\n\\n\": {'labels': ['Consistent'], 'alignscore-base': 0.00345, 'alignscore-large': 0.4123, 'HHEMv1': 0.27317, 'HHEM-2.1': 0.72848, 'HHEM-2.1-English': 0.89747, 'HHEM-2.1-Open': 0.86405, 'minicheck-roberta-large': 0, 'minicheck-deberta-v3-large': 1, 'minicheck-flan-t5-large': 1}, 'The passage describes two different individuals named James Jones:\\n\\n': {'labels': ['Consistent'], 'alignscore-base': 0.24057, 'alignscore-large': 0.96029, 'HHEMv1': 0.46568, 'HHEM-2.1': 0.94847, 'HHEM-2.1-English': 0.993, 'HHEM-2.1-Open': 0.94694, 'minicheck-roberta-large': 1, 'minicheck-deberta-v3-large': 1, 'minicheck-flan-t5-large': 0}, '1. James Jones (author):\\n- Won the 1952 National Book Award for his first novel, \"From Here to Eternity\"\\n- His novel was adapted into both a film and a television series\\n\\n': {'labels': ['Consistent'], 'alignscore-base': 0.0268, 'alignscore-large': 0.51552, 'HHEMv1': 0.98209, 'HHEM-2.1': 0.98079, 'HHEM-2.1-English': 0.99707, 'HHEM-2.1-Open': 0.94662, 'minicheck-roberta-large': 0, 'minicheck-deberta-v3-large': 1, 'minicheck-flan-t5-large': 1}, '2. James Jones (basketball player):\\n- Excelled in high school, averaging 25 points per game as a senior\\n- Earned Class 6A Player of the Year and First Team All-State honors\\n- Won three NBA championships (two with the Heat, one with the Cavaliers)\\n- Reached seven consecutive NBA Finals with teammate LeBron James\\n- Finished third in NBA three-point percentage in 2007-08 season\\n- Won the Three-Point Contest in 2011\\n': {'labels': ['Consistent'], 'alignscore-base': 0.26491, 'alignscore-large': 0.50855, 'HHEMv1': 0.9778, 'HHEM-2.1': 0.98252, 'HHEM-2.1-English': 0.98153, 'HHEM-2.1-Open': 0.68934, 'minicheck-roberta-large': 0, 'minicheck-deberta-v3-large': 0, 'minicheck-flan-t5-large': 0}}\n",
      "{\" An Omura's whale, previously feared extinct, washed up on a remote Eighty-Eight Beach in Western Australia. \": {'labels': ['Unwanted', 'Unwanted.Extrinsic'], 'alignscore-base': 0.00209, 'alignscore-large': 0.00156, 'HHEMv1': 0.71385, 'HHEM-2.1': 0.05577, 'HHEM-2.1-English': 0.0401, 'HHEM-2.1-Open': 0.14578, 'minicheck-roberta-large': 0, 'minicheck-deberta-v3-large': 0}, 'This is the first sighting in the region and only the second in Australia. ': {'labels': ['Consistent'], 'alignscore-base': 0.04005, 'alignscore-large': 0.52427, 'HHEMv1': 0.9508, 'HHEM-2.1': 0.98639, 'HHEM-2.1-English': 0.99357, 'HHEM-2.1-Open': 0.9671, 'minicheck-roberta-large': 0, 'minicheck-deberta-v3-large': 1}, 'The discovery, made after Tropical Cyclone Olwyn, provided scientists with an opportunity to learn more about the species, which was only described in scientific journals in 2003. ': {'labels': ['Unwanted.Instrinsic', 'Unwanted'], 'alignscore-base': 0.03691, 'alignscore-large': 0.69336, 'HHEMv1': 0.99756, 'HHEM-2.1': 0.98022, 'HHEM-2.1-English': 0.99821, 'HHEM-2.1-Open': 0.96368, 'minicheck-roberta-large': 1, 'minicheck-deberta-v3-large': 1}, 'The whale, a juvenile female, has unique features such as 53 vertebrae and four digits on each pectoral fin. ': {'labels': ['Benign'], 'alignscore-base': 0.11551, 'alignscore-large': 0.5747, 'HHEMv1': 0.84795, 'HHEM-2.1': 0.48432, 'HHEM-2.1-English': 0.5289, 'HHEM-2.1-Open': 0.98053, 'minicheck-roberta-large': 1, 'minicheck-deberta-v3-large': 1}, 'The carcass has been buried, and the skeleton will be recovered for further scientific investigation and potential public display. ': {'labels': ['Consistent'], 'alignscore-base': 0.41586, 'alignscore-large': 0.67578, 'HHEMv1': 0.98196, 'HHEM-2.1': 0.89815, 'HHEM-2.1-English': 0.99201, 'HHEM-2.1-Open': 0.97564, 'minicheck-roberta-large': 0, 'minicheck-deberta-v3-large': 1}, 'The species is usually found in Indonesian waters, the Philippines, and the Sea of Japan.\\n\\n': {'labels': ['Consistent'], 'alignscore-base': 0.00959, 'alignscore-large': 0.60502, 'HHEMv1': 0.96256, 'HHEM-2.1': 0.97545, 'HHEM-2.1-English': 0.99811, 'HHEM-2.1-Open': 0.95141, 'minicheck-roberta-large': 0, 'minicheck-deberta-v3-large': 1}, 'Note: The passage mentions 60 vertebrae, but the correct number is 53. ': {'labels': ['Questionable', 'Benign'], 'alignscore-base': 0.00951, 'alignscore-large': 0.09905, 'HHEMv1': 0.70978, 'HHEM-2.1': 0.58913, 'HHEM-2.1-English': 0.23011, 'HHEM-2.1-Open': 0.87126, 'minicheck-roberta-large': 0, 'minicheck-deberta-v3-large': 1}, 'This has been corrected in the summary.\\n\\n': {'labels': ['Questionable'], 'alignscore-base': 0.00443, 'alignscore-large': 0.26272, 'HHEMv1': 0.24831, 'HHEM-2.1': 0.36499, 'HHEM-2.1-English': 0.14589, 'HHEM-2.1-Open': 0.17001, 'minicheck-roberta-large': 0, 'minicheck-deberta-v3-large': 0}, \"Summary:\\nA previously feared extinct Omura's whale washed up on a remote beach in Western Australia, providing scientists with a chance to learn more about the species. \": {'labels': ['Questionable', 'Unwanted', 'Unwanted.Extrinsic', 'Benign'], 'alignscore-base': 0.01881, 'alignscore-large': 0.48097, 'HHEMv1': 0.99927, 'HHEM-2.1': 0.94228, 'HHEM-2.1-English': 0.99517, 'HHEM-2.1-Open': 0.98003, 'minicheck-roberta-large': 1, 'minicheck-deberta-v3-large': 1}, 'This is the first sighting in the region and only the second in Australia.': {'labels': ['Consistent'], 'alignscore-base': 0.04005, 'alignscore-large': 0.52427, 'HHEMv1': 0.9508, 'HHEM-2.1': 0.98639, 'HHEM-2.1-English': 0.99357, 'HHEM-2.1-Open': 0.96652, 'minicheck-roberta-large': 0, 'minicheck-deberta-v3-large': 1}}\n"
     ]
    },
    {
     "name": "stderr",
     "output_type": "stream",
     "text": [
      "Evaluating: 100%|██████████| 1/1 [00:00<00:00, 13.08it/s]\n"
     ]
    },
    {
     "name": "stdout",
     "output_type": "stream",
     "text": [
      "[0]\n"
     ]
    },
    {
     "name": "stderr",
     "output_type": "stream",
     "text": [
      "Evaluating: 100%|██████████| 1/1 [00:00<00:00, 13.88it/s]\n"
     ]
    },
    {
     "name": "stdout",
     "output_type": "stream",
     "text": [
      "[1]\n"
     ]
    },
    {
     "name": "stderr",
     "output_type": "stream",
     "text": [
      "Evaluating: 100%|██████████| 1/1 [00:00<00:00, 13.36it/s]\n"
     ]
    },
    {
     "name": "stdout",
     "output_type": "stream",
     "text": [
      "[1]\n"
     ]
    },
    {
     "name": "stderr",
     "output_type": "stream",
     "text": [
      "Evaluating: 100%|██████████| 1/1 [00:00<00:00, 13.22it/s]\n"
     ]
    },
    {
     "name": "stdout",
     "output_type": "stream",
     "text": [
      "[1]\n"
     ]
    },
    {
     "name": "stderr",
     "output_type": "stream",
     "text": [
      "Evaluating: 100%|██████████| 1/1 [00:00<00:00, 13.24it/s]\n"
     ]
    },
    {
     "name": "stdout",
     "output_type": "stream",
     "text": [
      "[1]\n"
     ]
    },
    {
     "name": "stderr",
     "output_type": "stream",
     "text": [
      "Evaluating: 100%|██████████| 1/1 [00:00<00:00, 13.50it/s]\n"
     ]
    },
    {
     "name": "stdout",
     "output_type": "stream",
     "text": [
      "[1]\n"
     ]
    },
    {
     "name": "stderr",
     "output_type": "stream",
     "text": [
      "Evaluating: 100%|██████████| 1/1 [00:00<00:00, 12.61it/s]\n"
     ]
    },
    {
     "name": "stdout",
     "output_type": "stream",
     "text": [
      "[1]\n"
     ]
    },
    {
     "name": "stderr",
     "output_type": "stream",
     "text": [
      "Evaluating: 100%|██████████| 1/1 [00:00<00:00, 13.98it/s]\n"
     ]
    },
    {
     "name": "stdout",
     "output_type": "stream",
     "text": [
      "[0]\n"
     ]
    },
    {
     "name": "stderr",
     "output_type": "stream",
     "text": [
      "Evaluating: 100%|██████████| 1/1 [00:00<00:00, 14.47it/s]\n"
     ]
    },
    {
     "name": "stdout",
     "output_type": "stream",
     "text": [
      "[1]\n"
     ]
    },
    {
     "name": "stderr",
     "output_type": "stream",
     "text": [
      "Evaluating: 100%|██████████| 1/1 [00:00<00:00, 13.39it/s]\n"
     ]
    },
    {
     "name": "stdout",
     "output_type": "stream",
     "text": [
      "[1]\n",
      "{\" An Omura's whale, previously feared extinct, washed up on a remote Eighty-Eight Beach in Western Australia. \": {'labels': ['Unwanted', 'Unwanted.Extrinsic'], 'alignscore-base': 0.00209, 'alignscore-large': 0.00156, 'HHEMv1': 0.71385, 'HHEM-2.1': 0.05577, 'HHEM-2.1-English': 0.0401, 'HHEM-2.1-Open': 0.14578, 'minicheck-roberta-large': 0, 'minicheck-deberta-v3-large': 0, 'minicheck-flan-t5-large': 0}, 'This is the first sighting in the region and only the second in Australia. ': {'labels': ['Consistent'], 'alignscore-base': 0.04005, 'alignscore-large': 0.52427, 'HHEMv1': 0.9508, 'HHEM-2.1': 0.98639, 'HHEM-2.1-English': 0.99357, 'HHEM-2.1-Open': 0.9671, 'minicheck-roberta-large': 0, 'minicheck-deberta-v3-large': 1, 'minicheck-flan-t5-large': 1}, 'The discovery, made after Tropical Cyclone Olwyn, provided scientists with an opportunity to learn more about the species, which was only described in scientific journals in 2003. ': {'labels': ['Unwanted.Instrinsic', 'Unwanted'], 'alignscore-base': 0.03691, 'alignscore-large': 0.69336, 'HHEMv1': 0.99756, 'HHEM-2.1': 0.98022, 'HHEM-2.1-English': 0.99821, 'HHEM-2.1-Open': 0.96368, 'minicheck-roberta-large': 1, 'minicheck-deberta-v3-large': 1, 'minicheck-flan-t5-large': 1}, 'The whale, a juvenile female, has unique features such as 53 vertebrae and four digits on each pectoral fin. ': {'labels': ['Benign'], 'alignscore-base': 0.11551, 'alignscore-large': 0.5747, 'HHEMv1': 0.84795, 'HHEM-2.1': 0.48432, 'HHEM-2.1-English': 0.5289, 'HHEM-2.1-Open': 0.98053, 'minicheck-roberta-large': 1, 'minicheck-deberta-v3-large': 1, 'minicheck-flan-t5-large': 1}, 'The carcass has been buried, and the skeleton will be recovered for further scientific investigation and potential public display. ': {'labels': ['Consistent'], 'alignscore-base': 0.41586, 'alignscore-large': 0.67578, 'HHEMv1': 0.98196, 'HHEM-2.1': 0.89815, 'HHEM-2.1-English': 0.99201, 'HHEM-2.1-Open': 0.97564, 'minicheck-roberta-large': 0, 'minicheck-deberta-v3-large': 1, 'minicheck-flan-t5-large': 1}, 'The species is usually found in Indonesian waters, the Philippines, and the Sea of Japan.\\n\\n': {'labels': ['Consistent'], 'alignscore-base': 0.00959, 'alignscore-large': 0.60502, 'HHEMv1': 0.96256, 'HHEM-2.1': 0.97545, 'HHEM-2.1-English': 0.99811, 'HHEM-2.1-Open': 0.95141, 'minicheck-roberta-large': 0, 'minicheck-deberta-v3-large': 1, 'minicheck-flan-t5-large': 1}, 'Note: The passage mentions 60 vertebrae, but the correct number is 53. ': {'labels': ['Questionable', 'Benign'], 'alignscore-base': 0.00951, 'alignscore-large': 0.09905, 'HHEMv1': 0.70978, 'HHEM-2.1': 0.58913, 'HHEM-2.1-English': 0.23011, 'HHEM-2.1-Open': 0.87126, 'minicheck-roberta-large': 0, 'minicheck-deberta-v3-large': 1, 'minicheck-flan-t5-large': 1}, 'This has been corrected in the summary.\\n\\n': {'labels': ['Questionable'], 'alignscore-base': 0.00443, 'alignscore-large': 0.26272, 'HHEMv1': 0.24831, 'HHEM-2.1': 0.36499, 'HHEM-2.1-English': 0.14589, 'HHEM-2.1-Open': 0.17001, 'minicheck-roberta-large': 0, 'minicheck-deberta-v3-large': 0, 'minicheck-flan-t5-large': 0}, \"Summary:\\nA previously feared extinct Omura's whale washed up on a remote beach in Western Australia, providing scientists with a chance to learn more about the species. \": {'labels': ['Questionable', 'Unwanted', 'Unwanted.Extrinsic', 'Benign'], 'alignscore-base': 0.01881, 'alignscore-large': 0.48097, 'HHEMv1': 0.99927, 'HHEM-2.1': 0.94228, 'HHEM-2.1-English': 0.99517, 'HHEM-2.1-Open': 0.98003, 'minicheck-roberta-large': 1, 'minicheck-deberta-v3-large': 1, 'minicheck-flan-t5-large': 1}, 'This is the first sighting in the region and only the second in Australia.': {'labels': ['Consistent'], 'alignscore-base': 0.04005, 'alignscore-large': 0.52427, 'HHEMv1': 0.9508, 'HHEM-2.1': 0.98639, 'HHEM-2.1-English': 0.99357, 'HHEM-2.1-Open': 0.96652, 'minicheck-roberta-large': 0, 'minicheck-deberta-v3-large': 1, 'minicheck-flan-t5-large': 1}}\n",
      "{' Conor McGregor is preparing for a featherweight title challenge against Jose Aldo on July 11 in Las Vegas. ': {'labels': ['Consistent'], 'alignscore-base': 0.71694, 'alignscore-large': 0.22063, 'HHEMv1': 0.01522, 'HHEM-2.1': 0.98987, 'HHEM-2.1-English': 0.99912, 'HHEM-2.1-Open': 0.98039, 'minicheck-roberta-large': 1, 'minicheck-deberta-v3-large': 1}, 'Prior to this, McGregor has revealed a new tattoo of a tiger\\'s face on his stomach, which he described as a warning that \"if you see the tiger, it\\'s too late. You\\'re food.\" ': {'labels': ['Consistent'], 'alignscore-base': 0.00362, 'alignscore-large': 0.05697, 'HHEMv1': 0.97229, 'HHEM-2.1': 0.98277, 'HHEM-2.1-English': 0.99449, 'HHEM-2.1-Open': 0.93399, 'minicheck-roberta-large': 0, 'minicheck-deberta-v3-large': 0}, 'McGregor claims Aldo lacks the same motivation as him for the title fight. ': {'labels': ['Consistent'], 'alignscore-base': 0.30266, 'alignscore-large': 0.63303, 'HHEMv1': 0.72994, 'HHEM-2.1': 0.94405, 'HHEM-2.1-English': 0.99662, 'HHEM-2.1-Open': 0.95421, 'minicheck-roberta-large': 1, 'minicheck-deberta-v3-large': 1}, \"During a promotional tour in Dublin, McGregor grabbed Aldo's belt and raised it in front of 5,000 home supporters, escalating their already fractious relationship. \": {'labels': ['Benign'], 'alignscore-base': 0.02814, 'alignscore-large': 0.03252, 'HHEMv1': 0.87556, 'HHEM-2.1': 0.94728, 'HHEM-2.1-English': 0.98276, 'HHEM-2.1-Open': 0.97297, 'minicheck-roberta-large': 1, 'minicheck-deberta-v3-large': 0}, \"The title fight will mark the eighth defense of Aldo's belt, but McGregor believes he has greater motivation to win the title.\": {'labels': ['Consistent'], 'alignscore-base': 0.07437, 'alignscore-large': 0.04893, 'HHEMv1': 0.50443, 'HHEM-2.1': 0.87246, 'HHEM-2.1-English': 0.98966, 'HHEM-2.1-Open': 0.946, 'minicheck-roberta-large': 1, 'minicheck-deberta-v3-large': 1}}\n"
     ]
    },
    {
     "name": "stderr",
     "output_type": "stream",
     "text": [
      "Evaluating: 100%|██████████| 1/1 [00:00<00:00, 12.92it/s]\n"
     ]
    },
    {
     "name": "stdout",
     "output_type": "stream",
     "text": [
      "[1]\n"
     ]
    },
    {
     "name": "stderr",
     "output_type": "stream",
     "text": [
      "Evaluating: 100%|██████████| 1/1 [00:00<00:00, 13.43it/s]\n"
     ]
    },
    {
     "name": "stdout",
     "output_type": "stream",
     "text": [
      "[1]\n"
     ]
    },
    {
     "name": "stderr",
     "output_type": "stream",
     "text": [
      "Evaluating: 100%|██████████| 1/1 [00:00<00:00, 14.86it/s]\n"
     ]
    },
    {
     "name": "stdout",
     "output_type": "stream",
     "text": [
      "[1]\n"
     ]
    },
    {
     "name": "stderr",
     "output_type": "stream",
     "text": [
      "Evaluating: 100%|██████████| 1/1 [00:00<00:00, 15.02it/s]\n"
     ]
    },
    {
     "name": "stdout",
     "output_type": "stream",
     "text": [
      "[1]\n"
     ]
    },
    {
     "name": "stderr",
     "output_type": "stream",
     "text": [
      "Evaluating: 100%|██████████| 1/1 [00:00<00:00, 15.02it/s]\n"
     ]
    },
    {
     "name": "stdout",
     "output_type": "stream",
     "text": [
      "[1]\n",
      "{' Conor McGregor is preparing for a featherweight title challenge against Jose Aldo on July 11 in Las Vegas. ': {'labels': ['Consistent'], 'alignscore-base': 0.71694, 'alignscore-large': 0.22063, 'HHEMv1': 0.01522, 'HHEM-2.1': 0.98987, 'HHEM-2.1-English': 0.99912, 'HHEM-2.1-Open': 0.98039, 'minicheck-roberta-large': 1, 'minicheck-deberta-v3-large': 1, 'minicheck-flan-t5-large': 1}, 'Prior to this, McGregor has revealed a new tattoo of a tiger\\'s face on his stomach, which he described as a warning that \"if you see the tiger, it\\'s too late. You\\'re food.\" ': {'labels': ['Consistent'], 'alignscore-base': 0.00362, 'alignscore-large': 0.05697, 'HHEMv1': 0.97229, 'HHEM-2.1': 0.98277, 'HHEM-2.1-English': 0.99449, 'HHEM-2.1-Open': 0.93399, 'minicheck-roberta-large': 0, 'minicheck-deberta-v3-large': 0, 'minicheck-flan-t5-large': 1}, 'McGregor claims Aldo lacks the same motivation as him for the title fight. ': {'labels': ['Consistent'], 'alignscore-base': 0.30266, 'alignscore-large': 0.63303, 'HHEMv1': 0.72994, 'HHEM-2.1': 0.94405, 'HHEM-2.1-English': 0.99662, 'HHEM-2.1-Open': 0.95421, 'minicheck-roberta-large': 1, 'minicheck-deberta-v3-large': 1, 'minicheck-flan-t5-large': 1}, \"During a promotional tour in Dublin, McGregor grabbed Aldo's belt and raised it in front of 5,000 home supporters, escalating their already fractious relationship. \": {'labels': ['Benign'], 'alignscore-base': 0.02814, 'alignscore-large': 0.03252, 'HHEMv1': 0.87556, 'HHEM-2.1': 0.94728, 'HHEM-2.1-English': 0.98276, 'HHEM-2.1-Open': 0.97297, 'minicheck-roberta-large': 1, 'minicheck-deberta-v3-large': 0, 'minicheck-flan-t5-large': 1}, \"The title fight will mark the eighth defense of Aldo's belt, but McGregor believes he has greater motivation to win the title.\": {'labels': ['Consistent'], 'alignscore-base': 0.07437, 'alignscore-large': 0.04893, 'HHEMv1': 0.50443, 'HHEM-2.1': 0.87246, 'HHEM-2.1-English': 0.98966, 'HHEM-2.1-Open': 0.946, 'minicheck-roberta-large': 1, 'minicheck-deberta-v3-large': 1, 'minicheck-flan-t5-large': 1}}\n",
      "{' The passage highlights the alarming issue of foetal alcohol syndrome (FAS) in England, with 272 children hospitalized due to brain damage from in-utero alcohol exposure in the past year. ': {'labels': ['Questionable', 'Benign', 'Unwanted.Instrinsic', 'Unwanted'], 'alignscore-base': 0.10847, 'alignscore-large': 0.22761, 'HHEMv1': 0.99698, 'HHEM-2.1': 0.76066, 'HHEM-2.1-English': 0.95593, 'HHEM-2.1-Open': 0.93733, 'minicheck-roberta-large': 1, 'minicheck-deberta-v3-large': 1}, 'Experts warn that the actual number affected could be much higher. ': {'labels': ['Consistent'], 'alignscore-base': 0.68116, 'alignscore-large': 0.83956, 'HHEMv1': 0.99785, 'HHEM-2.1': 0.99337, 'HHEM-2.1-English': 0.99788, 'HHEM-2.1-Open': 0.98345, 'minicheck-roberta-large': 1, 'minicheck-deberta-v3-large': 1}, 'Research suggests that at least one in 100 UK babies could suffer learning, behavioural, and physical problems due to prenatal alcohol exposure, equating to approximately 7,500 cases annually. ': {'labels': ['Consistent'], 'alignscore-base': 0.19971, 'alignscore-large': 0.6448, 'HHEMv1': 0.99765, 'HHEM-2.1': 0.98988, 'HHEM-2.1-English': 0.99834, 'HHEM-2.1-Open': 0.9872, 'minicheck-roberta-large': 1, 'minicheck-deberta-v3-large': 1}, 'FAS is a severe, lifelong condition that is often under-diagnosed. ': {'labels': ['Questionable'], 'alignscore-base': 0.09815, 'alignscore-large': 0.00688, 'HHEMv1': 0.83823, 'HHEM-2.1': 0.41299, 'HHEM-2.1-English': 0.74032, 'HHEM-2.1-Open': 0.54126, 'minicheck-roberta-large': 1, 'minicheck-deberta-v3-large': 0}, 'The passage also mentions other health issues linked to alcohol consumption during pregnancy and the current government advice on alcohol consumption for pregnant women.\\n\\n': {'labels': ['Consistent'], 'alignscore-base': 0.22639, 'alignscore-large': 0.87481, 'HHEMv1': 0.92681, 'HHEM-2.1': 0.97911, 'HHEM-2.1-English': 0.99866, 'HHEM-2.1-Open': 0.99198, 'minicheck-roberta-large': 1, 'minicheck-deberta-v3-large': 1}, 'Summary:\\nThe passage discusses the concerning prevalence of foetal alcohol syndrome (FAS) in England, with 272 children hospitalized in the past year due to brain damage from in-utero alcohol exposure. ': {'labels': ['Unwanted.Instrinsic', 'Unwanted'], 'alignscore-base': 0.31217, 'alignscore-large': 0.64187, 'HHEMv1': 0.99073, 'HHEM-2.1': 0.47483, 'HHEM-2.1-English': 0.93464, 'HHEM-2.1-Open': 0.93822, 'minicheck-roberta-large': 1, 'minicheck-deberta-v3-large': 1}, 'Experts warn that the actual number affected could be much higher, with research suggesting that at least one in 100 UK babies could suffer learning, behavioural, ': {'labels': ['Unwanted.Instrinsic', 'Unwanted'], 'alignscore-base': 0.14847, 'alignscore-large': 0.65515, 'HHEMv1': 0.99897, 'HHEM-2.1': 0.99136, 'HHEM-2.1-English': 0.99866, 'HHEM-2.1-Open': 0.98131, 'minicheck-roberta-large': 1, 'minicheck-deberta-v3-large': 1}}\n"
     ]
    },
    {
     "name": "stderr",
     "output_type": "stream",
     "text": [
      "Evaluating: 100%|██████████| 1/1 [00:00<00:00, 14.90it/s]\n"
     ]
    },
    {
     "name": "stdout",
     "output_type": "stream",
     "text": [
      "[1]\n"
     ]
    },
    {
     "name": "stderr",
     "output_type": "stream",
     "text": [
      "Evaluating: 100%|██████████| 1/1 [00:00<00:00, 14.71it/s]\n"
     ]
    },
    {
     "name": "stdout",
     "output_type": "stream",
     "text": [
      "[1]\n"
     ]
    },
    {
     "name": "stderr",
     "output_type": "stream",
     "text": [
      "Evaluating: 100%|██████████| 1/1 [00:00<00:00, 14.79it/s]\n"
     ]
    },
    {
     "name": "stdout",
     "output_type": "stream",
     "text": [
      "[1]\n"
     ]
    },
    {
     "name": "stderr",
     "output_type": "stream",
     "text": [
      "Evaluating: 100%|██████████| 1/1 [00:00<00:00, 14.86it/s]\n"
     ]
    },
    {
     "name": "stdout",
     "output_type": "stream",
     "text": [
      "[1]\n"
     ]
    },
    {
     "name": "stderr",
     "output_type": "stream",
     "text": [
      "Evaluating: 100%|██████████| 1/1 [00:00<00:00, 14.72it/s]\n"
     ]
    },
    {
     "name": "stdout",
     "output_type": "stream",
     "text": [
      "[1]\n"
     ]
    },
    {
     "name": "stderr",
     "output_type": "stream",
     "text": [
      "Evaluating: 100%|██████████| 1/1 [00:00<00:00, 14.83it/s]\n"
     ]
    },
    {
     "name": "stdout",
     "output_type": "stream",
     "text": [
      "[1]\n"
     ]
    },
    {
     "name": "stderr",
     "output_type": "stream",
     "text": [
      "Evaluating: 100%|██████████| 1/1 [00:00<00:00, 14.86it/s]\n"
     ]
    },
    {
     "name": "stdout",
     "output_type": "stream",
     "text": [
      "[1]\n",
      "{' The passage highlights the alarming issue of foetal alcohol syndrome (FAS) in England, with 272 children hospitalized due to brain damage from in-utero alcohol exposure in the past year. ': {'labels': ['Questionable', 'Benign', 'Unwanted.Instrinsic', 'Unwanted'], 'alignscore-base': 0.10847, 'alignscore-large': 0.22761, 'HHEMv1': 0.99698, 'HHEM-2.1': 0.76066, 'HHEM-2.1-English': 0.95593, 'HHEM-2.1-Open': 0.93733, 'minicheck-roberta-large': 1, 'minicheck-deberta-v3-large': 1, 'minicheck-flan-t5-large': 1}, 'Experts warn that the actual number affected could be much higher. ': {'labels': ['Consistent'], 'alignscore-base': 0.68116, 'alignscore-large': 0.83956, 'HHEMv1': 0.99785, 'HHEM-2.1': 0.99337, 'HHEM-2.1-English': 0.99788, 'HHEM-2.1-Open': 0.98345, 'minicheck-roberta-large': 1, 'minicheck-deberta-v3-large': 1, 'minicheck-flan-t5-large': 1}, 'Research suggests that at least one in 100 UK babies could suffer learning, behavioural, and physical problems due to prenatal alcohol exposure, equating to approximately 7,500 cases annually. ': {'labels': ['Consistent'], 'alignscore-base': 0.19971, 'alignscore-large': 0.6448, 'HHEMv1': 0.99765, 'HHEM-2.1': 0.98988, 'HHEM-2.1-English': 0.99834, 'HHEM-2.1-Open': 0.9872, 'minicheck-roberta-large': 1, 'minicheck-deberta-v3-large': 1, 'minicheck-flan-t5-large': 1}, 'FAS is a severe, lifelong condition that is often under-diagnosed. ': {'labels': ['Questionable'], 'alignscore-base': 0.09815, 'alignscore-large': 0.00688, 'HHEMv1': 0.83823, 'HHEM-2.1': 0.41299, 'HHEM-2.1-English': 0.74032, 'HHEM-2.1-Open': 0.54126, 'minicheck-roberta-large': 1, 'minicheck-deberta-v3-large': 0, 'minicheck-flan-t5-large': 1}, 'The passage also mentions other health issues linked to alcohol consumption during pregnancy and the current government advice on alcohol consumption for pregnant women.\\n\\n': {'labels': ['Consistent'], 'alignscore-base': 0.22639, 'alignscore-large': 0.87481, 'HHEMv1': 0.92681, 'HHEM-2.1': 0.97911, 'HHEM-2.1-English': 0.99866, 'HHEM-2.1-Open': 0.99198, 'minicheck-roberta-large': 1, 'minicheck-deberta-v3-large': 1, 'minicheck-flan-t5-large': 1}, 'Summary:\\nThe passage discusses the concerning prevalence of foetal alcohol syndrome (FAS) in England, with 272 children hospitalized in the past year due to brain damage from in-utero alcohol exposure. ': {'labels': ['Unwanted.Instrinsic', 'Unwanted'], 'alignscore-base': 0.31217, 'alignscore-large': 0.64187, 'HHEMv1': 0.99073, 'HHEM-2.1': 0.47483, 'HHEM-2.1-English': 0.93464, 'HHEM-2.1-Open': 0.93822, 'minicheck-roberta-large': 1, 'minicheck-deberta-v3-large': 1, 'minicheck-flan-t5-large': 1}, 'Experts warn that the actual number affected could be much higher, with research suggesting that at least one in 100 UK babies could suffer learning, behavioural, ': {'labels': ['Unwanted.Instrinsic', 'Unwanted'], 'alignscore-base': 0.14847, 'alignscore-large': 0.65515, 'HHEMv1': 0.99897, 'HHEM-2.1': 0.99136, 'HHEM-2.1-English': 0.99866, 'HHEM-2.1-Open': 0.98131, 'minicheck-roberta-large': 1, 'minicheck-deberta-v3-large': 1, 'minicheck-flan-t5-large': 1}}\n",
      "{\"Here's a concise summary of the passage:\\n\\n\": {'labels': ['Consistent'], 'alignscore-base': 0.36934, 'alignscore-large': 0.71803, 'HHEMv1': 0.13172, 'HHEM-2.1': 0.68756, 'HHEM-2.1-English': 0.72496, 'HHEM-2.1-Open': 0.61544, 'minicheck-roberta-large': 1, 'minicheck-deberta-v3-large': 1}, 'The passage discusses the 2014 Man Booker Prize shortlist and its contenders. ': {'labels': ['Benign'], 'alignscore-base': 0.98786, 'alignscore-large': 0.98174, 'HHEMv1': 0.68948, 'HHEM-2.1': 0.94518, 'HHEM-2.1-English': 0.97359, 'HHEM-2.1-Open': 0.51824, 'minicheck-roberta-large': 1, 'minicheck-deberta-v3-large': 0}, 'Key points include:\\n\\n1. Neel Mukherjee\\'s \"The Lives of Others\" is the bookmakers\\' favorite to win.\\n\\n': {'labels': ['Benign'], 'alignscore-base': 0.60721, 'alignscore-large': 0.95905, 'HHEMv1': 0.22935, 'HHEM-2.1': 0.11796, 'HHEM-2.1-English': 0.19606, 'HHEM-2.1-Open': 0.2178, 'minicheck-roberta-large': 1, 'minicheck-deberta-v3-large': 1}, '2. This is the first year the prize is open to all English-language authors, regardless of nationality.\\n\\n': {'labels': ['Consistent'], 'alignscore-base': 0.68428, 'alignscore-large': 0.59048, 'HHEMv1': 0.30563, 'HHEM-2.1': 0.99092, 'HHEM-2.1-English': 0.99276, 'HHEM-2.1-Open': 0.97857, 'minicheck-roberta-large': 1, 'minicheck-deberta-v3-large': 1}, '3. The shortlist includes six authors: three British, two American, and one Australian.\\n\\n': {'labels': ['Consistent'], 'alignscore-base': 0.66579, 'alignscore-large': 0.46536, 'HHEMv1': 0.15952, 'HHEM-2.1': 0.97198, 'HHEM-2.1-English': 0.98667, 'HHEM-2.1-Open': 0.7985, 'minicheck-roberta-large': 1, 'minicheck-deberta-v3-large': 0}, '4. Brief descriptions of each shortlisted novel are provided.\\n\\n': {'labels': ['Consistent'], 'alignscore-base': 0.47006, 'alignscore-large': 0.58812, 'HHEMv1': 0.56251, 'HHEM-2.1': 0.44573, 'HHEM-2.1-English': 0.14089, 'HHEM-2.1-Open': 0.26221, 'minicheck-roberta-large': 1, 'minicheck-deberta-v3-large': 0}, '5. Karen Joy Fowler\\'s \"We Are All Completely Beside Ourselves\" is the best-selling shortlisted book.\\n\\n': {'labels': ['Consistent'], 'alignscore-base': 0.75999, 'alignscore-large': 0.67597, 'HHEMv1': 0.74124, 'HHEM-2.1': 0.94042, 'HHEM-2.1-English': 0.80965, 'HHEM-2.1-Open': 0.85407, 'minicheck-roberta-large': 1, 'minicheck-deberta-v3-large': 0}, '6. The announcement of the shortlist caused a sales spike for all nominated books.\\n\\n': {'labels': ['Consistent'], 'alignscore-base': 0.85061, 'alignscore-large': 0.78541, 'HHEMv1': 0.93373, 'HHEM-2.1': 0.96901, 'HHEM-2.1-English': 0.87304, 'HHEM-2.1-Open': 0.90366, 'minicheck-roberta-large': 1, 'minicheck-deberta-v3-large': 1}, '7. Some controversy surrounds the selection, with a literature professor calling it a \"weak list.\"\\n\\n': {'labels': ['Consistent'], 'alignscore-base': 0.63499, 'alignscore-large': 0.63236, 'HHEMv1': 0.94092, 'HHEM-2.1': 0.89619, 'HHEM-2.1-English': 0.87752, 'HHEM-2.1-Open': 0.25312, 'minicheck-roberta-large': 1, 'minicheck-deberta-v3-large': 1}, \"8. The winner will be announced at London's Guildhall, with the ceremony covered by BBC.\\n\\n\": {'labels': ['Consistent'], 'alignscore-base': 0.33873, 'alignscore-large': 0.38602, 'HHEMv1': 0.81094, 'HHEM-2.1': 0.8629, 'HHEM-2.1-English': 0.61813, 'HHEM-2.1-Open': 0.7479, 'minicheck-roberta-large': 0, 'minicheck-deberta-v3-large': 0}, '9. This is the 46th year of the Booker Prize, with each shortlisted author receiving £2,500 and a special edition of their book.\\n\\n': {'labels': ['Consistent'], 'alignscore-base': 0.71471, 'alignscore-large': 0.64354, 'HHEMv1': 0.87443, 'HHEM-2.1': 0.93258, 'HHEM-2.1-English': 0.91607, 'HHEM-2.1-Open': 0.8071, 'minicheck-roberta-large': 0, 'minicheck-deberta-v3-large': 0}}\n"
     ]
    },
    {
     "name": "stderr",
     "output_type": "stream",
     "text": [
      "Evaluating: 100%|██████████| 1/1 [00:00<00:00,  9.15it/s]\n"
     ]
    },
    {
     "name": "stdout",
     "output_type": "stream",
     "text": [
      "[1]\n"
     ]
    },
    {
     "name": "stderr",
     "output_type": "stream",
     "text": [
      "Evaluating: 100%|██████████| 1/1 [00:00<00:00,  9.01it/s]\n"
     ]
    },
    {
     "name": "stdout",
     "output_type": "stream",
     "text": [
      "[1]\n"
     ]
    },
    {
     "name": "stderr",
     "output_type": "stream",
     "text": [
      "Evaluating: 100%|██████████| 1/1 [00:00<00:00,  8.83it/s]\n"
     ]
    },
    {
     "name": "stdout",
     "output_type": "stream",
     "text": [
      "[1]\n"
     ]
    },
    {
     "name": "stderr",
     "output_type": "stream",
     "text": [
      "Evaluating: 100%|██████████| 1/1 [00:00<00:00,  9.13it/s]\n"
     ]
    },
    {
     "name": "stdout",
     "output_type": "stream",
     "text": [
      "[1]\n"
     ]
    },
    {
     "name": "stderr",
     "output_type": "stream",
     "text": [
      "Evaluating: 100%|██████████| 1/1 [00:00<00:00,  9.29it/s]\n"
     ]
    },
    {
     "name": "stdout",
     "output_type": "stream",
     "text": [
      "[0]\n"
     ]
    },
    {
     "name": "stderr",
     "output_type": "stream",
     "text": [
      "Evaluating: 100%|██████████| 1/1 [00:00<00:00,  9.15it/s]\n"
     ]
    },
    {
     "name": "stdout",
     "output_type": "stream",
     "text": [
      "[0]\n"
     ]
    },
    {
     "name": "stderr",
     "output_type": "stream",
     "text": [
      "Evaluating: 100%|██████████| 1/1 [00:00<00:00,  8.87it/s]\n"
     ]
    },
    {
     "name": "stdout",
     "output_type": "stream",
     "text": [
      "[1]\n"
     ]
    },
    {
     "name": "stderr",
     "output_type": "stream",
     "text": [
      "Evaluating: 100%|██████████| 1/1 [00:00<00:00,  9.12it/s]\n"
     ]
    },
    {
     "name": "stdout",
     "output_type": "stream",
     "text": [
      "[1]\n"
     ]
    },
    {
     "name": "stderr",
     "output_type": "stream",
     "text": [
      "Evaluating: 100%|██████████| 1/1 [00:00<00:00,  9.15it/s]\n"
     ]
    },
    {
     "name": "stdout",
     "output_type": "stream",
     "text": [
      "[0]\n"
     ]
    },
    {
     "name": "stderr",
     "output_type": "stream",
     "text": [
      "Evaluating: 100%|██████████| 1/1 [00:00<00:00,  9.03it/s]\n"
     ]
    },
    {
     "name": "stdout",
     "output_type": "stream",
     "text": [
      "[0]\n"
     ]
    },
    {
     "name": "stderr",
     "output_type": "stream",
     "text": [
      "Evaluating: 100%|██████████| 1/1 [00:00<00:00,  8.88it/s]\n"
     ]
    },
    {
     "name": "stdout",
     "output_type": "stream",
     "text": [
      "[0]\n",
      "{\"Here's a concise summary of the passage:\\n\\n\": {'labels': ['Consistent'], 'alignscore-base': 0.36934, 'alignscore-large': 0.71803, 'HHEMv1': 0.13172, 'HHEM-2.1': 0.68756, 'HHEM-2.1-English': 0.72496, 'HHEM-2.1-Open': 0.61544, 'minicheck-roberta-large': 1, 'minicheck-deberta-v3-large': 1, 'minicheck-flan-t5-large': 1}, 'The passage discusses the 2014 Man Booker Prize shortlist and its contenders. ': {'labels': ['Benign'], 'alignscore-base': 0.98786, 'alignscore-large': 0.98174, 'HHEMv1': 0.68948, 'HHEM-2.1': 0.94518, 'HHEM-2.1-English': 0.97359, 'HHEM-2.1-Open': 0.51824, 'minicheck-roberta-large': 1, 'minicheck-deberta-v3-large': 0, 'minicheck-flan-t5-large': 1}, 'Key points include:\\n\\n1. Neel Mukherjee\\'s \"The Lives of Others\" is the bookmakers\\' favorite to win.\\n\\n': {'labels': ['Benign'], 'alignscore-base': 0.60721, 'alignscore-large': 0.95905, 'HHEMv1': 0.22935, 'HHEM-2.1': 0.11796, 'HHEM-2.1-English': 0.19606, 'HHEM-2.1-Open': 0.2178, 'minicheck-roberta-large': 1, 'minicheck-deberta-v3-large': 1, 'minicheck-flan-t5-large': 1}, '2. This is the first year the prize is open to all English-language authors, regardless of nationality.\\n\\n': {'labels': ['Consistent'], 'alignscore-base': 0.68428, 'alignscore-large': 0.59048, 'HHEMv1': 0.30563, 'HHEM-2.1': 0.99092, 'HHEM-2.1-English': 0.99276, 'HHEM-2.1-Open': 0.97857, 'minicheck-roberta-large': 1, 'minicheck-deberta-v3-large': 1, 'minicheck-flan-t5-large': 1}, '3. The shortlist includes six authors: three British, two American, and one Australian.\\n\\n': {'labels': ['Consistent'], 'alignscore-base': 0.66579, 'alignscore-large': 0.46536, 'HHEMv1': 0.15952, 'HHEM-2.1': 0.97198, 'HHEM-2.1-English': 0.98667, 'HHEM-2.1-Open': 0.7985, 'minicheck-roberta-large': 1, 'minicheck-deberta-v3-large': 0, 'minicheck-flan-t5-large': 0}, '4. Brief descriptions of each shortlisted novel are provided.\\n\\n': {'labels': ['Consistent'], 'alignscore-base': 0.47006, 'alignscore-large': 0.58812, 'HHEMv1': 0.56251, 'HHEM-2.1': 0.44573, 'HHEM-2.1-English': 0.14089, 'HHEM-2.1-Open': 0.26221, 'minicheck-roberta-large': 1, 'minicheck-deberta-v3-large': 0, 'minicheck-flan-t5-large': 0}, '5. Karen Joy Fowler\\'s \"We Are All Completely Beside Ourselves\" is the best-selling shortlisted book.\\n\\n': {'labels': ['Consistent'], 'alignscore-base': 0.75999, 'alignscore-large': 0.67597, 'HHEMv1': 0.74124, 'HHEM-2.1': 0.94042, 'HHEM-2.1-English': 0.80965, 'HHEM-2.1-Open': 0.85407, 'minicheck-roberta-large': 1, 'minicheck-deberta-v3-large': 0, 'minicheck-flan-t5-large': 1}, '6. The announcement of the shortlist caused a sales spike for all nominated books.\\n\\n': {'labels': ['Consistent'], 'alignscore-base': 0.85061, 'alignscore-large': 0.78541, 'HHEMv1': 0.93373, 'HHEM-2.1': 0.96901, 'HHEM-2.1-English': 0.87304, 'HHEM-2.1-Open': 0.90366, 'minicheck-roberta-large': 1, 'minicheck-deberta-v3-large': 1, 'minicheck-flan-t5-large': 1}, '7. Some controversy surrounds the selection, with a literature professor calling it a \"weak list.\"\\n\\n': {'labels': ['Consistent'], 'alignscore-base': 0.63499, 'alignscore-large': 0.63236, 'HHEMv1': 0.94092, 'HHEM-2.1': 0.89619, 'HHEM-2.1-English': 0.87752, 'HHEM-2.1-Open': 0.25312, 'minicheck-roberta-large': 1, 'minicheck-deberta-v3-large': 1, 'minicheck-flan-t5-large': 0}, \"8. The winner will be announced at London's Guildhall, with the ceremony covered by BBC.\\n\\n\": {'labels': ['Consistent'], 'alignscore-base': 0.33873, 'alignscore-large': 0.38602, 'HHEMv1': 0.81094, 'HHEM-2.1': 0.8629, 'HHEM-2.1-English': 0.61813, 'HHEM-2.1-Open': 0.7479, 'minicheck-roberta-large': 0, 'minicheck-deberta-v3-large': 0, 'minicheck-flan-t5-large': 0}, '9. This is the 46th year of the Booker Prize, with each shortlisted author receiving £2,500 and a special edition of their book.\\n\\n': {'labels': ['Consistent'], 'alignscore-base': 0.71471, 'alignscore-large': 0.64354, 'HHEMv1': 0.87443, 'HHEM-2.1': 0.93258, 'HHEM-2.1-English': 0.91607, 'HHEM-2.1-Open': 0.8071, 'minicheck-roberta-large': 0, 'minicheck-deberta-v3-large': 0, 'minicheck-flan-t5-large': 0}}\n",
      "{' Veteran actor Robert Hardy, known for his roles in \"All Creatures Great and Small\" and portraying Winston Churchill, is selling his collection of antiques, including a 3D diorama of the Battle of Agincourt, for £100,000 in a £100,000 auction. ': {'labels': ['Unwanted', 'Unwanted.Instrinsic'], 'alignscore-base': 0.25322, 'alignscore-large': 0.117, 'HHEMv1': 0.16885, 'HHEM-2.1': 0.37813, 'HHEM-2.1-English': 0.69007, 'HHEM-2.1-Open': 0.85958, 'minicheck-roberta-large': 1, 'minicheck-deberta-v3-large': 0}, 'The collection, which includes furniture, swords, flintlock rifles, silverware, and crystal chandeliers, is being sold by Dominic Winter Auctioneers in Gloucestershire. ': {'labels': ['Consistent'], 'alignscore-base': 0.6258, 'alignscore-large': 0.87134, 'HHEMv1': 0.66257, 'HHEM-2.1': 0.99282, 'HHEM-2.1-English': 0.99848, 'HHEM-2.1-Open': 0.97027, 'minicheck-roberta-large': 0, 'minicheck-deberta-v3-large': 0}, 'Hardy, 89, is downsizing his home and has expressed sadness at parting with his treasured library. ': {'labels': ['Consistent'], 'alignscore-base': 0.73024, 'alignscore-large': 0.47439, 'HHEMv1': 0.82303, 'HHEM-2.1': 0.98818, 'HHEM-2.1-English': 0.99547, 'HHEM-2.1-Open': 0.97359, 'minicheck-roberta-large': 0, 'minicheck-deberta-v3-large': 0}, 'The auction, featuring over 200 items, will take place on Saturday and includes a painting of Hardy with a longbow, a diorama commissioned by Hardy in the 1960s, and a historical painting of Alfred the Great. ': {'labels': ['Consistent'], 'alignscore-base': 0.34685, 'alignscore-large': 0.62064, 'HHEMv1': 0.41959, 'HHEM-2.1': 0.61725, 'HHEM-2.1-English': 0.97766, 'HHEM-2.1-Open': 0.95185, 'minicheck-roberta-large': 0, 'minicheck-deberta-v3-large': 0}, \"Hardy's interest in classic literature and military history has contributed to his collection, and he has also appeared in the Harry Potter films as Minister for Magic Cornelius Fudge. \": {'labels': ['Benign'], 'alignscore-base': 0.53574, 'alignscore-large': 0.36807, 'HHEMv1': 0.95007, 'HHEM-2.1': 0.98806, 'HHEM-2.1-English': 0.99886, 'HHEM-2.1-Open': 0.93449, 'minicheck-roberta-large': 0, 'minicheck-deberta-v3-large': 0}}\n"
     ]
    },
    {
     "name": "stderr",
     "output_type": "stream",
     "text": [
      "Evaluating: 100%|██████████| 1/1 [00:00<00:00,  7.58it/s]\n"
     ]
    },
    {
     "name": "stdout",
     "output_type": "stream",
     "text": [
      "[0]\n"
     ]
    },
    {
     "name": "stderr",
     "output_type": "stream",
     "text": [
      "Evaluating: 100%|██████████| 1/1 [00:00<00:00,  6.69it/s]\n"
     ]
    },
    {
     "name": "stdout",
     "output_type": "stream",
     "text": [
      "[1]\n"
     ]
    },
    {
     "name": "stderr",
     "output_type": "stream",
     "text": [
      "Evaluating: 100%|██████████| 1/1 [00:00<00:00,  8.24it/s]\n"
     ]
    },
    {
     "name": "stdout",
     "output_type": "stream",
     "text": [
      "[1]\n"
     ]
    },
    {
     "name": "stderr",
     "output_type": "stream",
     "text": [
      "Evaluating: 100%|██████████| 1/1 [00:00<00:00,  7.61it/s]\n"
     ]
    },
    {
     "name": "stdout",
     "output_type": "stream",
     "text": [
      "[0]\n"
     ]
    },
    {
     "name": "stderr",
     "output_type": "stream",
     "text": [
      "Evaluating: 100%|██████████| 1/1 [00:00<00:00,  7.98it/s]\n"
     ]
    },
    {
     "name": "stdout",
     "output_type": "stream",
     "text": [
      "[1]\n",
      "{' Veteran actor Robert Hardy, known for his roles in \"All Creatures Great and Small\" and portraying Winston Churchill, is selling his collection of antiques, including a 3D diorama of the Battle of Agincourt, for £100,000 in a £100,000 auction. ': {'labels': ['Unwanted', 'Unwanted.Instrinsic'], 'alignscore-base': 0.25322, 'alignscore-large': 0.117, 'HHEMv1': 0.16885, 'HHEM-2.1': 0.37813, 'HHEM-2.1-English': 0.69007, 'HHEM-2.1-Open': 0.85958, 'minicheck-roberta-large': 1, 'minicheck-deberta-v3-large': 0, 'minicheck-flan-t5-large': 0}, 'The collection, which includes furniture, swords, flintlock rifles, silverware, and crystal chandeliers, is being sold by Dominic Winter Auctioneers in Gloucestershire. ': {'labels': ['Consistent'], 'alignscore-base': 0.6258, 'alignscore-large': 0.87134, 'HHEMv1': 0.66257, 'HHEM-2.1': 0.99282, 'HHEM-2.1-English': 0.99848, 'HHEM-2.1-Open': 0.97027, 'minicheck-roberta-large': 0, 'minicheck-deberta-v3-large': 0, 'minicheck-flan-t5-large': 1}, 'Hardy, 89, is downsizing his home and has expressed sadness at parting with his treasured library. ': {'labels': ['Consistent'], 'alignscore-base': 0.73024, 'alignscore-large': 0.47439, 'HHEMv1': 0.82303, 'HHEM-2.1': 0.98818, 'HHEM-2.1-English': 0.99547, 'HHEM-2.1-Open': 0.97359, 'minicheck-roberta-large': 0, 'minicheck-deberta-v3-large': 0, 'minicheck-flan-t5-large': 1}, 'The auction, featuring over 200 items, will take place on Saturday and includes a painting of Hardy with a longbow, a diorama commissioned by Hardy in the 1960s, and a historical painting of Alfred the Great. ': {'labels': ['Consistent'], 'alignscore-base': 0.34685, 'alignscore-large': 0.62064, 'HHEMv1': 0.41959, 'HHEM-2.1': 0.61725, 'HHEM-2.1-English': 0.97766, 'HHEM-2.1-Open': 0.95185, 'minicheck-roberta-large': 0, 'minicheck-deberta-v3-large': 0, 'minicheck-flan-t5-large': 0}, \"Hardy's interest in classic literature and military history has contributed to his collection, and he has also appeared in the Harry Potter films as Minister for Magic Cornelius Fudge. \": {'labels': ['Benign'], 'alignscore-base': 0.53574, 'alignscore-large': 0.36807, 'HHEMv1': 0.95007, 'HHEM-2.1': 0.98806, 'HHEM-2.1-English': 0.99886, 'HHEM-2.1-Open': 0.93449, 'minicheck-roberta-large': 0, 'minicheck-deberta-v3-large': 0, 'minicheck-flan-t5-large': 1}}\n",
      "{' The passage discusses a study by the Institute for Health Metrics and Evaluation at the University of Washington, published in the American Journal of Public Health, which found an increase in heavy drinking and binge-drinking among Americans between 2005 and 2012. ': {'labels': ['Consistent'], 'alignscore-base': 0.76417, 'alignscore-large': 0.76526, 'HHEMv1': 0.30142, 'HHEM-2.1': 0.99316, 'HHEM-2.1-English': 0.99904, 'HHEM-2.1-Open': 0.98043, 'minicheck-roberta-large': 1, 'minicheck-deberta-v3-large': 1}, 'Heavy drinking is defined as exceeding an average of one drink per day for women and two drinks per day for men, while binge drinking is defined as four or more drinks for women and five or more drinks for men on a single occasion. ': {'labels': ['Unwanted.Instrinsic', 'Unwanted'], 'alignscore-base': 0.3813, 'alignscore-large': 0.77914, 'HHEMv1': 0.30089, 'HHEM-2.1': 0.99585, 'HHEM-2.1-English': 0.99869, 'HHEM-2.1-Open': 0.97516, 'minicheck-roberta-large': 1, 'minicheck-deberta-v3-large': 1}, \"The study found that the increase in heavy drinking is largely driven by women's drinking habits as social norms change. \": {'labels': ['Consistent'], 'alignscore-base': 0.93206, 'alignscore-large': 0.78476, 'HHEMv1': 0.92081, 'HHEM-2.1': 0.99434, 'HHEM-2.1-English': 0.99925, 'HHEM-2.1-Open': 0.99037, 'minicheck-roberta-large': 1, 'minicheck-deberta-v3-large': 1}, 'The study is the first to track adult drinking patterns at the county level, and in 2012, 8% of Americans were considered heavy drinkers and 18% were binge drinkers. ': {'labels': ['Consistent'], 'alignscore-base': 0.47359, 'alignscore-large': 0.99417, 'HHEMv1': 0.80002, 'HHEM-2.1': 0.99361, 'HHEM-2.1-English': 0.99942, 'HHEM-2.1-Open': 0.94595, 'minicheck-roberta-large': 1, 'minicheck-deberta-v3-large': 1}, 'Despite the increases in heavy drinking, the percentage of people who drink any alcohol has remained relatively unchanged over time. ': {'labels': ['Consistent'], 'alignscore-base': 0.80062, 'alignscore-large': 0.93241, 'HHEMv1': 0.95041, 'HHEM-2.1': 0.99496, 'HHEM-2.1-English': 0.99899, 'HHEM-2.1-Open': 0.98278, 'minicheck-roberta-large': 1, 'minicheck-deberta-v3-large': 1}, 'The study also notes that 88,600 U.S. deaths were attributed to alcohol in 2010, and the cost of excessive drinking has been estimated at more than $220 billion per year. ': {'labels': ['Consistent'], 'alignscore-base': 0.23686, 'alignscore-large': 0.90925, 'HHEMv1': 0.97089, 'HHEM-2.1': 0.9935, 'HHEM-2.1-English': 0.99838, 'HHEM-2.1-Open': 0.98657, 'minicheck-roberta-large': 1, 'minicheck-deberta-v3-large': 1}}\n"
     ]
    },
    {
     "name": "stderr",
     "output_type": "stream",
     "text": [
      "Evaluating: 100%|██████████| 1/1 [00:00<00:00,  9.11it/s]\n"
     ]
    },
    {
     "name": "stdout",
     "output_type": "stream",
     "text": [
      "[1]\n"
     ]
    },
    {
     "name": "stderr",
     "output_type": "stream",
     "text": [
      "Evaluating: 100%|██████████| 1/1 [00:00<00:00,  9.12it/s]\n"
     ]
    },
    {
     "name": "stdout",
     "output_type": "stream",
     "text": [
      "[1]\n"
     ]
    },
    {
     "name": "stderr",
     "output_type": "stream",
     "text": [
      "Evaluating: 100%|██████████| 1/1 [00:00<00:00,  9.56it/s]\n"
     ]
    },
    {
     "name": "stdout",
     "output_type": "stream",
     "text": [
      "[1]\n"
     ]
    },
    {
     "name": "stderr",
     "output_type": "stream",
     "text": [
      "Evaluating: 100%|██████████| 1/1 [00:00<00:00,  9.37it/s]\n"
     ]
    },
    {
     "name": "stdout",
     "output_type": "stream",
     "text": [
      "[1]\n"
     ]
    },
    {
     "name": "stderr",
     "output_type": "stream",
     "text": [
      "Evaluating: 100%|██████████| 1/1 [00:00<00:00,  9.58it/s]\n"
     ]
    },
    {
     "name": "stdout",
     "output_type": "stream",
     "text": [
      "[1]\n"
     ]
    },
    {
     "name": "stderr",
     "output_type": "stream",
     "text": [
      "Evaluating: 100%|██████████| 1/1 [00:00<00:00,  9.33it/s]\n"
     ]
    },
    {
     "name": "stdout",
     "output_type": "stream",
     "text": [
      "[1]\n",
      "{' The passage discusses a study by the Institute for Health Metrics and Evaluation at the University of Washington, published in the American Journal of Public Health, which found an increase in heavy drinking and binge-drinking among Americans between 2005 and 2012. ': {'labels': ['Consistent'], 'alignscore-base': 0.76417, 'alignscore-large': 0.76526, 'HHEMv1': 0.30142, 'HHEM-2.1': 0.99316, 'HHEM-2.1-English': 0.99904, 'HHEM-2.1-Open': 0.98043, 'minicheck-roberta-large': 1, 'minicheck-deberta-v3-large': 1, 'minicheck-flan-t5-large': 1}, 'Heavy drinking is defined as exceeding an average of one drink per day for women and two drinks per day for men, while binge drinking is defined as four or more drinks for women and five or more drinks for men on a single occasion. ': {'labels': ['Unwanted.Instrinsic', 'Unwanted'], 'alignscore-base': 0.3813, 'alignscore-large': 0.77914, 'HHEMv1': 0.30089, 'HHEM-2.1': 0.99585, 'HHEM-2.1-English': 0.99869, 'HHEM-2.1-Open': 0.97516, 'minicheck-roberta-large': 1, 'minicheck-deberta-v3-large': 1, 'minicheck-flan-t5-large': 1}, \"The study found that the increase in heavy drinking is largely driven by women's drinking habits as social norms change. \": {'labels': ['Consistent'], 'alignscore-base': 0.93206, 'alignscore-large': 0.78476, 'HHEMv1': 0.92081, 'HHEM-2.1': 0.99434, 'HHEM-2.1-English': 0.99925, 'HHEM-2.1-Open': 0.99037, 'minicheck-roberta-large': 1, 'minicheck-deberta-v3-large': 1, 'minicheck-flan-t5-large': 1}, 'The study is the first to track adult drinking patterns at the county level, and in 2012, 8% of Americans were considered heavy drinkers and 18% were binge drinkers. ': {'labels': ['Consistent'], 'alignscore-base': 0.47359, 'alignscore-large': 0.99417, 'HHEMv1': 0.80002, 'HHEM-2.1': 0.99361, 'HHEM-2.1-English': 0.99942, 'HHEM-2.1-Open': 0.94595, 'minicheck-roberta-large': 1, 'minicheck-deberta-v3-large': 1, 'minicheck-flan-t5-large': 1}, 'Despite the increases in heavy drinking, the percentage of people who drink any alcohol has remained relatively unchanged over time. ': {'labels': ['Consistent'], 'alignscore-base': 0.80062, 'alignscore-large': 0.93241, 'HHEMv1': 0.95041, 'HHEM-2.1': 0.99496, 'HHEM-2.1-English': 0.99899, 'HHEM-2.1-Open': 0.98278, 'minicheck-roberta-large': 1, 'minicheck-deberta-v3-large': 1, 'minicheck-flan-t5-large': 1}, 'The study also notes that 88,600 U.S. deaths were attributed to alcohol in 2010, and the cost of excessive drinking has been estimated at more than $220 billion per year. ': {'labels': ['Consistent'], 'alignscore-base': 0.23686, 'alignscore-large': 0.90925, 'HHEMv1': 0.97089, 'HHEM-2.1': 0.9935, 'HHEM-2.1-English': 0.99838, 'HHEM-2.1-Open': 0.98657, 'minicheck-roberta-large': 1, 'minicheck-deberta-v3-large': 1, 'minicheck-flan-t5-large': 1}}\n"
     ]
    }
   ],
   "source": [
    "fname = '../eval/sent_level_results/detectors_sent_level_preds.json'\n",
    "sources = []\n",
    "df = pd.read_csv('../assign/examples_to_annotate.csv')\n",
    "for index, row in df.iterrows():\n",
    "    sources.append(row['source'])\n",
    "\n",
    "for idx, minichecker in enumerate(minicheck_models):\n",
    "    print(f\"Run model {idx} - {minichecker}\")\n",
    "    existing_meta_ids = []\n",
    "    data = {}\n",
    "    if os.path.exists(fname):\n",
    "        with open(fname) as r:\n",
    "            data = json.load(r)\n",
    "            for meta_id in data:\n",
    "                # print(list(data[meta_id].values())[0])\n",
    "                if f\"minicheck-{minichecker}\" in list(data[meta_id].values())[0]:\n",
    "                    existing_meta_ids.append(meta_id)\n",
    "                \n",
    "    for meta_id in sent_level_labels:\n",
    "        meta_id = str(meta_id)\n",
    "        if meta_id in existing_meta_ids:\n",
    "            continue\n",
    "        if meta_id in data:\n",
    "            item = data[meta_id]\n",
    "            print(item)\n",
    "        else:\n",
    "            item = {}\n",
    "        for sent, sent_labels in sent_level_labels[int(meta_id)].items():\n",
    "            if sent not in item:\n",
    "                item[sent] = {'labels': sent_labels}\n",
    "            \n",
    "            item[sent][f\"minicheck-{minichecker}\"] = MinicheckEval(minichecker, sources[int(meta_id)], sent)[0]\n",
    "            \n",
    "        print(item)\n",
    "        if os.path.exists(fname):\n",
    "            with open(fname, 'r') as f:\n",
    "                json_data = json.load(f)\n",
    "                json_data[meta_id] = item\n",
    "        else:\n",
    "            json_data = {meta_id:item}\n",
    "        with open(fname, 'w') as f:\n",
    "            f.write(json.dumps(json_data, indent=2))"
   ]
  }
 ],
 "metadata": {
  "kernelspec": {
   "display_name": ".env",
   "language": "python",
   "name": "python3"
  },
  "language_info": {
   "codemirror_mode": {
    "name": "ipython",
    "version": 3
   },
   "file_extension": ".py",
   "mimetype": "text/x-python",
   "name": "python",
   "nbconvert_exporter": "python",
   "pygments_lexer": "ipython3",
   "version": "3.11.2"
  }
 },
 "nbformat": 4,
 "nbformat_minor": 2
}
