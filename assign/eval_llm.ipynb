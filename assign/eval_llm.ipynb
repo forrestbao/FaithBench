{
 "cells": [
  {
   "cell_type": "code",
   "execution_count": 1,
   "metadata": {},
   "outputs": [],
   "source": [
    "from utils import *\n",
    "import os\n",
    "import json"
   ]
  },
  {
   "cell_type": "code",
   "execution_count": 2,
   "metadata": {},
   "outputs": [],
   "source": [
    "result_path = 'batch_5_src_no_sports/results'\n",
    "result_files = [os.path.join(result_path, f\"batch_{batch_id}_annotation.json\") for batch_id in range(1,10)]\n",
    "skip_sample_ids = {os.path.join(result_path, \"batch_5_annotation.json\"): list(range(40,50))}\n",
    "selected_annotators = {\n",
    "        # os.path.join(result_path, \"batch_3_annotation.json\"): ['yujia', 'rogger'],\n",
    "        os.path.join(result_path, \"batch_7_annotation.json\"): ['yujia', 'manveer']\n",
    "}\n",
    "\n",
    "halu_eval = HaluEvaluator(result_files, skip_sample_ids=skip_sample_ids, selected_annotators=selected_annotators)\n",
    "halu_eval.process_results()"
   ]
  },
  {
   "cell_type": "code",
   "execution_count": 3,
   "metadata": {},
   "outputs": [
    {
     "name": "stdout",
     "output_type": "stream",
     "text": [
      "number of records for openai/GPT-3.5-Turbo: 44\n",
      "number of records for openai/gpt-4o: 44\n",
      "number of records for Qwen/Qwen2.5-7B-Instruct: 44\n",
      "number of records for microsoft/Phi-3-mini-4k-instruct: 44\n",
      "number of records for cohere/command-r-08-2024: 44\n",
      "number of records for meta-llama/Meta-Llama-3.1-8B-Instruct: 44\n",
      "number of records for meta-llama/Meta-Llama-3.1-70B-Instruct: 44\n",
      "number of records for google/gemini-1.5-flash-001: 44\n",
      "number of records for Anthropic/claude-3-5-sonnet-20240620: 44\n",
      "number of records for mistralai/Mistral-7B-Instruct-v0.3: 44\n",
      "{\n",
      "  \"openai/gpt-4o\": 38.64,\n",
      "  \"openai/GPT-3.5-Turbo\": 50.0,\n",
      "  \"meta-llama/Meta-Llama-3.1-70B-Instruct\": 52.27,\n",
      "  \"google/gemini-1.5-flash-001\": 54.55,\n",
      "  \"meta-llama/Meta-Llama-3.1-8B-Instruct\": 59.09,\n",
      "  \"Anthropic/claude-3-5-sonnet-20240620\": 59.09,\n",
      "  \"Qwen/Qwen2.5-7B-Instruct\": 65.91,\n",
      "  \"microsoft/Phi-3-mini-4k-instruct\": 65.91,\n",
      "  \"cohere/command-r-08-2024\": 77.27,\n",
      "  \"mistralai/Mistral-7B-Instruct-v0.3\": 77.27\n",
      "}\n"
     ]
    }
   ],
   "source": [
    "print(json.dumps(halu_eval.compute_halu_rate(), indent=2))"
   ]
  }
 ],
 "metadata": {
  "kernelspec": {
   "display_name": ".env",
   "language": "python",
   "name": "python3"
  },
  "language_info": {
   "codemirror_mode": {
    "name": "ipython",
    "version": 3
   },
   "file_extension": ".py",
   "mimetype": "text/x-python",
   "name": "python",
   "nbconvert_exporter": "python",
   "pygments_lexer": "ipython3",
   "version": "3.12.3"
  }
 },
 "nbformat": 4,
 "nbformat_minor": 2
}
