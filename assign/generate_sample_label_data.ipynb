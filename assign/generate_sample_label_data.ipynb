{
 "cells": [
  {
   "cell_type": "code",
   "execution_count": 1,
   "metadata": {},
   "outputs": [],
   "source": [
    "import os\n",
    "import json\n",
    "import pandas as pd"
   ]
  },
  {
   "cell_type": "code",
   "execution_count": null,
   "metadata": {},
   "outputs": [],
   "source": [
    "result_path = 'batch_5_src_no_sports/results'\n",
    "result_files = []\n",
    "skip_sample_ids = {}\n",
    "skip_samples = {\n",
    "    5: range(40, 50), \n",
    "    10: range(10,20),\n",
    "    11: range(10),\n",
    "    12: range(20, 30), \n",
    "    15: range(40, 50)\n",
    "}\n",
    "\n",
    "for batch_id in range(1,16+1):\n",
    "    file_name = os.path.join(result_path, f\"batch_{batch_id}_annotation.json\")\n",
    "    result_files.append(file_name)\n",
    "    if batch_id in skip_samples:\n",
    "        skip_sample_ids[file_name] = skip_samples[batch_id]\n",
    "\n",
    "final_data = {'source':[], 'summary':[], 'label':[]}\n",
    "for file_path in result_files:        \n",
    "    data = json.load(open(file_path))\n",
    "    sample_count = 0\n",
    "    for sample in data:\n",
    "        sample_id = sample['sample_id']\n",
    "        if file_path in skip_sample_ids and sample_id in skip_sample_ids[file_path]:\n",
    "            continue\n",
    "        # model_name = sample['meta_model']\n",
    "        annotations = sample['annotations']\n",
    "        final_data['source'].append(sample['source'])\n",
    "        final_data['summary'].append(sample['summary'])\n",
    "        sample_annotations = []\n",
    "        occurred_annotators = set()\n",
    "        for annotation in annotations:\n",
    "            sample_annotations.extend(annotation['label'])   \n",
    "        sample_annotations = set(sample_annotations)\n",
    "        # human annotation\n",
    "        if \"Unwanted\" in sample_annotations:\n",
    "            sample_pred = \"Unwanted\"\n",
    "        elif 'Questionable' in sample_annotations:\n",
    "            sample_pred = \"Questionable\"\n",
    "        elif \"Benign\" in sample_annotations:\n",
    "            sample_pred = \"Benign\"\n",
    "        else:\n",
    "            sample_pred = \"Consistent\"\n",
    "        final_data['label'].append(sample_pred)\n",
    "\n",
    "final_data_df = pd.DataFrame.from_dict(final_data, orient='columns') \n",
    "final_data_df.to_csv('FaithBench.csv', mode='w', index=False, header=True)\n",
    "        \n",
    "            "
   ]
  }
 ],
 "metadata": {
  "kernelspec": {
   "display_name": ".env",
   "language": "python",
   "name": "python3"
  },
  "language_info": {
   "codemirror_mode": {
    "name": "ipython",
    "version": 3
   },
   "file_extension": ".py",
   "mimetype": "text/x-python",
   "name": "python",
   "nbconvert_exporter": "python",
   "pygments_lexer": "ipython3",
   "version": "3.12.3"
  }
 },
 "nbformat": 4,
 "nbformat_minor": 2
}
