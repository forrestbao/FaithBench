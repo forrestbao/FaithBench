{
 "cells": [
  {
   "cell_type": "code",
   "execution_count": 1,
   "metadata": {},
   "outputs": [],
   "source": [
    "from openai import OpenAI\n",
    "import pandas as pd\n",
    "import ast\n",
    "import jsonlines\n",
    "import os"
   ]
  },
  {
   "cell_type": "code",
   "execution_count": 2,
   "metadata": {},
   "outputs": [],
   "source": [
    "client = OpenAI()\n",
    "MODEL='gpt-4o'\n",
    "\n",
    "# Aggrefact prompt\n",
    "system = \"\"\"Split the input paragraph into a list of sentences, each accompanied by its start and end index in the original paragraph. Please make sure that your output is a list of tuples in the format: (sentence, start_index, end_index). Each extracted sentence must remain exactly as it appears in the input, preserving all characters, spaces, and formatting without any modifications. Note that spaces at the end of a sentence should be considered part of that sentence. The space at the begining of input should be considered part of the first sentence.\n",
    "\n",
    "For example:\n",
    "Input: ' Here is a concise summary of the passage:  * More than cases of COVID-19 have been reported * Cases have been reported in more than 190 countries and 200 territories * More than deaths have resulted from COVID-19'\n",
    "Output: [(\" Here is a concise summary of the passage:  \", 0, 44), (\"* More than cases of COVID-19 have been reported \", 44, 93), (\"* Cases have been reported in more than 190 countries and 200 territories \", 93, 167), (\"* More than deaths have resulted from COVID-19\", 167, 213)]\n",
    "\"\"\"\n",
    "user = 'Make sure that your output is a string of a list of tuples in the format: (sentence, start_index, end_index). It should be able to be compiled by ast.literal_eval\\n\\nInput: {summary}\\nOutput:'\n",
    "\n",
    "def call_gpt(system_prompt, user_prompt, model='gpt-4', temperature=0):\n",
    "    completion = client.chat.completions.create(\n",
    "        model=model,\n",
    "        messages=[\n",
    "            {\"role\": \"system\", \"content\": system_prompt},\n",
    "            {\"role\": \"user\", \"content\": user_prompt}\n",
    "        ],\n",
    "        temperature=temperature\n",
    "    )\n",
    "\n",
    "    # print(completion.choices[0].message.content)\n",
    "    return completion.choices[0].message.content"
   ]
  },
  {
   "cell_type": "code",
   "execution_count": null,
   "metadata": {},
   "outputs": [
    {
     "ename": "TypeError",
     "evalue": "list indices must be integers or slices, not str",
     "output_type": "error",
     "traceback": [
      "\u001b[0;31m---------------------------------------------------------------------------\u001b[0m",
      "\u001b[0;31mTypeError\u001b[0m                                 Traceback (most recent call last)",
      "Cell \u001b[0;32mIn[5], line 7\u001b[0m\n\u001b[1;32m      5\u001b[0m     \u001b[38;5;28;01mwith\u001b[39;00m \u001b[38;5;28mopen\u001b[39m(\u001b[38;5;124m'\u001b[39m\u001b[38;5;124m../summary_sent_list.jsonl\u001b[39m\u001b[38;5;124m'\u001b[39m) \u001b[38;5;28;01mas\u001b[39;00m r:\n\u001b[1;32m      6\u001b[0m         \u001b[38;5;28;01mfor\u001b[39;00m p \u001b[38;5;129;01min\u001b[39;00m jsonlines\u001b[38;5;241m.\u001b[39mReader(r):\n\u001b[0;32m----> 7\u001b[0m             existing_meta_ids\u001b[38;5;241m.\u001b[39mappend(\u001b[43mp\u001b[49m\u001b[43m[\u001b[49m\u001b[38;5;124;43m'\u001b[39;49m\u001b[38;5;124;43mmeta_id\u001b[39;49m\u001b[38;5;124;43m'\u001b[39;49m\u001b[43m]\u001b[49m)\n\u001b[1;32m      8\u001b[0m \u001b[38;5;28mprint\u001b[39m(existing_meta_ids)\n\u001b[1;32m     10\u001b[0m \u001b[38;5;28;01mfor\u001b[39;00m index, row \u001b[38;5;129;01min\u001b[39;00m df\u001b[38;5;241m.\u001b[39miterrows():\n",
      "\u001b[0;31mTypeError\u001b[0m: list indices must be integers or slices, not str"
     ]
    }
   ],
   "source": [
    "df = pd.read_csv('../examples_to_annotate.csv')\n",
    "\n",
    "existing_meta_ids = []\n",
    "if os.path.exists('../summary_sent_list.jsonl'):\n",
    "    with open('../summary_sent_list.jsonl') as r:\n",
    "        for p in jsonlines.Reader(r):\n",
    "            existing_meta_ids.append(p[0]['meta_id'])\n",
    "print(existing_meta_ids)\n",
    "\n",
    "for index, row in df.iterrows():\n",
    "    print(int(index))\n",
    "    if int(index) in existing_meta_ids:\n",
    "        continue\n",
    "    \n",
    "    result = call_gpt(system, user.format(summary=row['summary']), model=MODEL).replace('```python','').replace('```','')\n",
    "    try:\n",
    "        result = ast.literal_eval(result)\n",
    "        item = [{'meta_id':int(index), 'summary': row['summary'], 'sent_list': result}]\n",
    "        print(item)\n",
    "        if os.path.exists('../summary_sent_list.jsonl'):\n",
    "            mode = 'a'\n",
    "        else:\n",
    "            mode = 'w'\n",
    "        with jsonlines.open('../summary_sent_list.jsonl', mode=mode) as writer:\n",
    "            writer.write(item)\n",
    "    except:\n",
    "        print(result)\n",
    "        break\n",
    "    # print(result)\n",
    "                \n",
    "# df.insert(len(df.columns.tolist()), MODEL, preds)\n",
    "# df.to_csv(file_name, mode='w', index=False, header=True)"
   ]
  }
 ],
 "metadata": {
  "kernelspec": {
   "display_name": ".env",
   "language": "python",
   "name": "python3"
  },
  "language_info": {
   "codemirror_mode": {
    "name": "ipython",
    "version": 3
   },
   "file_extension": ".py",
   "mimetype": "text/x-python",
   "name": "python",
   "nbconvert_exporter": "python",
   "pygments_lexer": "ipython3",
   "version": "3.12.3"
  }
 },
 "nbformat": 4,
 "nbformat_minor": 2
}
