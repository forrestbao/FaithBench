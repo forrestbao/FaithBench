{
 "cells": [
  {
   "cell_type": "code",
   "execution_count": 1,
   "metadata": {},
   "outputs": [],
   "source": [
    "import jsonlines\n",
    "import os"
   ]
  },
  {
   "cell_type": "code",
   "execution_count": null,
   "metadata": {},
   "outputs": [
    {
     "name": "stdout",
     "output_type": "stream",
     "text": [
      "1147\n",
      "1147\n",
      "Start index: 0, End index: 151\n",
      "{'meta_id': 1147, 'summary': 'As of [date], more than [number] cases of COVID-19 have been reported in over 190 countries and 200 territories, resulting in more than [number] deaths.', 'sent_list': [['As of [date], more than [number] cases of COVID-19 have been reported in over 190 countries and 200 territories, resulting in more than [number] deaths.', 0, 151]]}\n",
      "1148\n",
      "Start index: 0, End index: 142\n",
      "{'meta_id': 1148, 'summary': 'As of 22 February 2020, 77,984 cases have been confirmed, including cases in all provinces of China and in more than two dozen other countries.', 'sent_list': [['As of 22 February 2020, 77,984 cases have been confirmed, including cases in all provinces of China and in more than two dozen other countries.', 0, 142]]}\n",
      "1149\n",
      "Start index: 0, End index: 134\n",
      "{'meta_id': 1149, 'summary': 'As of 22 February 2020, there have been 78,629 confirmed cases, including in all provinces of China and over two dozen other countries.', 'sent_list': [['As of 22 February 2020, there have been 78,629 confirmed cases, including in all provinces of China and over two dozen other countries.', 0, 134]]}\n"
     ]
    }
   ],
   "source": [
    "writer = jsonlines.open('../processed_summary_sent_list.jsonl', mode='a') \n",
    "existing_meta_ids = []\n",
    "if os.path.exists('../processed_summary_sent_list.jsonl'):\n",
    "    with open('../processed_summary_sent_list.jsonl') as r:\n",
    "        for p in jsonlines.Reader(r):\n",
    "            existing_meta_ids.append(p['meta_id'])\n",
    "print(len(existing_meta_ids))\n",
    "with open('../summary_sent_list.jsonl') as reader:\n",
    "    for record in jsonlines.Reader(reader):\n",
    "        record = record[0]\n",
    "        if record['meta_id'] in existing_meta_ids:\n",
    "            continue\n",
    "        print(record['meta_id'])\n",
    "        summary = record['summary']\n",
    "        sent_list = record['sent_list']\n",
    "        for idx, sent_record in enumerate(sent_list):\n",
    "            sent, start_idx, end_idx = sent_record\n",
    "            if len(sent) > 350 and record['meta_id'] != 703:\n",
    "                print(len(sent))\n",
    "                raise ValueError(f\"The {idx}-th sentence in sample {record['meta_id']} is too long. Need double check.\")\n",
    "            start_index = summary.find(sent)\n",
    "            if start_index != -1:\n",
    "                # Calculate the end index\n",
    "                end_index = start_index + len(sent) - 1\n",
    "                print(f\"Start index: {start_index}, End index: {end_index}\")\n",
    "                if start_idx != start_index:\n",
    "                    record['sent_list'][idx][1] = start_index\n",
    "                if end_idx != end_index:\n",
    "                    record['sent_list'][idx][2] = end_index\n",
    "            else:\n",
    "                try:\n",
    "                    sent = sent.replace('. ','.\\n\\n')\n",
    "                    start_index = summary.find(sent)\n",
    "                    if start_index != -1:\n",
    "                        # Calculate the end index\n",
    "                        end_index = start_index + len(sent) - 1\n",
    "                        print(f\"Start index: {start_index}, End index: {end_index}\")\n",
    "                        record['sent_list'][idx][0] = sent\n",
    "                        if start_idx != start_index:\n",
    "                            record['sent_list'][idx][1] = start_index\n",
    "                        if end_idx != end_index:\n",
    "                            record['sent_list'][idx][2] = end_index\n",
    "                        \n",
    "                except:\n",
    "                    raise ValueError(f\"Meta_id: {record['meta_id']}. The {idx}-th sentence {sent} not found in summary.\")\n",
    "        print(record)\n",
    "        writer.write(record)"
   ]
  }
 ],
 "metadata": {
  "kernelspec": {
   "display_name": ".env",
   "language": "python",
   "name": "python3"
  },
  "language_info": {
   "codemirror_mode": {
    "name": "ipython",
    "version": 3
   },
   "file_extension": ".py",
   "mimetype": "text/x-python",
   "name": "python",
   "nbconvert_exporter": "python",
   "pygments_lexer": "ipython3",
   "version": "3.12.3"
  }
 },
 "nbformat": 4,
 "nbformat_minor": 2
}
