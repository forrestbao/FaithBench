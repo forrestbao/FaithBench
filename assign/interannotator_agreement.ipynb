{
 "cells": [
  {
   "cell_type": "code",
   "execution_count": 1,
   "metadata": {},
   "outputs": [],
   "source": [
    "import json\n",
    "# !pip install krippendorff\n",
    "import krippendorff\n",
    "import numpy as np\n",
    "def read_annotation(file_path):\n",
    "    annotators_records = {} # annotator: {sample1: [label], sample2: [label], ...}\n",
    "    data = json.load(open(file_path))\n",
    "    sample_ids = []\n",
    "    for sample in data:\n",
    "        annotations = sample['annotations']\n",
    "        sample_id = sample['meta_sample_id']\n",
    "        sample_ids.append(sample_id)\n",
    "        for annotation in annotations:\n",
    "            annotator = annotation['annotator'] if not annotation['annotator_name'] else annotation['annotator_name']\n",
    "            if annotator not in annotators_records:\n",
    "                annotators_records[annotator] = {}\n",
    "            if sample_id not in annotators_records[annotator]:\n",
    "                annotators_records[annotator][sample_id] = []\n",
    "            annotators_records[annotator][sample_id] += annotation['label']\n",
    "        \n",
    "    return sample_ids, annotators_records"
   ]
  },
  {
   "cell_type": "code",
   "execution_count": 3,
   "metadata": {},
   "outputs": [
    {
     "name": "stdout",
     "output_type": "stream",
     "text": [
      "sample_ids: [72, 223, 309, 384, 391, 406, 551, 750, 821, 1123]\n",
      "annotators: ['Amin Ahmad', 'rogger', 'Miaoran', 'forrest']\n",
      "Amin Ahmad [0, nan, 2, nan, 2, 0, 0, 0, nan, nan]\n",
      "rogger [0, 0, 2, 1, 0, 0, 0, nan, 0, 0]\n",
      "Miaoran [0, 1, 1, 0, 0, 0, 0, 0, 0, 0]\n",
      "forrest [0, 0, 2, 0, 1, 1, 0, 0, 0, 0]\n",
      "Interval Krippendorff's alpha for 3 labels:\n",
      "0.5394581861012957\n"
     ]
    }
   ],
   "source": [
    "sample_ids, annotators_records = read_annotation('pilot_data/pilot_openai_small_annotation.json')\n",
    "# sample_ids, annotators_records = read_annotation('pilot_data/pilot_all-mpnet-base-v2_annotation_revised.json')\n",
    "annotators = list(annotators_records.keys())\n",
    "sample_ids = sorted(sample_ids)\n",
    "selected_annotators = ['Amin Ahmad', 'rogger', 'Miaoran', 'forrest']\n",
    "\n",
    "results_binary = {annotator: [] for annotator in selected_annotators} # annotator 1: [label for sample 1, label for sample 2 ....] # either consistent or hallucinated\n",
    "results_3labels = {annotator: [] for annotator in selected_annotators}\n",
    "results_4labels = {annotator: [] for annotator in selected_annotators} # consistent, questionable, benign, unwanted\n",
    "# binary_label {1: consistent, 0: hallucinated}\n",
    "# 3 labels: {2: consistent, 1: questionable, 0: hallucinated (benign or unwanted)}\n",
    "# 4 labels: {0:unwanted, 1: benign, 2:questionable, 3: consistent}\n",
    "for sample_id in sample_ids:\n",
    "    for annotator in selected_annotators:\n",
    "        if sample_id not in annotators_records[annotator]:\n",
    "            binary_label = 1\n",
    "            threeLabel = 2\n",
    "            refinedLabel = 3\n",
    "        else:\n",
    "            sample_label = set(annotators_records[annotator][sample_id])\n",
    "            if 'Unwanted' in sample_label:\n",
    "                refinedLabel = 0\n",
    "                threeLabel = 0\n",
    "                binary_label = 0\n",
    "            elif 'Benign' in sample_label:\n",
    "                refinedLabel = 1\n",
    "                threeLabel = 1\n",
    "                binary_label = 0\n",
    "            else:\n",
    "                refinedLabel = 2\n",
    "                threeLabel = 1\n",
    "                binary_label = 0\n",
    "\n",
    "        results_binary[annotator].append(binary_label)\n",
    "        results_3labels[annotator].append(threeLabel)\n",
    "        results_4labels[annotator].append(refinedLabel)\n",
    "print('annotators:', list(results_binary.keys()))\n",
    "\n",
    "# print('Number of samples:',len(sample_ids))\n",
    "# \"nominal\": for category data without order\n",
    "\n",
    "# for annotator in results_binary:\n",
    "#     print(annotator, results_binary[annotator])\n",
    "\n",
    "# print('Nominal Krippendorff\\'s alpha for binary labels:')\n",
    "# print(krippendorff.alpha(np.array(list(results_binary.values()), dtype=np.dtype(float)), level_of_measurement=\"nominal\", ))\n",
    "# print()\n",
    "\n",
    "for annotator in results_3labels:\n",
    "    print(annotator, results_3labels[annotator])\n",
    "\n",
    "print('Interval Krippendorff\\'s alpha for 3 labels:')\n",
    "print(krippendorff.alpha(np.array(list(results_3labels.values()), dtype=np.dtype(float)), level_of_measurement=\"interval\"))\n",
    "\n",
    "# print('Nominal Krippendorff\\'s alpha for 4 labels:')\n",
    "# print(krippendorff.alpha(np.array(list(results_4labels.values()), dtype=np.dtype(float)), level_of_measurement=\"nominal\"))\n"
   ]
  }
 ],
 "metadata": {
  "kernelspec": {
   "display_name": ".env",
   "language": "python",
   "name": "python3"
  },
  "language_info": {
   "codemirror_mode": {
    "name": "ipython",
    "version": 3
   },
   "file_extension": ".py",
   "mimetype": "text/x-python",
   "name": "python",
   "nbconvert_exporter": "python",
   "pygments_lexer": "ipython3",
   "version": "3.12.3"
  }
 },
 "nbformat": 4,
 "nbformat_minor": 2
}
