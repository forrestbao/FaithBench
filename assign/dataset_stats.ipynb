{
 "cells": [
  {
   "cell_type": "code",
   "execution_count": 1,
   "metadata": {},
   "outputs": [],
   "source": [
    "import os\n",
    "import numpy as np\n",
    "import pandas as pd\n",
    "import sys\n",
    "# caution: path[0] is reserved for script path (or '' in REPL)\n",
    "sys.path.insert(1, '../eval')\n",
    "from utils import *"
   ]
  },
  {
   "cell_type": "code",
   "execution_count": 2,
   "metadata": {},
   "outputs": [
    {
     "name": "stdout",
     "output_type": "stream",
     "text": [
      "There are 30 summaries containing 1 sentences\n",
      "There are 66 summaries containing 2 sentences\n",
      "There are 119 summaries containing 3 sentences\n",
      "There are 161 summaries containing 4 sentences\n",
      "There are 171 summaries containing 5 sentences\n",
      "There are 121 summaries containing 6 sentences\n",
      "There are 77 summaries containing 7 sentences\n",
      "There are 30 summaries containing 8 sentences\n",
      "There are 14 summaries containing 9 sentences\n",
      "There are 5 summaries containing 10 sentences\n",
      "There are 4 summaries containing 11 sentences\n",
      "There are 2 summaries containing 12 sentences\n",
      "There are 4.70875 sentences in a summary in average\n",
      "There are 585 samples containing more than 3 sentences\n",
      "There are 253 samples containing more than 5 sentences\n"
     ]
    }
   ],
   "source": [
    "sent_num_count = {}\n",
    "sent_level_labels = {}\n",
    "result_files, skip_sample_ids, selected_annotators, num_annotators = process_result_files()\n",
    "for file_path in result_files:\n",
    "    _, _, _, batch_sent_level_labels = read_annotation(file_path, skip_sample_ids=skip_sample_ids)\n",
    "    # print(batch_sent_level_labels)\n",
    "    sent_level_labels.update(batch_sent_level_labels)\n",
    "    # print(sent_level_labels)\n",
    "for sample_idx,  record in sent_level_labels.items():\n",
    "    if len(record) not in sent_num_count:\n",
    "        sent_num_count[len(record)] = [sample_idx]\n",
    "    else:\n",
    "        sent_num_count[len(record)].append(sample_idx)\n",
    "sent_num_count = dict(sorted(sent_num_count.items()))\n",
    "total_sent_count = 0\n",
    "total_sample_count = 0\n",
    "for sent_num in sent_num_count:\n",
    "    total_sent_count += sent_num*len(sent_num_count[sent_num])\n",
    "    total_sample_count += len(sent_num_count[sent_num])\n",
    "    print(f\"There are {len(sent_num_count[sent_num])} summaries containing {sent_num} sentences\")\n",
    "print(f\"There are {total_sent_count/total_sample_count} sentences in a summary in average\")\n",
    "print(f\"There are {sum([len(sent_num_count[sent_num]) for sent_num in sent_num_count if sent_num > 3])} samples containing more than 3 sentences\")\n",
    "print(f\"There are {sum([len(sent_num_count[sent_num]) for sent_num in sent_num_count if sent_num > 5])} samples containing more than 5 sentences\")\n",
    "# print(sent_num_count[sent_num][0])"
   ]
  }
 ],
 "metadata": {
  "kernelspec": {
   "display_name": ".env",
   "language": "python",
   "name": "python3"
  },
  "language_info": {
   "codemirror_mode": {
    "name": "ipython",
    "version": 3
   },
   "file_extension": ".py",
   "mimetype": "text/x-python",
   "name": "python",
   "nbconvert_exporter": "python",
   "pygments_lexer": "ipython3",
   "version": "3.11.2"
  }
 },
 "nbformat": 4,
 "nbformat_minor": 2
}
