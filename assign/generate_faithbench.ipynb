{
 "cells": [
  {
   "cell_type": "code",
   "execution_count": 1,
   "metadata": {},
   "outputs": [],
   "source": [
    "import os\n",
    "import json\n",
    "import pandas as pd\n",
    "from annotation_config import *"
   ]
  },
  {
   "cell_type": "code",
   "execution_count": null,
   "metadata": {},
   "outputs": [
    {
     "name": "stdout",
     "output_type": "stream",
     "text": [
      "(800, 5)\n"
     ]
    }
   ],
   "source": [
    "result_path = 'batch_5_src_no_sports/results'\n",
    "result_files = []\n",
    "skip_sample_ids = {}\n",
    "\n",
    "for batch_id in range(1,16+1):\n",
    "    file_name = os.path.join(result_path, f\"batch_{batch_id}_annotation.json\")\n",
    "    result_files.append(file_name)\n",
    "    if batch_id in skip_samples:\n",
    "        skip_sample_ids[file_name] = skip_samples[batch_id]\n",
    "final_data = {'source':[], 'summary':[], 'LLM': [], 'worst-label':[], 'best-label':[]}\n",
    "for file_path in result_files:        \n",
    "    data = json.load(open(file_path))\n",
    "    sample_count = 0\n",
    "    annotators = set()\n",
    "    for sample in data:\n",
    "        sample_id = sample['sample_id']\n",
    "        if file_path in skip_sample_ids and sample_id in skip_sample_ids[file_path]:\n",
    "            continue\n",
    "        # model_name = sample['meta_model']\n",
    "        annotations = sample['annotations']\n",
    "        for annotation in annotations:\n",
    "            annotators.add(annotation['annotator'])\n",
    "\n",
    "    num_annotators = len(annotators)\n",
    "    \n",
    "    for sample in data: \n",
    "        final_data['source'].append(sample['source'])\n",
    "        final_data['summary'].append(sample['summary'])\n",
    "        final_data['LLM'].append(sample['meta_model'])\n",
    "        sample_annotations = []\n",
    "        occurred_annotators = set()\n",
    "        annotations = sample['annotations']\n",
    "        for annotation in annotations:\n",
    "            # print(annotation)\n",
    "            sample_annotations.extend(annotation['label'])\n",
    "            occurred_annotators.add(annotation['annotator'])\n",
    "\n",
    "        if len(occurred_annotators) < num_annotators:\n",
    "            sample_annotations.extend(['Consistent']* (num_annotators - len(occurred_annotators)))\n",
    "\n",
    "        sample_annotations = set(sample_annotations)\n",
    "        # print(sample_annotations)\n",
    "        # human annotation\n",
    "        if \"Unwanted\" in sample_annotations:\n",
    "            worst_sample_pred = \"Unwanted\"\n",
    "        elif 'Questionable' in sample_annotations:\n",
    "            worst_sample_pred = \"Questionable\"\n",
    "        elif \"Benign\" in sample_annotations:\n",
    "            worst_sample_pred = \"Benign\"\n",
    "        else:\n",
    "            worst_sample_pred = \"Consistent\"\n",
    "\n",
    "        if \"Consistent\" in sample_annotations:\n",
    "            best_sample_pred = \"Consistent\"\n",
    "        elif \"Benign\" in sample_annotations:\n",
    "            best_sample_pred = \"Benign\"\n",
    "        elif 'Questionable' in sample_annotations:\n",
    "            best_sample_pred = \"Questionable\"\n",
    "        else:\n",
    "            best_sample_pred = \"Unwanted\"\n",
    "        # print('worst_sample_pred', worst_sample_pred)\n",
    "        # print('best_sample_pred', best_sample_pred)\n",
    "        final_data['worst-label'].append(worst_sample_pred)\n",
    "        final_data['best-label'].append(best_sample_pred)\n",
    "\n",
    "final_data_df = pd.DataFrame.from_dict(final_data, orient='columns') \n",
    "print(final_data_df.shape)\n",
    "final_data_df.to_csv('FaithBench.csv', mode='w', index=False, header=True)\n",
    "        \n",
    "            "
   ]
  }
 ],
 "metadata": {
  "kernelspec": {
   "display_name": ".env",
   "language": "python",
   "name": "python3"
  },
  "language_info": {
   "codemirror_mode": {
    "name": "ipython",
    "version": 3
   },
   "file_extension": ".py",
   "mimetype": "text/x-python",
   "name": "python",
   "nbconvert_exporter": "python",
   "pygments_lexer": "ipython3",
   "version": "3.11.2"
  }
 },
 "nbformat": 4,
 "nbformat_minor": 2
}
